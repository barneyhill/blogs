{
 "cells": [
  {
   "cell_type": "code",
   "execution_count": 1,
   "metadata": {},
   "outputs": [],
   "source": [
    "import random\n",
    "import equadratures as eq\n",
    "import numpy as np\n",
    "import matplotlib.pyplot as plt\n",
    "\n",
    "from ModelTree import ModelTree\n",
    "from linear_regr import linear_regr\n",
    "\n",
    "from sklearn.metrics import mean_squared_error\n",
    "import scipy.stats as st"
   ]
  },
  {
   "cell_type": "code",
   "execution_count": 2,
   "metadata": {},
   "outputs": [],
   "source": [
    "def sample(N, f, sample_from):\n",
    "    X, y = [], []\n",
    "    for i in range(N):\n",
    "        x = sample_from[0] + random.random() * (sample_from[1] - sample_from[0])\n",
    "        X.append(np.array(x))\n",
    "        y.append(np.array(f(x, True)))\n",
    "    return np.array(X), np.array(y)"
   ]
  },
  {
   "cell_type": "code",
   "execution_count": 3,
   "metadata": {},
   "outputs": [],
   "source": [
    "def evaluate(model, f, sample_from):\n",
    "    X, y = sample(30, f, sample_from)\n",
    "    X = np.reshape(X, (X.shape[0], 1))\n",
    "    y = np.reshape(y, (y.shape[0], 1))\n",
    "\n",
    "    return mean_squared_error(y, model.predict(X))"
   ]
  },
  {
   "cell_type": "code",
   "execution_count": 4,
   "metadata": {},
   "outputs": [],
   "source": [
    "def plot(models, f, X_train, y_train):\n",
    "    \n",
    "    x_test = np.reshape(np.linspace(-.5, 1.5, 100), (100, 1))\n",
    "    X_train = np.reshape(X_train, (X_train.shape[0], 1))\n",
    "    y_train = np.reshape(y_train, (y_train.shape[0], 1))\n",
    "\n",
    "    fig = plt.figure(figsize=(16, 9), dpi= 50)\n",
    "    ax = fig.add_subplot(1,1,1)\n",
    "    \n",
    "    \n",
    "    \n",
    "    plt.scatter(X_train[:,0], y_train[:,0], marker='o', s=80, color='blue', label='Training data')\n",
    "    \n",
    "    plt.plot(x_test, [f(x, False) for x in x_test], 'k-', label='True function', color = 'black')\n",
    "\n",
    "    colours = ['green', 'red', 'purple']\n",
    "    i = 0\n",
    "    \n",
    "    for model in models:\n",
    "        model.fit(X_train,y_train)\n",
    "        \n",
    "        if model.__class__.__name__ == 'ModelTree':\n",
    "            print(f\"Function: {f.__name__}, Model: {model.model.__class__.__name__}, Error (MSE) in [-0.5,1.5]: {evaluate(model,f,[-0.5,1.5])}\")\n",
    "            plt.plot(x_test, model.predict(x_test), 'k-', label=str(model.model.__class__.__name__), color = colours[i])\n",
    "        \n",
    "        else:\n",
    "            print(f\"Function: {f.__name__}, Model: {model.__class__.__name__}, Error (MSE) in [-0.5,1.5]: {evaluate(model,f,[-0.5,1.5])}\")\n",
    "            plt.plot(x_test, model.predict(x_test), 'k-', label=str(model.__class__.__name__), color = colours[i])\n",
    "        \n",
    "        \n",
    "        plt.xlabel('$X$', fontsize=13)\n",
    "        plt.ylabel('$Y$', fontsize=13)\n",
    "        plt.xticks(fontsize=13)\n",
    "        plt.yticks(fontsize=13)\n",
    "        i += 1\n",
    "    \n",
    "    ax.set_ylim([-3,4])\n",
    "\n",
    "    plt.legend(prop={'size': 20})"
   ]
  },
  {
   "cell_type": "code",
   "execution_count": 5,
   "metadata": {},
   "outputs": [],
   "source": [
    "class Poly:\n",
    "    def __init__(self, order):\n",
    "        self.order = order\n",
    "        self.poly = False\n",
    "        \n",
    "    def fit(self, X, y):\n",
    "\n",
    "        param = eq.Parameter(distribution='Uniform', lower=0, upper=1., order=self.order)\n",
    "        myParameters = [param for i in range(1)] # one-line for loop for parameters\n",
    "        \n",
    "        myBasis = eq.Basis('Univariate')\n",
    "        self.poly = eq.Poly(myParameters, myBasis, method='least-squares', sampling_args={'sample-points':X, 'sample-outputs':y} )\n",
    "        self.poly.set_model()\n",
    "        \n",
    "    def predict(self, X):\n",
    "        return self.poly.get_polyfit(np.array(X))"
   ]
  },
  {
   "cell_type": "code",
   "execution_count": 6,
   "metadata": {},
   "outputs": [],
   "source": [
    "class LinTree:\n",
    "    def __init__(self):\n",
    "        self.poly = Poly(1)\n",
    "    \n",
    "    def fit(self,X,y):\n",
    "        self.poly.fit(X,y)\n",
    "        \n",
    "    def predict(self, X):\n",
    "        return self.poly.predict(X)\n",
    "    \n",
    "    def loss(self, X, y, y_pred):\n",
    "        return mean_squared_error(y, y_pred)\n",
    "    "
   ]
  },
  {
   "cell_type": "code",
   "execution_count": 7,
   "metadata": {},
   "outputs": [],
   "source": [
    "class PolyTree:\n",
    "    def __init__(self):\n",
    "        self.poly = Poly(3)\n",
    "    \n",
    "    def fit(self,X,y):\n",
    "        self.poly.fit(X,y)\n",
    "        \n",
    "    def predict(self, X):\n",
    "        return self.poly.predict(X)\n",
    "    \n",
    "    def loss(self, X, y, y_pred):\n",
    "        return mean_squared_error(y, y_pred)\n",
    "    "
   ]
  },
  {
   "cell_type": "code",
   "execution_count": 8,
   "metadata": {},
   "outputs": [],
   "source": [
    "def f_orig(x, noise):\n",
    "    \n",
    "    if noise:\n",
    "        noise = 0.1 * st.norm.rvs(0, 1)\n",
    "    else:\n",
    "        noise = 0\n",
    "\n",
    "    if x < 0.5:\n",
    "        return 20*x**3 + x + 0.5 + noise\n",
    "    elif x > 0.5:\n",
    "        return -x**2 + x + noise"
   ]
  },
  {
   "cell_type": "code",
   "execution_count": 9,
   "metadata": {},
   "outputs": [],
   "source": [
    "def f_osc(x, noise):\n",
    "    \n",
    "    if noise:\n",
    "        noise = 0.1 * st.norm.rvs(0, 1)\n",
    "    else:\n",
    "        noise = 0\n",
    "    if x < 0.5:\n",
    "        return 25*(x-0.25)**2 - 1.0625 + noise\n",
    "    elif x > 0.5:\n",
    "        return 25*(x-0.75)**2 - 1.0625 + noise"
   ]
  },
  {
   "cell_type": "code",
   "execution_count": 10,
   "metadata": {},
   "outputs": [],
   "source": [
    "def f_change(x, noise):\n",
    "    if noise: \n",
    "        noise = 0.1 * st.norm.rvs(0, 1)\n",
    "    else:\n",
    "        noise = 0\n",
    "    if x < 0.5:\n",
    "        return 0.5 + noise\n",
    "    else:\n",
    "        return 25*(x-0.75)**2 - 1.0625 + noise"
   ]
  },
  {
   "cell_type": "code",
   "execution_count": 11,
   "metadata": {},
   "outputs": [],
   "source": [
    "def f_anomaly(x, noise):\n",
    "    if noise: \n",
    "        noise = 0.1 * st.norm.rvs(0, 1)\n",
    "    else:\n",
    "        noise = 0\n",
    "    return 10*(x-0.5)**3 + noise"
   ]
  },
  {
   "cell_type": "markdown",
   "metadata": {},
   "source": [
    "Below we train the models with $x \\in [0,1]$ and evaluate the MSE of the model where $x \\in [-0.5,1.5]$"
   ]
  },
  {
   "cell_type": "code",
   "execution_count": 12,
   "metadata": {
    "scrolled": true
   },
   "outputs": [
    {
     "name": "stdout",
     "output_type": "stream",
     "text": [
      "Function: f_orig, Model: Poly, Error (MSE) in [-0.5,1.5]: 22.302505128359932\n"
     ]
    },
    {
     "ename": "NameError",
     "evalue": "name 'split_traverse_node' is not defined",
     "output_type": "error",
     "traceback": [
      "\u001b[0;31m---------------------------------------------------------------------------\u001b[0m",
      "\u001b[0;31mNameError\u001b[0m                                 Traceback (most recent call last)",
      "\u001b[0;32m<ipython-input-12-0764e10727cb>\u001b[0m in \u001b[0;36m<module>\u001b[0;34m\u001b[0m\n\u001b[1;32m     21\u001b[0m                            search_type=\"greedy\", n_search_grid=100)\n\u001b[1;32m     22\u001b[0m \u001b[0;34m\u001b[0m\u001b[0m\n\u001b[0;32m---> 23\u001b[0;31m     \u001b[0mplot\u001b[0m\u001b[0;34m(\u001b[0m\u001b[0;34m[\u001b[0m\u001b[0mpoly\u001b[0m\u001b[0;34m,\u001b[0m \u001b[0mpoly_model_tree\u001b[0m\u001b[0;34m]\u001b[0m\u001b[0;34m,\u001b[0m \u001b[0mf\u001b[0m\u001b[0;34m,\u001b[0m \u001b[0mX\u001b[0m\u001b[0;34m,\u001b[0m \u001b[0my\u001b[0m\u001b[0;34m)\u001b[0m\u001b[0;34m\u001b[0m\u001b[0;34m\u001b[0m\u001b[0m\n\u001b[0m\u001b[1;32m     24\u001b[0m \u001b[0;34m\u001b[0m\u001b[0m\n\u001b[1;32m     25\u001b[0m \u001b[0;34m\u001b[0m\u001b[0m\n",
      "\u001b[0;32m<ipython-input-4-6ae4952edb3b>\u001b[0m in \u001b[0;36mplot\u001b[0;34m(models, f, X_train, y_train)\u001b[0m\n\u001b[1;32m     18\u001b[0m \u001b[0;34m\u001b[0m\u001b[0m\n\u001b[1;32m     19\u001b[0m     \u001b[0;32mfor\u001b[0m \u001b[0mmodel\u001b[0m \u001b[0;32min\u001b[0m \u001b[0mmodels\u001b[0m\u001b[0;34m:\u001b[0m\u001b[0;34m\u001b[0m\u001b[0;34m\u001b[0m\u001b[0m\n\u001b[0;32m---> 20\u001b[0;31m         \u001b[0mmodel\u001b[0m\u001b[0;34m.\u001b[0m\u001b[0mfit\u001b[0m\u001b[0;34m(\u001b[0m\u001b[0mX_train\u001b[0m\u001b[0;34m,\u001b[0m\u001b[0my_train\u001b[0m\u001b[0;34m)\u001b[0m\u001b[0;34m\u001b[0m\u001b[0;34m\u001b[0m\u001b[0m\n\u001b[0m\u001b[1;32m     21\u001b[0m \u001b[0;34m\u001b[0m\u001b[0m\n\u001b[1;32m     22\u001b[0m         \u001b[0;32mif\u001b[0m \u001b[0mmodel\u001b[0m\u001b[0;34m.\u001b[0m\u001b[0m__class__\u001b[0m\u001b[0;34m.\u001b[0m\u001b[0m__name__\u001b[0m \u001b[0;34m==\u001b[0m \u001b[0;34m'ModelTree'\u001b[0m\u001b[0;34m:\u001b[0m\u001b[0;34m\u001b[0m\u001b[0;34m\u001b[0m\u001b[0m\n",
      "\u001b[0;32m~/blogs/motivation/ModelTree.py\u001b[0m in \u001b[0;36mfit\u001b[0;34m(self, X, y, verbose)\u001b[0m\n\u001b[1;32m    121\u001b[0m \u001b[0;34m\u001b[0m\u001b[0m\n\u001b[1;32m    122\u001b[0m         \u001b[0;31m# Construct tree\u001b[0m\u001b[0;34m\u001b[0m\u001b[0;34m\u001b[0m\u001b[0;34m\u001b[0m\u001b[0m\n\u001b[0;32m--> 123\u001b[0;31m         \u001b[0mself\u001b[0m\u001b[0;34m.\u001b[0m\u001b[0mtree\u001b[0m \u001b[0;34m=\u001b[0m \u001b[0m_build_tree\u001b[0m\u001b[0;34m(\u001b[0m\u001b[0mX\u001b[0m\u001b[0;34m,\u001b[0m \u001b[0my\u001b[0m\u001b[0;34m)\u001b[0m\u001b[0;34m\u001b[0m\u001b[0;34m\u001b[0m\u001b[0m\n\u001b[0m\u001b[1;32m    124\u001b[0m \u001b[0;34m\u001b[0m\u001b[0m\n\u001b[1;32m    125\u001b[0m     \u001b[0;31m# ======================\u001b[0m\u001b[0;34m\u001b[0m\u001b[0;34m\u001b[0m\u001b[0;34m\u001b[0m\u001b[0m\n",
      "\u001b[0;32m~/blogs/motivation/ModelTree.py\u001b[0m in \u001b[0;36m_build_tree\u001b[0;34m(X, y)\u001b[0m\n\u001b[1;32m    116\u001b[0m             \u001b[0mcontainer\u001b[0m \u001b[0;34m=\u001b[0m \u001b[0;34m{\u001b[0m\u001b[0;34m\"index_node_global\"\u001b[0m\u001b[0;34m:\u001b[0m \u001b[0;36m0\u001b[0m\u001b[0;34m}\u001b[0m  \u001b[0;31m# mutatable container\u001b[0m\u001b[0;34m\u001b[0m\u001b[0;34m\u001b[0m\u001b[0m\n\u001b[1;32m    117\u001b[0m             \u001b[0mroot\u001b[0m \u001b[0;34m=\u001b[0m \u001b[0m_create_node\u001b[0m\u001b[0;34m(\u001b[0m\u001b[0mX\u001b[0m\u001b[0;34m,\u001b[0m \u001b[0my\u001b[0m\u001b[0;34m,\u001b[0m \u001b[0;36m0\u001b[0m\u001b[0;34m,\u001b[0m \u001b[0mcontainer\u001b[0m\u001b[0;34m)\u001b[0m  \u001b[0;31m# depth 0 root node\u001b[0m\u001b[0;34m\u001b[0m\u001b[0;34m\u001b[0m\u001b[0m\n\u001b[0;32m--> 118\u001b[0;31m             \u001b[0msplit_traverse_node\u001b[0m\u001b[0;34m(\u001b[0m\u001b[0mroot\u001b[0m\u001b[0;34m,\u001b[0m \u001b[0mcontainer\u001b[0m\u001b[0;34m)\u001b[0m  \u001b[0;31m# split and traverse root node\u001b[0m\u001b[0;34m\u001b[0m\u001b[0;34m\u001b[0m\u001b[0m\n\u001b[0m\u001b[1;32m    119\u001b[0m \u001b[0;34m\u001b[0m\u001b[0m\n\u001b[1;32m    120\u001b[0m             \u001b[0;32mreturn\u001b[0m \u001b[0mroot\u001b[0m\u001b[0;34m\u001b[0m\u001b[0;34m\u001b[0m\u001b[0m\n",
      "\u001b[0;31mNameError\u001b[0m: name 'split_traverse_node' is not defined"
     ]
    },
    {
     "data": {
      "image/png": "[encoded data removed]",
      "text/plain": [
       "<Figure size 800x450 with 1 Axes>"
      ]
     },
     "metadata": {
      "needs_background": "light"
     },
     "output_type": "display_data"
    }
   ],
   "source": [
    "i = 0\n",
    "samples = [30,15,30,20,20]\n",
    "for f in [f_orig, f_anomaly, f_anomaly]:\n",
    "    X, y = sample(samples[i], f, [0,1])\n",
    "    \n",
    "    if i == 3:\n",
    "        X = np.append(X,0.5)\n",
    "        y = np.append(y,3)\n",
    "        \n",
    "    X = np.reshape(X, (X.shape[0], 1))\n",
    "    y = np.reshape(y, (y.shape[0], 1))\n",
    "\n",
    "    poly = Poly(3)\n",
    "\n",
    "    poly_model = PolyTree()\n",
    "    poly_model_tree = ModelTree(poly_model, max_depth=3, min_samples_leaf=10,\n",
    "                           search_type=\"greedy\", n_search_grid=100)\n",
    "    \n",
    "    linear_model = LinTree()\n",
    "    linear_regr_tree = ModelTree(linear_model, max_depth=3, min_samples_leaf=10,\n",
    "                           search_type=\"greedy\", n_search_grid=100)\n",
    "\n",
    "    plot([poly, poly_model_tree], f, X, y)\n",
    "    \n",
    "    \n",
    "    \n",
    "    i+=1"
   ]
  },
  {
   "cell_type": "markdown",
   "metadata": {},
   "source": [
    "# Regression using polynomial trees \n",
    "This blog post describes and justifies the implementation of a new regression method for Effective Quadratures (EQ). We hope to make it clear the cases in which polynomial regression trees would be well suited, as well as highlight some of the drawbacks associated with this method. \n",
    "\n",
    "Currently in EQ, global polynomial regresssion has been implemented. This method provides the ability to quickly generate a surrogate model that is robust to noise in the training data as demonstrated below. On the other hand it performs poorly with  functions such as:\n",
    " - Discontinuous functions\n",
    " - Polynomial functions with a order change\n",
    "\n",
    "In order to justify these claims we use  [Anson Wong's model tree](https://github.com/ankonzoid/LearningX/tree/master/advanced_ML/model_tree) with the EQ Poly class as the model. It should be noted that for simplicity a few restrictions have been made. The main restriction made is that a fixed order of 3 is chosen for all polynomials in the following examples. Additionally all example datasets are 2 dimensional for the purpose of visualisation. \n",
    "\n",
    "A discontinuous function $f(x)$ with $x \\in [0,1]$ is constructed from two polynomial functions with added noise. Using 30 training samples from the function we can see the PolyTree is able to identify the break between the functions, resulting in signifigantly less error when compared to the global Poly approximation"
   ]
  },
  {
   "cell_type": "code",
   "execution_count": null,
   "metadata": {
    "scrolled": true
   },
   "outputs": [],
   "source": [
    "X, y = sample(30, f_orig, [0,1])\n",
    "X = np.reshape(X, (X.shape[0], 1))\n",
    "y = np.reshape(y, (y.shape[0], 1))\n",
    "\n",
    "poly = Poly(3)\n",
    "\n",
    "poly_model = PolyTree()\n",
    "poly_model_tree = ModelTree(poly_model, max_depth=3, min_samples_leaf=10,\n",
    "                       search_type=\"greedy\", n_search_grid=100)\n",
    "\n",
    "plot([poly, poly_model_tree], f_orig, X, y)\n"
   ]
  },
  {
   "cell_type": "markdown",
   "metadata": {},
   "source": [
    "Another function $g(x)$ with $x \\in [0,1]$ is constructed from two polynomial functions with added noise. The two polynomial functions have different orders and, along with the previous example, demonstrate the ability for the tree to adapt to functions with several functional forms."
   ]
  },
  {
   "cell_type": "code",
   "execution_count": null,
   "metadata": {
    "scrolled": true
   },
   "outputs": [],
   "source": [
    "X, y = sample(30, f_change, [0,1])\n",
    "X = np.reshape(X, (X.shape[0], 1))\n",
    "y = np.reshape(y, (y.shape[0], 1))\n",
    "\n",
    "poly = Poly(3)\n",
    "\n",
    "poly_model = PolyTree()\n",
    "poly_model_tree = ModelTree(poly_model, max_depth=3, min_samples_leaf=10,\n",
    "                       search_type=\"greedy\", n_search_grid=100)\n",
    "\n",
    "linear_model = LinTree()\n",
    "linear_regr_tree = ModelTree(linear_model, max_depth=3, min_samples_leaf=10,\n",
    "                           search_type=\"greedy\", n_search_grid=100)\n",
    "\n",
    "plot([poly, poly_model_tree], f_change, X, y)"
   ]
  },
  {
   "cell_type": "markdown",
   "metadata": {},
   "source": [
    "One limitation of the polynomial tree method is that as the training data is divided, overfitting becomes more likely. A demonstration of this is seen below, where the global Poly method approximation is relatively uneffected by an anomaly at $(0,1)$ in comparison to the tree method, which is significantly skewed."
   ]
  },
  {
   "cell_type": "code",
   "execution_count": 13,
   "metadata": {},
   "outputs": [
    {
     "name": "stdout",
     "output_type": "stream",
     "text": [
      "Function: f_anomaly, Model: Poly, Error (MSE) in [-0.5,1.5]: 0.04255486165016209\n"
     ]
    },
    {
     "ename": "NameError",
     "evalue": "name 'split_traverse_node' is not defined",
     "output_type": "error",
     "traceback": [
      "\u001b[0;31m---------------------------------------------------------------------------\u001b[0m",
      "\u001b[0;31mNameError\u001b[0m                                 Traceback (most recent call last)",
      "\u001b[0;32m<ipython-input-13-39653efe4683>\u001b[0m in \u001b[0;36m<module>\u001b[0;34m\u001b[0m\n\u001b[1;32m     10\u001b[0m                        search_type=\"greedy\", n_search_grid=100)\n\u001b[1;32m     11\u001b[0m \u001b[0;34m\u001b[0m\u001b[0m\n\u001b[0;32m---> 12\u001b[0;31m \u001b[0mplot\u001b[0m\u001b[0;34m(\u001b[0m\u001b[0;34m[\u001b[0m\u001b[0mpoly\u001b[0m\u001b[0;34m,\u001b[0m \u001b[0mpoly_model_tree\u001b[0m\u001b[0;34m]\u001b[0m\u001b[0;34m,\u001b[0m \u001b[0mf_anomaly\u001b[0m\u001b[0;34m,\u001b[0m \u001b[0mX\u001b[0m\u001b[0;34m,\u001b[0m \u001b[0my\u001b[0m\u001b[0;34m)\u001b[0m\u001b[0;34m\u001b[0m\u001b[0;34m\u001b[0m\u001b[0m\n\u001b[0m\u001b[1;32m     13\u001b[0m \u001b[0;34m\u001b[0m\u001b[0m\n\u001b[1;32m     14\u001b[0m \u001b[0mX\u001b[0m \u001b[0;34m=\u001b[0m \u001b[0mnp\u001b[0m\u001b[0;34m.\u001b[0m\u001b[0mappend\u001b[0m\u001b[0;34m(\u001b[0m\u001b[0mX\u001b[0m\u001b[0;34m,\u001b[0m\u001b[0mnp\u001b[0m\u001b[0;34m.\u001b[0m\u001b[0marray\u001b[0m\u001b[0;34m(\u001b[0m\u001b[0;34m[\u001b[0m\u001b[0;36m0\u001b[0m\u001b[0;34m]\u001b[0m\u001b[0;34m)\u001b[0m\u001b[0;34m)\u001b[0m\u001b[0;34m\u001b[0m\u001b[0;34m\u001b[0m\u001b[0m\n",
      "\u001b[0;32m<ipython-input-4-6ae4952edb3b>\u001b[0m in \u001b[0;36mplot\u001b[0;34m(models, f, X_train, y_train)\u001b[0m\n\u001b[1;32m     18\u001b[0m \u001b[0;34m\u001b[0m\u001b[0m\n\u001b[1;32m     19\u001b[0m     \u001b[0;32mfor\u001b[0m \u001b[0mmodel\u001b[0m \u001b[0;32min\u001b[0m \u001b[0mmodels\u001b[0m\u001b[0;34m:\u001b[0m\u001b[0;34m\u001b[0m\u001b[0;34m\u001b[0m\u001b[0m\n\u001b[0;32m---> 20\u001b[0;31m         \u001b[0mmodel\u001b[0m\u001b[0;34m.\u001b[0m\u001b[0mfit\u001b[0m\u001b[0;34m(\u001b[0m\u001b[0mX_train\u001b[0m\u001b[0;34m,\u001b[0m\u001b[0my_train\u001b[0m\u001b[0;34m)\u001b[0m\u001b[0;34m\u001b[0m\u001b[0;34m\u001b[0m\u001b[0m\n\u001b[0m\u001b[1;32m     21\u001b[0m \u001b[0;34m\u001b[0m\u001b[0m\n\u001b[1;32m     22\u001b[0m         \u001b[0;32mif\u001b[0m \u001b[0mmodel\u001b[0m\u001b[0;34m.\u001b[0m\u001b[0m__class__\u001b[0m\u001b[0;34m.\u001b[0m\u001b[0m__name__\u001b[0m \u001b[0;34m==\u001b[0m \u001b[0;34m'ModelTree'\u001b[0m\u001b[0;34m:\u001b[0m\u001b[0;34m\u001b[0m\u001b[0;34m\u001b[0m\u001b[0m\n",
      "\u001b[0;32m~/blogs/motivation/ModelTree.py\u001b[0m in \u001b[0;36mfit\u001b[0;34m(self, X, y, verbose)\u001b[0m\n\u001b[1;32m    121\u001b[0m \u001b[0;34m\u001b[0m\u001b[0m\n\u001b[1;32m    122\u001b[0m         \u001b[0;31m# Construct tree\u001b[0m\u001b[0;34m\u001b[0m\u001b[0;34m\u001b[0m\u001b[0;34m\u001b[0m\u001b[0m\n\u001b[0;32m--> 123\u001b[0;31m         \u001b[0mself\u001b[0m\u001b[0;34m.\u001b[0m\u001b[0mtree\u001b[0m \u001b[0;34m=\u001b[0m \u001b[0m_build_tree\u001b[0m\u001b[0;34m(\u001b[0m\u001b[0mX\u001b[0m\u001b[0;34m,\u001b[0m \u001b[0my\u001b[0m\u001b[0;34m)\u001b[0m\u001b[0;34m\u001b[0m\u001b[0;34m\u001b[0m\u001b[0m\n\u001b[0m\u001b[1;32m    124\u001b[0m \u001b[0;34m\u001b[0m\u001b[0m\n\u001b[1;32m    125\u001b[0m     \u001b[0;31m# ======================\u001b[0m\u001b[0;34m\u001b[0m\u001b[0;34m\u001b[0m\u001b[0;34m\u001b[0m\u001b[0m\n",
      "\u001b[0;32m~/blogs/motivation/ModelTree.py\u001b[0m in \u001b[0;36m_build_tree\u001b[0;34m(X, y)\u001b[0m\n\u001b[1;32m    116\u001b[0m             \u001b[0mcontainer\u001b[0m \u001b[0;34m=\u001b[0m \u001b[0;34m{\u001b[0m\u001b[0;34m\"index_node_global\"\u001b[0m\u001b[0;34m:\u001b[0m \u001b[0;36m0\u001b[0m\u001b[0;34m}\u001b[0m  \u001b[0;31m# mutatable container\u001b[0m\u001b[0;34m\u001b[0m\u001b[0;34m\u001b[0m\u001b[0m\n\u001b[1;32m    117\u001b[0m             \u001b[0mroot\u001b[0m \u001b[0;34m=\u001b[0m \u001b[0m_create_node\u001b[0m\u001b[0;34m(\u001b[0m\u001b[0mX\u001b[0m\u001b[0;34m,\u001b[0m \u001b[0my\u001b[0m\u001b[0;34m,\u001b[0m \u001b[0;36m0\u001b[0m\u001b[0;34m,\u001b[0m \u001b[0mcontainer\u001b[0m\u001b[0;34m)\u001b[0m  \u001b[0;31m# depth 0 root node\u001b[0m\u001b[0;34m\u001b[0m\u001b[0;34m\u001b[0m\u001b[0m\n\u001b[0;32m--> 118\u001b[0;31m             \u001b[0msplit_traverse_node\u001b[0m\u001b[0;34m(\u001b[0m\u001b[0mroot\u001b[0m\u001b[0;34m,\u001b[0m \u001b[0mcontainer\u001b[0m\u001b[0;34m)\u001b[0m  \u001b[0;31m# split and traverse root node\u001b[0m\u001b[0;34m\u001b[0m\u001b[0;34m\u001b[0m\u001b[0m\n\u001b[0m\u001b[1;32m    119\u001b[0m \u001b[0;34m\u001b[0m\u001b[0m\n\u001b[1;32m    120\u001b[0m             \u001b[0;32mreturn\u001b[0m \u001b[0mroot\u001b[0m\u001b[0;34m\u001b[0m\u001b[0;34m\u001b[0m\u001b[0m\n",
      "\u001b[0;31mNameError\u001b[0m: name 'split_traverse_node' is not defined"
     ]
    },
    {
     "data": {
      "image/png": "[encoded data removed]",
      "text/plain": [
       "<Figure size 800x450 with 1 Axes>"
      ]
     },
     "metadata": {
      "needs_background": "light"
     },
     "output_type": "display_data"
    }
   ],
   "source": [
    "X, y = sample(30, f_anomaly, [0,1])\n",
    "\n",
    "X = np.reshape(X, (X.shape[0], 1))\n",
    "y = np.reshape(y, (y.shape[0], 1))\n",
    "\n",
    "poly = Poly(3)\n",
    "\n",
    "poly_model = PolyTree()\n",
    "poly_model_tree = ModelTree(poly_model, max_depth=3, min_samples_leaf=10,\n",
    "                       search_type=\"greedy\", n_search_grid=100)\n",
    "\n",
    "plot([poly, poly_model_tree], f_anomaly, X, y)\n",
    "\n",
    "X = np.append(X,np.array([0]))\n",
    "y = np.append(y,np.array([1]))\n",
    "\n",
    "plot([poly, poly_model_tree], f_anomaly, X, y)\n"
   ]
  },
  {
   "cell_type": "markdown",
   "metadata": {},
   "source": [
    "Another comparison to be made is one between a linear and polynomial regression tree. The main reason we would not want to implement a linear regression tree is that the functions we want to model are very rarely linear. Due to this linear model trees will require a greater depth and as mentioned in the previous example, a greater depth will generally result in more overfitting. In the following example we adjust the hyperparameters of the linear tree so that its model has roughly the same error as the polynomial model. This results in 7 separate linear models compared to the 2 polynomial models used. "
   ]
  },
  {
   "cell_type": "code",
   "execution_count": null,
   "metadata": {},
   "outputs": [],
   "source": [
    "X, y = sample(30, f_osc, [0,1])\n",
    "\n",
    "X = np.reshape(X, (X.shape[0], 1))\n",
    "y = np.reshape(y, (y.shape[0], 1))\n",
    "\n",
    "poly = Poly(3)\n",
    "\n",
    "poly_model = PolyTree()\n",
    "poly_model_tree = ModelTree(poly_model, max_depth=3, min_samples_leaf=10,\n",
    "                       search_type=\"greedy\", n_search_grid=100)\n",
    "\n",
    "linear_model = LinTree()\n",
    "linear_regr_tree = ModelTree(linear_model, max_depth=3, min_samples_leaf=1,\n",
    "                       search_type=\"greedy\", n_search_grid=100)\n",
    "\n",
    "plot([poly, poly_model_tree, linear_regr_tree], f_osc, X, y)"
   ]
  },
  {
   "cell_type": "markdown",
   "metadata": {},
   "source": [
    "# Conclusion and future plans\n",
    "In this blog we have demonstrated the benefits of implementing an orthogonal polynomial regression tree class in EQ, as well as highlighted examples in which it would not be a suitable model to use. Over the coming weeks we will compare various approaches for deciding where to \"split\" the tree."
   ]
  },
  {
   "cell_type": "code",
   "execution_count": 11,
   "metadata": {},
   "outputs": [],
   "source": [
    "def _fit_model(X, y, order):\n",
    "\n",
    "\tN, d = X.shape\n",
    "\tmyParameters = []\n",
    "\n",
    "\tfor d in range(d):\n",
    "\t\td = [X[i,d] for i in range(N)]\n",
    "\t\td_min = max(d)\n",
    "\t\td_max = min(d)\n",
    "\t\tmyParameters.append(Parameter(distribution='Uniform', lower=d_min, upper=d_max, order=order))\n",
    "\n",
    "\tmyBasis = Basis('tensor-grid')\n",
    "\tpoly = eq.Poly(myParameters, myBasis, method='least-squares', sampling_args={'sample-points':X, 'sample-outputs':y} )\n",
    "\tpoly.set_model()\n",
    "\n",
    "\treturn poly"
   ]
  },
  {
   "cell_type": "code",
   "execution_count": 26,
   "metadata": {},
   "outputs": [
    {
     "ename": "ValueError",
     "evalue": "not enough values to unpack (expected 2, got 1)",
     "output_type": "error",
     "traceback": [
      "\u001b[0;31m---------------------------------------------------------------------------\u001b[0m",
      "\u001b[0;31mValueError\u001b[0m                                Traceback (most recent call last)",
      "\u001b[0;32m<ipython-input-26-413ce30be00e>\u001b[0m in \u001b[0;36m<module>\u001b[0;34m\u001b[0m\n\u001b[1;32m      1\u001b[0m \u001b[0mX\u001b[0m\u001b[0;34m,\u001b[0m \u001b[0my\u001b[0m \u001b[0;34m=\u001b[0m \u001b[0msample\u001b[0m\u001b[0;34m(\u001b[0m\u001b[0;36m30\u001b[0m\u001b[0;34m,\u001b[0m \u001b[0mf_osc\u001b[0m\u001b[0;34m,\u001b[0m \u001b[0;34m[\u001b[0m\u001b[0;36m0\u001b[0m\u001b[0;34m,\u001b[0m\u001b[0;36m1\u001b[0m\u001b[0;34m]\u001b[0m\u001b[0;34m)\u001b[0m\u001b[0;34m\u001b[0m\u001b[0;34m\u001b[0m\u001b[0m\n\u001b[0;32m----> 2\u001b[0;31m \u001b[0m_fit_model\u001b[0m\u001b[0;34m(\u001b[0m\u001b[0mX\u001b[0m\u001b[0;34m,\u001b[0m\u001b[0my\u001b[0m\u001b[0;34m,\u001b[0m\u001b[0;36m3\u001b[0m\u001b[0;34m)\u001b[0m\u001b[0;34m\u001b[0m\u001b[0;34m\u001b[0m\u001b[0m\n\u001b[0m",
      "\u001b[0;32m<ipython-input-11-fcb8abe66109>\u001b[0m in \u001b[0;36m_fit_model\u001b[0;34m(X, y, order)\u001b[0m\n\u001b[1;32m      1\u001b[0m \u001b[0;32mdef\u001b[0m \u001b[0m_fit_model\u001b[0m\u001b[0;34m(\u001b[0m\u001b[0mX\u001b[0m\u001b[0;34m,\u001b[0m \u001b[0my\u001b[0m\u001b[0;34m,\u001b[0m \u001b[0morder\u001b[0m\u001b[0;34m)\u001b[0m\u001b[0;34m:\u001b[0m\u001b[0;34m\u001b[0m\u001b[0;34m\u001b[0m\u001b[0m\n\u001b[1;32m      2\u001b[0m \u001b[0;34m\u001b[0m\u001b[0m\n\u001b[0;32m----> 3\u001b[0;31m         \u001b[0mN\u001b[0m\u001b[0;34m,\u001b[0m \u001b[0md\u001b[0m \u001b[0;34m=\u001b[0m \u001b[0mX\u001b[0m\u001b[0;34m.\u001b[0m\u001b[0mshape\u001b[0m\u001b[0;34m\u001b[0m\u001b[0;34m\u001b[0m\u001b[0m\n\u001b[0m\u001b[1;32m      4\u001b[0m         \u001b[0mmyParameters\u001b[0m \u001b[0;34m=\u001b[0m \u001b[0;34m[\u001b[0m\u001b[0;34m]\u001b[0m\u001b[0;34m\u001b[0m\u001b[0;34m\u001b[0m\u001b[0m\n\u001b[1;32m      5\u001b[0m \u001b[0;34m\u001b[0m\u001b[0m\n",
      "\u001b[0;31mValueError\u001b[0m: not enough values to unpack (expected 2, got 1)"
     ]
    }
   ],
   "source": [
    "X, y = sample(30, f_osc, [0,1])\n",
    "_fit_model(X,y,3)"
   ]
  },
  {
   "cell_type": "code",
   "execution_count": 8,
   "metadata": {},
   "outputs": [
    {
     "name": "stdout",
     "output_type": "stream",
     "text": [
      "(0.28203491932311864, 0.08037933671290215)\n",
      "(-0.07609245756639692, 0.10345546386717536)\n",
      "(-0.36278655652729447, 0.10847294901201832)\n"
     ]
    }
   ],
   "source": [
    "import sys\n",
    "sys.path.append('~/Effective-Quadratures/equadratures/')\n",
    "from equadratures import polytree"
   ]
  },
  {
   "cell_type": "code",
   "execution_count": 9,
   "metadata": {},
   "outputs": [],
   "source": [
    "import random\n",
    "\n",
    "def f(x1,x2):\n",
    "    return x1 ** 2 - x2 ** 2\n",
    "\n",
    "def sample():\n",
    "    X, y = [], []\n",
    "    for i in range(50):\n",
    "        x1, x2 = random.random(), random.random()        \n",
    "        X.append(np.array([x1, x2]))\n",
    "        y.append(np.array(f(x1, x2)))\n",
    "    return np.array(X), np.array(y)\n",
    "\n",
    "X, y = sample()\n",
    "y = np.reshape(y, (y.shape[0], 1))\n",
    "\n",
    "tree = PolyTree()\n",
    "tree.fit(X, y)\n",
    "\n",
    "for poly in tree.get_polys():\n",
    "    print(poly.get_mean_and_variance())\n"
   ]
  },
  {
   "cell_type": "code",
   "execution_count": 10,
   "metadata": {},
   "outputs": [
    {
     "data": {
      "text/plain": [
       "<equadratures.polytree.PolyTree at 0x7f5daf8f4e48>"
      ]
     },
     "execution_count": 10,
     "metadata": {},
     "output_type": "execute_result"
    }
   ],
   "source": []
  },
  {
   "cell_type": "code",
   "execution_count": null,
   "metadata": {},
   "outputs": [],
   "source": []
  }
 ],
 "metadata": {
  "kernelspec": {
   "display_name": "Python 3",
   "language": "python",
   "name": "python3"
  },
  "language_info": {
   "codemirror_mode": {
    "name": "ipython",
    "version": 3
   },
   "file_extension": ".py",
   "mimetype": "text/x-python",
   "name": "python",
   "nbconvert_exporter": "python",
   "pygments_lexer": "ipython3",
   "version": "3.6.10"
  }
 },
 "nbformat": 4,
 "nbformat_minor": 4
}
