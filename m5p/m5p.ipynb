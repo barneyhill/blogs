{
 "cells": [
  {
   "cell_type": "code",
   "execution_count": 1,
   "metadata": {},
   "outputs": [],
   "source": [
    "from m5p import PolyTree\n",
    "import pandas as pd\n",
    "from sklearn.model_selection import train_test_split\n",
    "from matplotlib import pyplot as plt\n",
    "from sklearn.preprocessing import StandardScaler,MinMaxScaler\n",
    "from sklearn.metrics import mean_absolute_error"
   ]
  },
  {
   "cell_type": "markdown",
   "metadata": {},
   "source": [
    "# Cleaning and Formatting data"
   ]
  },
  {
   "cell_type": "code",
   "execution_count": 2,
   "metadata": {},
   "outputs": [],
   "source": [
    "data = pd.read_table('airfoil_self_noise.dat',names=[\"frequency\",\"aoa\",\"chord\",\"vinf\",\"delta\",\"noise\"])\n",
    "features = ['frequency','aoa','chord','vinf','delta']\n",
    "target   = 'noise'\n",
    "Xorig = data[features]\n",
    "y = data[target]\n",
    "nu = 1.568e-5 \n",
    "X = Xorig.copy()\n",
    "X['Re'] = X['chord']*X['vinf']/nu\n",
    "X=X.drop(columns=['chord','vinf'])\n",
    "#X['aoa'] = np.abs(X['aoa'])\n",
    "features = X.keys()\n",
    "X_train, X_test, y_train, y_test = train_test_split(X, y, train_size=0.9,random_state=42)\n",
    "scaler = MinMaxScaler().fit(X_train)\n",
    "\n",
    "X_train_temp = scaler.transform(X_train)\n",
    "X_test_temp  = scaler.transform(X_test)\n",
    "\n",
    "y_train = y_train.to_numpy().reshape((y_train.shape[0],1))\n",
    "y_test = y_test.to_numpy().reshape((y_test.shape[0],1))"
   ]
  },
  {
   "cell_type": "markdown",
   "metadata": {},
   "source": [
    "# Plot of how performance of how PolyTree performance varies with order and min_samples_leaf"
   ]
  },
  {
   "cell_type": "code",
   "execution_count": 3,
   "metadata": {},
   "outputs": [
    {
     "ename": "NameError",
     "evalue": "name 'np' is not defined",
     "output_type": "error",
     "traceback": [
      "\u001b[0;31m---------------------------------------------------------------------------\u001b[0m",
      "\u001b[0;31mNameError\u001b[0m                                 Traceback (most recent call last)",
      "\u001b[0;32m<ipython-input-3-677c2e334ffa>\u001b[0m in \u001b[0;36m<module>\u001b[0;34m\u001b[0m\n\u001b[1;32m      7\u001b[0m     \u001b[0;32mfor\u001b[0m \u001b[0mmin_samples_leaf\u001b[0m \u001b[0;32min\u001b[0m \u001b[0mrange\u001b[0m\u001b[0;34m(\u001b[0m\u001b[0;36m30\u001b[0m\u001b[0;34m,\u001b[0m\u001b[0;36m200\u001b[0m\u001b[0;34m,\u001b[0m\u001b[0;36m10\u001b[0m\u001b[0;34m)\u001b[0m\u001b[0;34m:\u001b[0m\u001b[0;34m\u001b[0m\u001b[0;34m\u001b[0m\u001b[0m\n\u001b[1;32m      8\u001b[0m         \u001b[0mtree\u001b[0m \u001b[0;34m=\u001b[0m \u001b[0mPolyTree\u001b[0m\u001b[0;34m(\u001b[0m\u001b[0mmin_samples_leaf\u001b[0m\u001b[0;34m=\u001b[0m\u001b[0mmin_samples_leaf\u001b[0m\u001b[0;34m,\u001b[0m \u001b[0mbasis\u001b[0m\u001b[0;34m=\u001b[0m\u001b[0;34m\"total-order\"\u001b[0m\u001b[0;34m,\u001b[0m \u001b[0mmax_depth\u001b[0m\u001b[0;34m=\u001b[0m\u001b[0;36m9999999\u001b[0m\u001b[0;34m,\u001b[0m \u001b[0morder\u001b[0m\u001b[0;34m=\u001b[0m\u001b[0morder\u001b[0m\u001b[0;34m)\u001b[0m\u001b[0;34m\u001b[0m\u001b[0;34m\u001b[0m\u001b[0m\n\u001b[0;32m----> 9\u001b[0;31m         \u001b[0mtree\u001b[0m\u001b[0;34m.\u001b[0m\u001b[0mfit\u001b[0m\u001b[0;34m(\u001b[0m\u001b[0mX_train_temp\u001b[0m\u001b[0;34m,\u001b[0m \u001b[0my_train\u001b[0m\u001b[0;34m)\u001b[0m\u001b[0;34m\u001b[0m\u001b[0;34m\u001b[0m\u001b[0m\n\u001b[0m\u001b[1;32m     10\u001b[0m         \u001b[0my_plot\u001b[0m\u001b[0;34m[\u001b[0m\u001b[0morder\u001b[0m\u001b[0;34m-\u001b[0m\u001b[0;36m1\u001b[0m\u001b[0;34m]\u001b[0m\u001b[0;34m.\u001b[0m\u001b[0mappend\u001b[0m\u001b[0;34m(\u001b[0m\u001b[0mmean_absolute_error\u001b[0m\u001b[0;34m(\u001b[0m\u001b[0my_train\u001b[0m\u001b[0;34m,\u001b[0m \u001b[0mtree\u001b[0m\u001b[0;34m.\u001b[0m\u001b[0mpredict\u001b[0m\u001b[0;34m(\u001b[0m\u001b[0mX_train_temp\u001b[0m\u001b[0;34m)\u001b[0m\u001b[0;34m)\u001b[0m\u001b[0;34m)\u001b[0m\u001b[0;34m\u001b[0m\u001b[0;34m\u001b[0m\u001b[0m\n\u001b[1;32m     11\u001b[0m         \u001b[0mX_plot\u001b[0m\u001b[0;34m[\u001b[0m\u001b[0morder\u001b[0m\u001b[0;34m-\u001b[0m\u001b[0;36m1\u001b[0m\u001b[0;34m]\u001b[0m\u001b[0;34m.\u001b[0m\u001b[0mappend\u001b[0m\u001b[0;34m(\u001b[0m\u001b[0mmin_samples_leaf\u001b[0m\u001b[0;34m)\u001b[0m\u001b[0;34m\u001b[0m\u001b[0;34m\u001b[0m\u001b[0m\n",
      "\u001b[0;32m~/blogs/m5p/m5p.py\u001b[0m in \u001b[0;36mfit\u001b[0;34m(self, X, y)\u001b[0m\n\u001b[1;32m    180\u001b[0m                         \u001b[0;32mreturn\u001b[0m \u001b[0mroot\u001b[0m\u001b[0;34m\u001b[0m\u001b[0;34m\u001b[0m\u001b[0m\n\u001b[1;32m    181\u001b[0m \u001b[0;34m\u001b[0m\u001b[0m\n\u001b[0;32m--> 182\u001b[0;31m                 \u001b[0mself\u001b[0m\u001b[0;34m.\u001b[0m\u001b[0mtree\u001b[0m \u001b[0;34m=\u001b[0m \u001b[0m_build_tree\u001b[0m\u001b[0;34m(\u001b[0m\u001b[0;34m)\u001b[0m\u001b[0;34m\u001b[0m\u001b[0;34m\u001b[0m\u001b[0m\n\u001b[0m\u001b[1;32m    183\u001b[0m                 \u001b[0mself\u001b[0m\u001b[0;34m.\u001b[0m\u001b[0mtree\u001b[0m \u001b[0;34m=\u001b[0m \u001b[0m_prune\u001b[0m\u001b[0;34m(\u001b[0m\u001b[0mself\u001b[0m\u001b[0;34m.\u001b[0m\u001b[0mtree\u001b[0m\u001b[0;34m)\u001b[0m\u001b[0;34m\u001b[0m\u001b[0;34m\u001b[0m\u001b[0m\n\u001b[1;32m    184\u001b[0m \u001b[0;34m\u001b[0m\u001b[0m\n",
      "\u001b[0;32m~/blogs/m5p/m5p.py\u001b[0m in \u001b[0;36m_build_tree\u001b[0;34m()\u001b[0m\n\u001b[1;32m    175\u001b[0m \u001b[0;34m\u001b[0m\u001b[0m\n\u001b[1;32m    176\u001b[0m                         \u001b[0mcontainer\u001b[0m \u001b[0;34m=\u001b[0m \u001b[0;34m{\u001b[0m\u001b[0;34m\"index_node_global\"\u001b[0m\u001b[0;34m:\u001b[0m \u001b[0;36m0\u001b[0m\u001b[0;34m}\u001b[0m\u001b[0;34m\u001b[0m\u001b[0;34m\u001b[0m\u001b[0m\n\u001b[0;32m--> 177\u001b[0;31m                         \u001b[0mroot\u001b[0m \u001b[0;34m=\u001b[0m \u001b[0m_create_node\u001b[0m\u001b[0;34m(\u001b[0m\u001b[0mX\u001b[0m\u001b[0;34m,\u001b[0m \u001b[0my\u001b[0m\u001b[0;34m,\u001b[0m \u001b[0;36m0\u001b[0m\u001b[0;34m,\u001b[0m \u001b[0mcontainer\u001b[0m\u001b[0;34m)\u001b[0m\u001b[0;34m\u001b[0m\u001b[0;34m\u001b[0m\u001b[0m\n\u001b[0m\u001b[1;32m    178\u001b[0m                         \u001b[0m_split_traverse_node\u001b[0m\u001b[0;34m(\u001b[0m\u001b[0mroot\u001b[0m\u001b[0;34m,\u001b[0m \u001b[0mcontainer\u001b[0m\u001b[0;34m)\u001b[0m\u001b[0;34m\u001b[0m\u001b[0;34m\u001b[0m\u001b[0m\n\u001b[1;32m    179\u001b[0m \u001b[0;34m\u001b[0m\u001b[0m\n",
      "\u001b[0;32m~/blogs/m5p/m5p.py\u001b[0m in \u001b[0;36m_create_node\u001b[0;34m(X, y, depth, container)\u001b[0m\n\u001b[1;32m    142\u001b[0m \t\t\t\tnode = {\"name\": \"node\",\n\u001b[1;32m    143\u001b[0m                                                 \u001b[0;34m\"index\"\u001b[0m\u001b[0;34m:\u001b[0m \u001b[0mcontainer\u001b[0m\u001b[0;34m[\u001b[0m\u001b[0;34m\"index_node_global\"\u001b[0m\u001b[0;34m]\u001b[0m\u001b[0;34m,\u001b[0m\u001b[0;34m\u001b[0m\u001b[0;34m\u001b[0m\u001b[0m\n\u001b[0;32m--> 144\u001b[0;31m                                                 \u001b[0;34m\"loss\"\u001b[0m\u001b[0;34m:\u001b[0m \u001b[0mnp\u001b[0m\u001b[0;34m.\u001b[0m\u001b[0minf\u001b[0m\u001b[0;34m,\u001b[0m\u001b[0;34m\u001b[0m\u001b[0;34m\u001b[0m\u001b[0m\n\u001b[0m\u001b[1;32m    145\u001b[0m                                                 \u001b[0;34m\"data\"\u001b[0m\u001b[0;34m:\u001b[0m \u001b[0;34m(\u001b[0m\u001b[0mX\u001b[0m\u001b[0;34m,\u001b[0m \u001b[0my\u001b[0m\u001b[0;34m)\u001b[0m\u001b[0;34m,\u001b[0m\u001b[0;34m\u001b[0m\u001b[0;34m\u001b[0m\u001b[0m\n\u001b[1;32m    146\u001b[0m                                                 \u001b[0;34m\"n_samples\"\u001b[0m\u001b[0;34m:\u001b[0m \u001b[0mlen\u001b[0m\u001b[0;34m(\u001b[0m\u001b[0mX\u001b[0m\u001b[0;34m)\u001b[0m\u001b[0;34m,\u001b[0m\u001b[0;34m\u001b[0m\u001b[0;34m\u001b[0m\u001b[0m\n",
      "\u001b[0;31mNameError\u001b[0m: name 'np' is not defined"
     ]
    },
    {
     "data": {
      "image/png": "[encoded data removed]",
      "text/plain": [
       "<Figure size 720x360 with 1 Axes>"
      ]
     },
     "metadata": {
      "needs_background": "light"
     },
     "output_type": "display_data"
    }
   ],
   "source": [
    "X_plot, y_plot = [[],[],[]], [[],[],[]]\n",
    "\n",
    "fig = plt.figure(figsize=(10,5))\n",
    "ax = fig.add_subplot(111)\n",
    "\n",
    "for order in [1,2,3]:\n",
    "    for min_samples_leaf in range(30,200,10):\n",
    "        tree = PolyTree(min_samples_leaf=min_samples_leaf, basis=\"total-order\", max_depth=9999999, order=order)\n",
    "        tree.fit(X_train_temp, y_train)\n",
    "        y_plot[order-1].append(mean_absolute_error(y_train, tree.predict(X_train_temp)))\n",
    "        X_plot[order-1].append(min_samples_leaf)\n",
    "    plt.plot(X_plot[order-1],y_plot[order-1], label=\"order = \" + str(order))\n",
    "\n",
    "ax.set_xlabel('min_samples_leaf')\n",
    "ax.set_ylabel('Test MAE')\n",
    "ax.legend(loc='best')\n",
    "plt.show()"
   ]
  },
  {
   "cell_type": "code",
   "execution_count": null,
   "metadata": {},
   "outputs": [],
   "source": [
    "import pandas as pd\n",
    "from sklearn.model_selection import train_test_split\n",
    "from matplotlib import pyplot as plt\n",
    "\n",
    "data = pd.read_table('airfoil_self_noise.dat',names=[\"frequency\",\"aoa\",\"chord\",\"vinf\",\"delta\",\"noise\"])\n",
    "features = ['frequency','aoa','chord','vinf','delta']\n",
    "target   = 'noise'\n",
    "Xorig = data[features]\n",
    "y = data[target]\n",
    "nu = 1.568e-5 \n",
    "X = Xorig.copy()\n",
    "X['Re'] = X['chord']*X['vinf']/nu\n",
    "X=X.drop(columns=['chord','vinf'])\n",
    "#X['aoa'] = np.abs(X['aoa'])\n",
    "features = X.keys()\n",
    "X_train, X_test, y_train, y_test = train_test_split(X, y, train_size=0.9,random_state=42)\n",
    "from sklearn.preprocessing import StandardScaler,MinMaxScaler\n",
    "scaler = MinMaxScaler().fit(X_train)\n",
    "\n",
    "X_train_temp = scaler.transform(X_train)\n",
    "X_test_temp  = scaler.transform(X_test)\n",
    "\n",
    "y_train = y_train.to_numpy().reshape((y_train.shape[0],1))\n",
    "y_test = y_test.to_numpy().reshape((y_test.shape[0],1))\n",
    "\n",
    "from sklearn.metrics import mean_absolute_error\n",
    "\n",
    "X_test_plot, y_test_plot = [[],[],[]], [[],[],[]]\n",
    "X_train_plot, y_train_plot = [[],[],[]], [[],[],[]]\n",
    "\n",
    "fig = plt.figure(figsize=(10,5))\n",
    "ax = fig.add_subplot(111)\n",
    "\n",
    "for order in [1,2,3]:\n",
    "    for min_samples_leaf in range(30,200,10):\n",
    "        tree = PolyTree(min_samples_leaf=min_samples_leaf, max_depth=9999999, order=order)\n",
    "        tree.fit(X_train_temp, y_train)\n",
    "        y_test_plot[order-1].append(mean_absolute_error(y_test, tree.predict(X_test_temp)))\n",
    "        X_test_plot[order-1].append(min_samples_leaf)\n",
    "        y_train_plot[order-1].append(mean_absolute_error(y_train, tree.predict(X_train_temp)))\n",
    "        X_train_plot[order-1].append(min_samples_leaf)\n",
    "    plt.plot(X_test_plot[order-1],y_test_plot[order-1], label=\"test order = \" + str(order))\n",
    "    plt.plot(X_train_plot[order-1],y_train_plot[order-1], label=\"train order = \" + str(order))\n",
    "\n",
    "\n",
    "ax.set_xlabel('min_samples_leaf')\n",
    "ax.set_ylabel('Test MAE')\n",
    "ax.legend(loc='best')\n",
    "plt.show()"
   ]
  },
  {
   "cell_type": "code",
   "execution_count": null,
   "metadata": {},
   "outputs": [],
   "source": [
    "tree = PolyTree(min_samples_leaf=75, max_depth=9999999, order=3)\n",
    "tree.fit(X_train_temp, y_train)\n",
    "\n",
    "y_pred_train = tree.predict(X_train_temp)\n",
    "y_pred_test  = tree.predict(X_test_temp)\n",
    "\n",
    "fig, ax = plt.subplots()\n",
    "ax.plot(y_train,y_pred_train,'C0o',ms=8,mec='k',label='Train')\n",
    "ax.plot(y_test, y_pred_test ,'C3o',ms=8,mec='k',label='Test',alpha=0.5)\n",
    "#ax.plot('k--')\n",
    "ax.set_xlabel('True SPL (dB)')\n",
    "ax.set_ylabel('Predicted SPL (dB)')\n",
    "ax.set_xlim([100,140])\n",
    "#ax.set_aspect(1)\n",
    "ax.legend()\n",
    "plt.show()"
   ]
  },
  {
   "cell_type": "code",
   "execution_count": null,
   "metadata": {},
   "outputs": [],
   "source": []
  }
 ],
 "metadata": {
  "kernelspec": {
   "display_name": "Python 3",
   "language": "python",
   "name": "python3"
  },
  "language_info": {
   "codemirror_mode": {
    "name": "ipython",
    "version": 3
   },
   "file_extension": ".py",
   "mimetype": "text/x-python",
   "name": "python",
   "nbconvert_exporter": "python",
   "pygments_lexer": "ipython3",
   "version": "3.8.2"
  }
 },
 "nbformat": 4,
 "nbformat_minor": 4
}
