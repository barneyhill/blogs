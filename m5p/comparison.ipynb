{
 "cells": [
  {
   "cell_type": "code",
   "execution_count": 1,
   "metadata": {},
   "outputs": [],
   "source": [
    "import numpy as np\n",
    "from m5p import m5p_PolyTree as m5p\n",
    "from equadratures import PolyTree as eq\n",
    "import pandas as pd\n",
    "from sklearn.model_selection import train_test_split\n",
    "from matplotlib import pyplot as plt\n",
    "from sklearn.preprocessing import StandardScaler,MinMaxScaler\n",
    "from sklearn.metrics import mean_absolute_error"
   ]
  },
  {
   "cell_type": "code",
   "execution_count": 2,
   "metadata": {},
   "outputs": [],
   "source": [
    "data = pd.read_table('airfoil_self_noise.dat',names=[\"frequency\",\"aoa\",\"chord\",\"vinf\",\"delta\",\"noise\"])\n",
    "features = ['frequency','aoa','chord','vinf','delta']\n",
    "target   = 'noise'\n",
    "Xorig = data[features]\n",
    "y = data[target]\n",
    "nu = 1.568e-5 \n",
    "X = Xorig.copy()\n",
    "X['Re'] = X['chord']*X['vinf']/nu\n",
    "X=X.drop(columns=['chord','vinf'])\n",
    "#X['aoa'] = np.abs(X['aoa'])\n",
    "features = X.keys()\n",
    "X_train, X_test, y_train, y_test = train_test_split(X, y, train_size=0.9,random_state=42)\n",
    "scaler = MinMaxScaler().fit(X_train)\n",
    "\n",
    "X_train_temp = scaler.transform(X_train)\n",
    "X_test_temp  = scaler.transform(X_test)\n",
    "\n",
    "y_train = y_train.to_numpy().reshape((y_train.shape[0],1))\n",
    "y_test = y_test.to_numpy().reshape((y_test.shape[0],1))"
   ]
  },
  {
   "cell_type": "code",
   "execution_count": 3,
   "metadata": {},
   "outputs": [
    {
     "name": "stdout",
     "output_type": "stream",
     "text": [
      "1.0190055233775697\n",
      "1.7447866599652935\n"
     ]
    }
   ],
   "source": [
    "eq_tree = eq(min_samples_leaf=70, basis=\"total-order\", max_depth=9999999, order=3)\n",
    "eq_tree.fit(X_train_temp, y_train)\n",
    "\n",
    "m5p_tree = m5p(min_samples_leaf=70, basis=\"total-order\", max_depth=9999999, order=3)\n",
    "m5p_tree.fit(X_train_temp, y_train)\n",
    "\n",
    "print(mean_absolute_error(y_train, eq_tree.predict(X_train_temp)))\n",
    "print(mean_absolute_error(y_train, m5p_tree.predict(X_train_temp)))"
   ]
  },
  {
   "cell_type": "code",
   "execution_count": null,
   "metadata": {},
   "outputs": [],
   "source": []
  }
 ],
 "metadata": {
  "kernelspec": {
   "display_name": "Python 3",
   "language": "python",
   "name": "python3"
  },
  "language_info": {
   "codemirror_mode": {
    "name": "ipython",
    "version": 3
   },
   "file_extension": ".py",
   "mimetype": "text/x-python",
   "name": "python",
   "nbconvert_exporter": "python",
   "pygments_lexer": "ipython3",
   "version": "3.8.2"
  }
 },
 "nbformat": 4,
 "nbformat_minor": 4
}
