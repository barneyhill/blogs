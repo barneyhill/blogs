{
 "cells": [
  {
   "cell_type": "code",
   "execution_count": 1,
   "metadata": {},
   "outputs": [],
   "source": [
    "import sys\n",
    "from equadratures import polytree\n",
    "import random\n",
    "import numpy as np\n",
    "import scipy.stats as st\n",
    "import time\n",
    "from matplotlib import pyplot as plt\n",
    "from matplotlib.animation import FuncAnimation\n",
    "from IPython.display import HTML\n",
    "import matplotlib.lines as mlines\n",
    "%matplotlib inline\n",
    "from copy import deepcopy"
   ]
  },
  {
   "cell_type": "code",
   "execution_count": 80,
   "metadata": {},
   "outputs": [],
   "source": [
    "def f(x, noise):\n",
    "    if noise:\n",
    "        noise = 0.25 * st.norm.rvs(0, 1)\n",
    "    else:\n",
    "        noise = 0\n",
    "    if x <= 0.4:\n",
    "        return 0.963 + 0.851*x + noise\n",
    "    elif x > 0.4:\n",
    "        return 1.909 - 0.868*x + noise\n",
    "    \n",
    "def sample():\n",
    "    X, y = [], []\n",
    "    for i in range(20):\n",
    "        x = -1 + random.random() * 3   \n",
    "        X.append(np.array([x]))\n",
    "        y.append(np.array([f(x, True)]))\n",
    "    return np.array(X), np.array(y)\n",
    "\n",
    "X, y = sample()\n",
    "y = np.reshape(y, (y.shape[0], 1))"
   ]
  },
  {
   "cell_type": "code",
   "execution_count": 81,
   "metadata": {},
   "outputs": [],
   "source": [
    "tree = polytree.PolyTree(min_samples_leaf=5, order=1, logging=True)\n",
    "tree.fit(X, y)"
   ]
  },
  {
   "cell_type": "code",
   "execution_count": 82,
   "metadata": {},
   "outputs": [
    {
     "data": {
      "image/png": "[encoded data removed]",
      "text/plain": [
       "<Figure size 432x288 with 1 Axes>"
      ]
     },
     "metadata": {
      "needs_background": "light"
     },
     "output_type": "display_data"
    }
   ],
   "source": [
    "X_test = np.linspace(-1, 2, num=100)\n",
    "X_test = np.reshape(X_test, (X_test.shape[0], 1))\n",
    "y_test = tree.predict(X_test)\n",
    "plt.plot(X_test, y_test)\n",
    "plt.scatter(X,y)\n",
    "plt.show()"
   ]
  },
  {
   "cell_type": "code",
   "execution_count": 7,
   "metadata": {},
   "outputs": [
    {
     "data": {
      "text/plain": [
       "(100,)"
      ]
     },
     "execution_count": 7,
     "metadata": {},
     "output_type": "execute_result"
    }
   ],
   "source": [
    "np.linspace(0, 1, num=100).shape"
   ]
  },
  {
   "cell_type": "code",
   "execution_count": null,
   "metadata": {},
   "outputs": [],
   "source": []
  }
 ],
 "metadata": {
  "kernelspec": {
   "display_name": "Python 3",
   "language": "python",
   "name": "python3"
  },
  "language_info": {
   "codemirror_mode": {
    "name": "ipython",
    "version": 3
   },
   "file_extension": ".py",
   "mimetype": "text/x-python",
   "name": "python",
   "nbconvert_exporter": "python",
   "pygments_lexer": "ipython3",
   "version": "3.8.2"
  }
 },
 "nbformat": 4,
 "nbformat_minor": 4
}
