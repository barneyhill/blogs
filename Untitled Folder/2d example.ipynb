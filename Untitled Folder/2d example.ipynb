{
 "cells": [
  {
   "cell_type": "code",
   "execution_count": 1,
   "metadata": {},
   "outputs": [],
   "source": [
    "%matplotlib inline"
   ]
  },
  {
   "cell_type": "code",
   "execution_count": 2,
   "metadata": {},
   "outputs": [],
   "source": [
    "import sys\n",
    "from equadratures import polytree\n",
    "import random\n",
    "import numpy as np\n",
    "import scipy.stats as st\n",
    "import time\n",
    "from matplotlib import pyplot as plt\n",
    "from matplotlib.animation import FuncAnimation\n",
    "from IPython.display import HTML\n",
    "import matplotlib.lines as mlines"
   ]
  },
  {
   "cell_type": "code",
   "execution_count": 8,
   "metadata": {},
   "outputs": [
    {
     "name": "stdout",
     "output_type": "stream",
     "text": [
      "min_samples_leaf: 10 MSE:0.6483228344799066\n",
      "min_samples_leaf: 20 MSE:0.1943821063280319\n",
      "min_samples_leaf: 30 MSE:0.12258101863426786\n",
      "min_samples_leaf: 40 MSE:0.060855628455348726\n"
     ]
    }
   ],
   "source": [
    "from sklearn.model_selection import train_test_split\n",
    "from sklearn.tree import DecisionTreeRegressor\n",
    "from sklearn.ensemble import RandomForestRegressor\n",
    "from sklearn.metrics import mean_absolute_error\n",
    "\n",
    "def f(x1,x2):\n",
    "    noise = 0.1 * st.norm.rvs(0, 1)\n",
    "    return np.exp(-(x1**2 + x2**2) + noise)\n",
    "\n",
    "def sample():\n",
    "    X, y = [], []\n",
    "    for i in range(150):\n",
    "        x1, x2 = random.random(), random.random()        \n",
    "        X.append(np.array([x1, x2]))\n",
    "        y.append(np.array(f(x1, x2)))\n",
    "    return np.array(X), np.array(y)\n",
    "\n",
    "X, y = sample()\n",
    "y = np.reshape(y, (y.shape[0], 1))\n",
    "X_train, X_test, y_train, y_test = train_test_split(X, y, train_size=0.9)\n",
    "\n",
    "for n in range(10, 50, 10):\n",
    "    tree = polytree.PolyTree(min_samples_leaf=n)\n",
    "    tree.fit(X_train, y_train)\n",
    "    print(\"min_samples_leaf: \" + str(n) + \" MSE:\" + str(mean_absolute_error(y_test, tree.predict(X_test))))"
   ]
  },
  {
   "cell_type": "code",
   "execution_count": null,
   "metadata": {
    "scrolled": false
   },
   "outputs": [],
   "source": [
    "def f(x1,x2):\n",
    "    noise = 0.1 * st.norm.rvs(0, 1)\n",
    "    return np.exp(-(x1**2 + x2**2) + noise)\n",
    "\n",
    "def sample():\n",
    "    X, y = [], []\n",
    "    for i in range(150):\n",
    "        x1, x2 = random.random(), random.random()        \n",
    "        X.append(np.array([x1, x2]))\n",
    "        y.append(np.array(f(x1, x2)))\n",
    "    return np.array(X), np.array(y)\n",
    "\n",
    "X, y = sample()\n",
    "y = np.reshape(y, (y.shape[0], 1))\n",
    "\n",
    "print(X.shape,y.shape)\n",
    "#tree = polytree.PolyTree(min_samples_leaf=20, logging=True)\n",
    "tree = polytree.PolyTree(search='uniform', samples=25,min_samples_leaf=20, logging=True)\n",
    "\n",
    "start = time.time()\n",
    "tree.fit(X, y)\n",
    "duration = time.time() - start"
   ]
  },
  {
   "cell_type": "code",
   "execution_count": null,
   "metadata": {},
   "outputs": [],
   "source": [
    "tree.get_graphviz(['x1','x2'])"
   ]
  },
  {
   "cell_type": "code",
   "execution_count": null,
   "metadata": {},
   "outputs": [],
   "source": [
    "fig, ax = plt.subplots(figsize=(10,10))\n",
    "ax.set(xlim=(0, 1), ylim=(0, 1))\n",
    "ax.scatter([x[0] for x in X], [x[1] for x in X], s=100, c=y)\n",
    "\n",
    "try_line = []\n",
    "try_line.append(ax.axhline(1))\n",
    "\n",
    "best_line = []\n",
    "best_line.append(ax.axhline(1))\n",
    "\n",
    "fixed_line = []\n",
    "fixed_line.append(ax.axhline(1))\n",
    "\n",
    "tree_pos = []\n",
    "\n",
    "def get_boundaries(j_feature, threshold):\n",
    "    j_min, j_max = [0, 0], [1, 1]\n",
    "    for node in tree_pos:\n",
    "        if node[\"direction\"] == \"LEFT\" and node[\"j_feature\"] == 0:\n",
    "            j_max[1] = node[\"threshold\"]\n",
    "        elif node[\"direction\"] == \"LEFT\" and node[\"j_feature\"] == 1:\n",
    "            j_max[0] = node[\"threshold\"]\n",
    "        elif node[\"direction\"] == \"RIGHT\" and node[\"j_feature\"] == 0:\n",
    "            j_min[1] = node[\"threshold\"]\n",
    "        elif node[\"direction\"] == \"RIGHT\" and node[\"j_feature\"] == 1:\n",
    "            j_min[0] = node[\"threshold\"]\n",
    "    return j_min, j_max\n",
    "\n",
    "n = 0\n",
    "def animate(log):\n",
    "    global n\n",
    "    \n",
    "    if log[\"event\"] == \"UP\":\n",
    "        try:tree_pos.pop()\n",
    "        except:pass\n",
    "        try:best_line[-1].remove()\n",
    "        except:pass\n",
    "        \n",
    "    if log[\"event\"] == \"DOWN\":\n",
    "        tree_pos.append(log[\"data\"])\n",
    "\n",
    "        j_min, j_max = get_boundaries(log[\"data\"][\"j_feature\"], log[\"data\"][\"threshold\"])\n",
    "        if log[\"data\"][\"j_feature\"] == 0:\n",
    "            fixed_line.append(ax.axvline(log[\"data\"][\"threshold\"], ymin = j_min[0], ymax = j_max[0], color='black'))\n",
    "        else:\n",
    "            fixed_line.append(ax.axhline(log[\"data\"][\"threshold\"], xmin = j_min[1], xmax = j_max[1], color='black'))\n",
    "          \n",
    "        try:best_line[-1].remove()\n",
    "        except:pass\n",
    "        try:try_line[-1].remove()\n",
    "        except:pass\n",
    "        \n",
    "    if log[\"event\"] == \"try_split\":\n",
    "        j_min, j_max = get_boundaries(log[\"data\"][\"j_feature\"], log[\"data\"][\"threshold\"])\n",
    "        if log[\"data\"][\"j_feature\"] == 0:\n",
    "            try:try_line[-1].remove()\n",
    "            except:pass\n",
    "            try_line.append(ax.axvline(log[\"data\"][\"threshold\"], ymin = j_min[0], ymax = j_max[0], color='red'))\n",
    "        else:\n",
    "            try:try_line[-1].remove()\n",
    "            except:pass\n",
    "            try_line.append(ax.axhline(log[\"data\"][\"threshold\"], xmin = j_min[1], xmax = j_max[1], color='red'))\n",
    "        n+=1\n",
    "    if log[\"event\"] == \"best_split\":\n",
    "        j_min, j_max = get_boundaries(log[\"data\"][\"j_feature\"], log[\"data\"][\"threshold\"])\n",
    "        if log[\"data\"][\"j_feature\"] == 0:\n",
    "            try:best_line[-1].remove()\n",
    "            except:pass\n",
    "            best_line.append(ax.axvline(log[\"data\"][\"threshold\"], ymin = j_min[0], ymax = j_max[0], color='green'))\n",
    "        else:\n",
    "            try:best_line[-1].remove()\n",
    "            except:pass\n",
    "            best_line.append(ax.axhline(log[\"data\"][\"threshold\"], xmin = j_min[1], xmax = j_max[1], color='green'))\n",
    "        n+=1\n",
    "    ax.set_title('Polynomials fit: ' + str(n))\n",
    "\n",
    "anim = FuncAnimation(fig, animate, interval=duration * 10000 / len(tree.log), frames=tree.log)\n",
    "HTML(anim.to_html5_video())"
   ]
  },
  {
   "cell_type": "code",
   "execution_count": null,
   "metadata": {},
   "outputs": [],
   "source": [
    "for log in tree.log:\n",
    "    if log[\"event\"] == \"DOWN\" or log[\"event\"] == \"UP\":\n",
    "        print(log)"
   ]
  },
  {
   "cell_type": "code",
   "execution_count": null,
   "metadata": {},
   "outputs": [],
   "source": [
    "tree.log\n"
   ]
  },
  {
   "cell_type": "code",
   "execution_count": null,
   "metadata": {},
   "outputs": [],
   "source": []
  }
 ],
 "metadata": {
  "kernelspec": {
   "display_name": "Python 3",
   "language": "python",
   "name": "python3"
  },
  "language_info": {
   "codemirror_mode": {
    "name": "ipython",
    "version": 3
   },
   "file_extension": ".py",
   "mimetype": "text/x-python",
   "name": "python",
   "nbconvert_exporter": "python",
   "pygments_lexer": "ipython3",
   "version": "3.8.2"
  }
 },
 "nbformat": 4,
 "nbformat_minor": 4
}
