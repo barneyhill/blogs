{
 "cells": [
  {
   "cell_type": "code",
   "execution_count": 1,
   "metadata": {
    "colab": {},
    "colab_type": "code",
    "id": "96_u_kYBFyJ1"
   },
   "outputs": [],
   "source": [
    "import numpy as np         \n",
    "import pandas as pd\n",
    "import matplotlib.pyplot as plt\n",
    "from equadratures import *\n",
    "from sklearn.model_selection import train_test_split\n",
    "from sklearn.tree import DecisionTreeRegressor\n",
    "from sklearn.ensemble import RandomForestRegressor\n",
    "from sklearn.metrics import mean_squared_error"
   ]
  },
  {
   "cell_type": "markdown",
   "metadata": {
    "colab_type": "text",
    "id": "MCXVuaMHFyJ7"
   },
   "source": [
    "## Load the data"
   ]
  },
  {
   "cell_type": "code",
   "execution_count": 2,
   "metadata": {
    "colab": {},
    "colab_type": "code",
    "id": "IDsaycaRFyJ7",
    "outputId": "01af0d57-3de8-4514-bc8f-89ce5cb7131a"
   },
   "outputs": [
    {
     "name": "stdout",
     "output_type": "stream",
     "text": [
      "--2020-07-03 14:58:57--  https://archive.ics.uci.edu/ml/machine-learning-databases/00291/airfoil_self_noise.dat\n",
      "Resolving archive.ics.uci.edu (archive.ics.uci.edu)... 128.195.10.252\n",
      "Connecting to archive.ics.uci.edu (archive.ics.uci.edu)|128.195.10.252|:443... connected.\n",
      "HTTP request sent, awaiting response... 200 OK\n",
      "Length: 59984 (59K) [application/x-httpd-php]\n",
      "Saving to: ‘airfoil_self_noise.dat’\n",
      "\n",
      "airfoil_self_noise. 100%[===================>]  58.58K   143KB/s    in 0.4s    \n",
      "\n",
      "2020-07-03 14:58:58 (143 KB/s) - ‘airfoil_self_noise.dat’ saved [59984/59984]\n",
      "\n"
     ]
    }
   ],
   "source": [
    "# Download and load the UCI aerofoil noise dataset (00291)\n",
    "!wget https://archive.ics.uci.edu/ml/machine-learning-databases/00291/airfoil_self_noise.dat -O airfoil_self_noise.dat\n",
    "data = pd.read_table('airfoil_self_noise.dat',names=[\"frequency\",\"aoa\",\"chord\",\"vinf\",\"delta\",\"noise\"])"
   ]
  },
  {
   "cell_type": "code",
   "execution_count": 3,
   "metadata": {},
   "outputs": [
    {
     "data": {
      "text/html": [
       "<div>\n",
       "<style scoped>\n",
       "    .dataframe tbody tr th:only-of-type {\n",
       "        vertical-align: middle;\n",
       "    }\n",
       "\n",
       "    .dataframe tbody tr th {\n",
       "        vertical-align: top;\n",
       "    }\n",
       "\n",
       "    .dataframe thead th {\n",
       "        text-align: right;\n",
       "    }\n",
       "</style>\n",
       "<table border=\"1\" class=\"dataframe\">\n",
       "  <thead>\n",
       "    <tr style=\"text-align: right;\">\n",
       "      <th></th>\n",
       "      <th>frequency</th>\n",
       "      <th>aoa</th>\n",
       "      <th>chord</th>\n",
       "      <th>vinf</th>\n",
       "      <th>delta</th>\n",
       "      <th>noise</th>\n",
       "    </tr>\n",
       "  </thead>\n",
       "  <tbody>\n",
       "    <tr>\n",
       "      <th>0</th>\n",
       "      <td>800</td>\n",
       "      <td>0.0</td>\n",
       "      <td>0.3048</td>\n",
       "      <td>71.3</td>\n",
       "      <td>0.002663</td>\n",
       "      <td>126.201</td>\n",
       "    </tr>\n",
       "    <tr>\n",
       "      <th>1</th>\n",
       "      <td>1000</td>\n",
       "      <td>0.0</td>\n",
       "      <td>0.3048</td>\n",
       "      <td>71.3</td>\n",
       "      <td>0.002663</td>\n",
       "      <td>125.201</td>\n",
       "    </tr>\n",
       "    <tr>\n",
       "      <th>2</th>\n",
       "      <td>1250</td>\n",
       "      <td>0.0</td>\n",
       "      <td>0.3048</td>\n",
       "      <td>71.3</td>\n",
       "      <td>0.002663</td>\n",
       "      <td>125.951</td>\n",
       "    </tr>\n",
       "    <tr>\n",
       "      <th>3</th>\n",
       "      <td>1600</td>\n",
       "      <td>0.0</td>\n",
       "      <td>0.3048</td>\n",
       "      <td>71.3</td>\n",
       "      <td>0.002663</td>\n",
       "      <td>127.591</td>\n",
       "    </tr>\n",
       "    <tr>\n",
       "      <th>4</th>\n",
       "      <td>2000</td>\n",
       "      <td>0.0</td>\n",
       "      <td>0.3048</td>\n",
       "      <td>71.3</td>\n",
       "      <td>0.002663</td>\n",
       "      <td>127.461</td>\n",
       "    </tr>\n",
       "    <tr>\n",
       "      <th>...</th>\n",
       "      <td>...</td>\n",
       "      <td>...</td>\n",
       "      <td>...</td>\n",
       "      <td>...</td>\n",
       "      <td>...</td>\n",
       "      <td>...</td>\n",
       "    </tr>\n",
       "    <tr>\n",
       "      <th>1498</th>\n",
       "      <td>2500</td>\n",
       "      <td>15.6</td>\n",
       "      <td>0.1016</td>\n",
       "      <td>39.6</td>\n",
       "      <td>0.052849</td>\n",
       "      <td>110.264</td>\n",
       "    </tr>\n",
       "    <tr>\n",
       "      <th>1499</th>\n",
       "      <td>3150</td>\n",
       "      <td>15.6</td>\n",
       "      <td>0.1016</td>\n",
       "      <td>39.6</td>\n",
       "      <td>0.052849</td>\n",
       "      <td>109.254</td>\n",
       "    </tr>\n",
       "    <tr>\n",
       "      <th>1500</th>\n",
       "      <td>4000</td>\n",
       "      <td>15.6</td>\n",
       "      <td>0.1016</td>\n",
       "      <td>39.6</td>\n",
       "      <td>0.052849</td>\n",
       "      <td>106.604</td>\n",
       "    </tr>\n",
       "    <tr>\n",
       "      <th>1501</th>\n",
       "      <td>5000</td>\n",
       "      <td>15.6</td>\n",
       "      <td>0.1016</td>\n",
       "      <td>39.6</td>\n",
       "      <td>0.052849</td>\n",
       "      <td>106.224</td>\n",
       "    </tr>\n",
       "    <tr>\n",
       "      <th>1502</th>\n",
       "      <td>6300</td>\n",
       "      <td>15.6</td>\n",
       "      <td>0.1016</td>\n",
       "      <td>39.6</td>\n",
       "      <td>0.052849</td>\n",
       "      <td>104.204</td>\n",
       "    </tr>\n",
       "  </tbody>\n",
       "</table>\n",
       "<p>1503 rows × 6 columns</p>\n",
       "</div>"
      ],
      "text/plain": [
       "      frequency   aoa   chord  vinf     delta    noise\n",
       "0           800   0.0  0.3048  71.3  0.002663  126.201\n",
       "1          1000   0.0  0.3048  71.3  0.002663  125.201\n",
       "2          1250   0.0  0.3048  71.3  0.002663  125.951\n",
       "3          1600   0.0  0.3048  71.3  0.002663  127.591\n",
       "4          2000   0.0  0.3048  71.3  0.002663  127.461\n",
       "...         ...   ...     ...   ...       ...      ...\n",
       "1498       2500  15.6  0.1016  39.6  0.052849  110.264\n",
       "1499       3150  15.6  0.1016  39.6  0.052849  109.254\n",
       "1500       4000  15.6  0.1016  39.6  0.052849  106.604\n",
       "1501       5000  15.6  0.1016  39.6  0.052849  106.224\n",
       "1502       6300  15.6  0.1016  39.6  0.052849  104.204\n",
       "\n",
       "[1503 rows x 6 columns]"
      ]
     },
     "execution_count": 3,
     "metadata": {},
     "output_type": "execute_result"
    }
   ],
   "source": [
    "data"
   ]
  },
  {
   "cell_type": "code",
   "execution_count": 4,
   "metadata": {
    "colab": {},
    "colab_type": "code",
    "id": "tAWeDqbfFyKG"
   },
   "outputs": [],
   "source": [
    "features = ['frequency','aoa','chord','vinf','delta']\n",
    "target   = 'noise'\n",
    "Xorig = data[features]\n",
    "y = data[target]"
   ]
  },
  {
   "cell_type": "code",
   "execution_count": 5,
   "metadata": {},
   "outputs": [
    {
     "name": "stdout",
     "output_type": "stream",
     "text": [
      "(1503, 5) (1503,)\n"
     ]
    }
   ],
   "source": [
    "print(Xorig.shape, y.shape)"
   ]
  },
  {
   "cell_type": "markdown",
   "metadata": {
    "colab_type": "text",
    "id": "qZ-r4ggKFyKO"
   },
   "source": [
    "## Exploring the data"
   ]
  },
  {
   "cell_type": "code",
   "execution_count": 6,
   "metadata": {
    "colab": {},
    "colab_type": "code",
    "id": "13UOHsI7FyKO",
    "outputId": "f3fd09f2-a651-47c2-e709-efdfcf012075"
   },
   "outputs": [
    {
     "data": {
      "text/plain": [
       "Text(0, 0.5, 'noise')"
      ]
     },
     "execution_count": 6,
     "metadata": {},
     "output_type": "execute_result"
    },
    {
     "data": {
      "image/png": "[encoded data removed]",
      "text/plain": [
       "<Figure size 432x288 with 1 Axes>"
      ]
     },
     "metadata": {
      "needs_background": "light"
     },
     "output_type": "display_data"
    }
   ],
   "source": [
    "feature = features[0]\n",
    "plt.plot(Xorig[feature],y,'o')\n",
    "plt.xlabel(feature)\n",
    "plt.ylabel(target)"
   ]
  },
  {
   "cell_type": "markdown",
   "metadata": {
    "colab_type": "text",
    "id": "0jGvNgduFyKS"
   },
   "source": [
    "## Data cleaning"
   ]
  },
  {
   "cell_type": "code",
   "execution_count": 7,
   "metadata": {
    "colab": {},
    "colab_type": "code",
    "id": "bGobImYeFyKT"
   },
   "outputs": [],
   "source": [
    "nu = 1.568e-5 \n",
    "X = Xorig.copy()\n",
    "X['Re'] = X['chord']*X['vinf']/nu\n",
    "X=X.drop(columns=['chord','vinf'])\n",
    "#X['aoa'] = np.abs(X['aoa'])\n",
    "features = X.keys()"
   ]
  },
  {
   "cell_type": "markdown",
   "metadata": {
    "colab_type": "text",
    "id": "ZXaK7UjxFyKY"
   },
   "source": [
    "## Fitting some models!"
   ]
  },
  {
   "cell_type": "code",
   "execution_count": 8,
   "metadata": {
    "colab": {},
    "colab_type": "code",
    "id": "JYcR1uBKFyKY"
   },
   "outputs": [],
   "source": [
    "global X_train, X_test, y_train, y_test\n",
    "X_train, X_test, y_train, y_test = train_test_split(X, y, train_size=0.8, random_state=42)"
   ]
  },
  {
   "cell_type": "code",
   "execution_count": 9,
   "metadata": {},
   "outputs": [
    {
     "name": "stdout",
     "output_type": "stream",
     "text": [
      "[[129.946]\n",
      " [134.568]\n",
      " [136.414]\n",
      " ...\n",
      " [133.13 ]\n",
      " [124.717]\n",
      " [128.978]]\n"
     ]
    },
    {
     "ename": "NameError",
     "evalue": "name 'r2_score' is not defined",
     "output_type": "error",
     "traceback": [
      "\u001b[0;31m---------------------------------------------------------------------------\u001b[0m",
      "\u001b[0;31mNameError\u001b[0m                                 Traceback (most recent call last)",
      "\u001b[0;32m<ipython-input-9-056ea6717c5b>\u001b[0m in \u001b[0;36m<module>\u001b[0;34m\u001b[0m\n\u001b[1;32m     15\u001b[0m \u001b[0my_pred_test\u001b[0m \u001b[0;34m=\u001b[0m \u001b[0mtree\u001b[0m\u001b[0;34m.\u001b[0m\u001b[0mpredict\u001b[0m\u001b[0;34m(\u001b[0m\u001b[0mX_test_temp\u001b[0m\u001b[0;34m)\u001b[0m\u001b[0;34m\u001b[0m\u001b[0;34m\u001b[0m\u001b[0m\n\u001b[1;32m     16\u001b[0m \u001b[0mprint\u001b[0m\u001b[0;34m(\u001b[0m\u001b[0my_train\u001b[0m\u001b[0;34m)\u001b[0m\u001b[0;34m\u001b[0m\u001b[0;34m\u001b[0m\u001b[0m\n\u001b[0;32m---> 17\u001b[0;31m \u001b[0mr2_train\u001b[0m \u001b[0;34m=\u001b[0m \u001b[0mr2_score\u001b[0m\u001b[0;34m(\u001b[0m\u001b[0my_train\u001b[0m\u001b[0;34m,\u001b[0m\u001b[0my_pred_train\u001b[0m\u001b[0;34m)\u001b[0m\u001b[0;34m\u001b[0m\u001b[0;34m\u001b[0m\u001b[0m\n\u001b[0m\u001b[1;32m     18\u001b[0m \u001b[0mr2_test\u001b[0m \u001b[0;34m=\u001b[0m \u001b[0mr2_score\u001b[0m\u001b[0;34m(\u001b[0m\u001b[0my_test\u001b[0m\u001b[0;34m,\u001b[0m\u001b[0my_pred_test\u001b[0m\u001b[0;34m)\u001b[0m\u001b[0;34m\u001b[0m\u001b[0;34m\u001b[0m\u001b[0m\n\u001b[1;32m     19\u001b[0m \u001b[0;34m\u001b[0m\u001b[0m\n",
      "\u001b[0;31mNameError\u001b[0m: name 'r2_score' is not defined"
     ]
    }
   ],
   "source": [
    "import time\n",
    "start = time.time()\n",
    "from sklearn.preprocessing import StandardScaler,MinMaxScaler\n",
    "scaler = StandardScaler().fit(X_train)\n",
    "\n",
    "X_train_temp = scaler.transform(X_train)\n",
    "X_test_temp  = scaler.transform(X_test)\n",
    "\n",
    "y_train = y_train.to_numpy().reshape((y_train.shape[0],1))\n",
    "y_test = y_test.to_numpy().reshape((y_test.shape[0],1))\n",
    "\n",
    "tree = polytree.PolyTree(search=\"uniform\")\n",
    "tree.fit(X_train_temp, y_train)\n",
    "  \n",
    "y_pred_test = tree.predict(X_test_temp)\n",
    "\n",
    "print(mean_squared_error(y_test, tree.predict(X_test_temp)))"
   ]
  },
  {
   "cell_type": "code",
   "execution_count": null,
   "metadata": {},
   "outputs": [],
   "source": [
    "model = polytree.PolyTree(search=\"uniform\")\n",
    "model.fit(X_train_temp, y_train)\n",
    "print(time.time()-start)\n",
    "model.get_graphviz(feature_names=['frequency','aoa','chord','vinf'])\n",
    "\n",
    "y_pred_train = model.predict(X_train_temp)   \n",
    "y_pred_test = model.predict(X_test_temp)\n",
    "print(y_train)\n",
    "r2_train = r2_score(y_train,y_pred_train)\n",
    "r2_test = r2_score(y_test,y_pred_test)\n",
    "\n",
    "for poly in model.get_polys():\n",
    "    print(poly.basis.cardinality)"
   ]
  },
  {
   "cell_type": "code",
   "execution_count": null,
   "metadata": {},
   "outputs": [],
   "source": [
    "fig, ax = plt.subplots()\n",
    "ax.set_title('$R^2$ train = %.3f, $R^2$ test = %.3f' %(r2_train,r2_test))\n",
    "#total-orderax.plot(y_train,y_pred_train,'C0o',ms=8,mec='k',label='Train')\n",
    "ax.plot(y_test, y_pred_test ,'C3o',ms=8,mec='k',label='Test',alpha=0.5)\n",
    "ax.plot([0,150],[0,150],'k--')\n",
    "ax.set_xlabel('True SPL (dB)')\n",
    "ax.set_ylabel('Predicted SPL (dB)')\n",
    "ax.set_xlim([100,140])\n",
    "ax.set_ylim([100,140])\n",
    "ax.set_aspect(1)\n",
    "ax.legend()\n",
    "plt.show()\n",
    "print(time.time() - start)"
   ]
  },
  {
   "cell_type": "code",
   "execution_count": null,
   "metadata": {},
   "outputs": [],
   "source": [
    "model.tree"
   ]
  },
  {
   "cell_type": "markdown",
   "metadata": {
    "colab_type": "text",
    "id": "mcqBmFfkFyK6"
   },
   "source": [
    "### Orthogonal polynomials"
   ]
  },
  {
   "cell_type": "code",
   "execution_count": null,
   "metadata": {
    "colab": {},
    "colab_type": "code",
    "id": "4DLvI3UrFyK7",
    "outputId": "d120c512-929b-47fe-bfea-3a9f89274742"
   },
   "outputs": [],
   "source": [
    "from sklearn.preprocessing import StandardScaler,MinMaxScaler\n",
    "scaler = StandardScaler().fit(X_train)\n",
    "#scaler = MinMaxScaler((-1,1)).fit(X_train)\n",
    "X_train_temp = scaler.transform(X_train)\n",
    "X_test_temp  = scaler.transform(X_test)\n",
    "\n",
    "myparameters = [Parameter(distribution='uniform', lower=np.min(X_train_temp[f]), upper=np.max(X_train_temp.max()), order=3) for f in range(len(features))]\n",
    "#myparameters = [Parameter(distribution='custom', data=X_train_temp[f], order=3) for f in range(len(features))]\n",
    "mybasis = Basis('total-order')\n",
    "#mybasis = Basis('tensor-grid')\n",
    "#mybasis = Basis('euclidean-degree')\n",
    "#mybasis = Basis('hyperbolic-basis',q=0.9)\n",
    "#mybasis = Basis('sparse-grid', growth_rule='linear', level=2)\n",
    "method = 'least-squares'\n",
    "mypoly = Poly(parameters=myparameters, basis=mybasis, method=method, \\\n",
    "              sampling_args= {'mesh': 'user-defined', 'sample-points': X_train_temp, 'sample-outputs': y_train})\n",
    "mypoly.set_model()\n",
    "\n",
    "s = myparameters[0]\n",
    "s_values, pdf = s.get_pdf()\n",
    "s_samples = s.get_samples(6000)\n",
    "fig = plt.figure()\n",
    "ax = fig.add_subplot(1,1,1)\n",
    "ax.set_axisbelow(True)\n",
    "plt.plot(s_values, pdf, '-', c='crimson', lw=4)\n",
    "plt.xlabel('$s$')\n",
    "plt.ylabel('PDF')\n",
    "plt.fill_between(s_values,  pdf*0.0, pdf, color=\"crimson\" , interpolate=True, hatch=\"\\\\\\\\\\\\\\\\\", edgecolor=\"grey\",  linewidth=0.5,alpha=0.5)\n",
    "plt.grid()"
   ]
  },
  {
   "cell_type": "code",
   "execution_count": null,
   "metadata": {
    "colab": {},
    "colab_type": "code",
    "id": "QmEu8ycVFyK-",
    "outputId": "98b0b0a5-c6c3-4c23-fffd-13c2c26f4531"
   },
   "outputs": [],
   "source": [
    "y_pred_train = mypoly.get_polyfit(X_train_temp)\n",
    "y_pred_test  = mypoly.get_polyfit(X_test_temp)\n",
    "r2_train = r2_score(y_train,y_pred_train)\n",
    "r2_test = r2_score(y_test,y_pred_test)\n",
    "\n",
    "fig, ax = plt.subplots()\n",
    "ax.set_title('$R^2$ train = %.3f, $R^2$ test = %.3f' %(r2_train,r2_test))\n",
    "fig.suptitle('Orthogonal polynomial regression with EQ')\n",
    "ax.plot(y_train,y_pred_train,'C0o',ms=8,mec='k',label='Train')\n",
    "ax.plot(y_test, y_pred_test ,'C3o',ms=8,mec='k',label='Test',alpha=0.5)\n",
    "ax.plot([0,150],[0,150],'k--')\n",
    "ax.set_xlabel('True SPL (dB)')\n",
    "ax.set_ylabel('Predicted SPL (dB)')\n",
    "ax.set_xlim([100,140])\n",
    "ax.set_ylim([100,140])\n",
    "ax.set_aspect(1)\n",
    "ax.legend()\n",
    "plt.show()"
   ]
  },
  {
   "cell_type": "markdown",
   "metadata": {
    "colab_type": "text",
    "id": "Rj9Od_FYFyLC"
   },
   "source": [
    "## Interpreting the models"
   ]
  },
  {
   "cell_type": "code",
   "execution_count": null,
   "metadata": {
    "colab": {},
    "colab_type": "code",
    "id": "RDGW7Cq_FyLC"
   },
   "outputs": [],
   "source": []
  },
  {
   "cell_type": "markdown",
   "metadata": {
    "colab_type": "text",
    "id": "OyoCl0RsFyLJ"
   },
   "source": [
    "## Conclusions"
   ]
  },
  {
   "cell_type": "code",
   "execution_count": null,
   "metadata": {
    "colab": {},
    "colab_type": "code",
    "id": "qqQafuIAFyLJ"
   },
   "outputs": [],
   "source": []
  }
 ],
 "metadata": {
  "colab": {
   "name": "aerofoil_noise.ipynb",
   "provenance": []
  },
  "kernelspec": {
   "display_name": "Python 3",
   "language": "python",
   "name": "python3"
  },
  "language_info": {
   "codemirror_mode": {
    "name": "ipython",
    "version": 3
   },
   "file_extension": ".py",
   "mimetype": "text/x-python",
   "name": "python",
   "nbconvert_exporter": "python",
   "pygments_lexer": "ipython3",
   "version": "3.8.2"
  }
 },
 "nbformat": 4,
 "nbformat_minor": 1
}
