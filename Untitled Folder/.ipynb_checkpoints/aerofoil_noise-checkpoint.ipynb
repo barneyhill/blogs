{
 "cells": [
  {
   "cell_type": "code",
   "execution_count": 1,
   "metadata": {
    "colab": {},
    "colab_type": "code",
    "id": "96_u_kYBFyJ1"
   },
   "outputs": [],
   "source": [
    "import numpy as np         \n",
    "import pandas as pd\n",
    "import matplotlib.pyplot as plt\n",
    "from equadratures import *\n",
    "from sklearn.model_selection import train_test_split\n",
    "from sklearn.tree import DecisionTreeRegressor\n",
    "from sklearn.ensemble import RandomForestRegressor"
   ]
  },
  {
   "cell_type": "markdown",
   "metadata": {
    "colab_type": "text",
    "id": "MCXVuaMHFyJ7"
   },
   "source": [
    "## Load the data"
   ]
  },
  {
   "cell_type": "code",
   "execution_count": 2,
   "metadata": {
    "colab": {},
    "colab_type": "code",
    "id": "IDsaycaRFyJ7",
    "outputId": "01af0d57-3de8-4514-bc8f-89ce5cb7131a"
   },
   "outputs": [
    {
     "name": "stdout",
     "output_type": "stream",
     "text": [
      "--2020-06-10 14:10:37--  https://archive.ics.uci.edu/ml/machine-learning-databases/00291/airfoil_self_noise.dat\n",
      "Resolving archive.ics.uci.edu (archive.ics.uci.edu)... 128.195.10.252\n",
      "Connecting to archive.ics.uci.edu (archive.ics.uci.edu)|128.195.10.252|:443... connected.\n",
      "HTTP request sent, awaiting response... 200 OK\n",
      "Length: 59984 (59K) [application/x-httpd-php]\n",
      "Saving to: ‘airfoil_self_noise.dat’\n",
      "\n",
      "airfoil_self_noise. 100%[===================>]  58.58K   142KB/s    in 0.4s    \n",
      "\n",
      "2020-06-10 14:10:38 (142 KB/s) - ‘airfoil_self_noise.dat’ saved [59984/59984]\n",
      "\n"
     ]
    }
   ],
   "source": [
    "# Download and load the UCI aerofoil noise dataset (00291)\n",
    "!wget https://archive.ics.uci.edu/ml/machine-learning-databases/00291/airfoil_self_noise.dat -O airfoil_self_noise.dat\n",
    "data = pd.read_table('airfoil_self_noise.dat',names=[\"frequency\",\"aoa\",\"chord\",\"vinf\",\"delta\",\"noise\"])"
   ]
  },
  {
   "cell_type": "code",
   "execution_count": 3,
   "metadata": {
    "colab": {},
    "colab_type": "code",
    "id": "58MSjnrtFyKB",
    "outputId": "3ff09131-34e4-46e8-bde6-c2fc78ac3207"
   },
   "outputs": [],
   "source": [
    "data = data[0:300]"
   ]
  },
  {
   "cell_type": "code",
   "execution_count": 4,
   "metadata": {
    "colab": {},
    "colab_type": "code",
    "id": "tAWeDqbfFyKG"
   },
   "outputs": [],
   "source": [
    "features = ['frequency','aoa','chord','vinf','delta']\n",
    "target   = 'noise'\n",
    "Xorig = data[features]\n",
    "y = data[target]"
   ]
  },
  {
   "cell_type": "code",
   "execution_count": 5,
   "metadata": {
    "colab": {},
    "colab_type": "code",
    "id": "h_W0hPXXFyKK"
   },
   "outputs": [],
   "source": [
    "def r2_score(y_true, y_pred):\n",
    "    print(y_true.shape)\n",
    "    from sklearn.metrics import r2_score\n",
    "    r2 = r2_score(y_true, y_pred)\n",
    "    adj_r2 = (1 - (1 - r2) * ((y_true.shape[0] - 1) / \n",
    "                              (y_true.shape[0] - y_true.shape[1] - 1)))\n",
    "    return adj_r2"
   ]
  },
  {
   "cell_type": "markdown",
   "metadata": {
    "colab_type": "text",
    "id": "qZ-r4ggKFyKO"
   },
   "source": [
    "## Exploring the data"
   ]
  },
  {
   "cell_type": "code",
   "execution_count": 6,
   "metadata": {
    "colab": {},
    "colab_type": "code",
    "id": "13UOHsI7FyKO",
    "outputId": "f3fd09f2-a651-47c2-e709-efdfcf012075"
   },
   "outputs": [
    {
     "data": {
      "text/plain": [
       "Text(0, 0.5, 'noise')"
      ]
     },
     "execution_count": 6,
     "metadata": {},
     "output_type": "execute_result"
    },
    {
     "data": {
      "image/png": "[encoded data removed]",
      "text/plain": [
       "<Figure size 432x288 with 1 Axes>"
      ]
     },
     "metadata": {
      "needs_background": "light"
     },
     "output_type": "display_data"
    }
   ],
   "source": [
    "feature = features[0]\n",
    "plt.plot(Xorig[feature],y,'o')\n",
    "plt.xlabel(feature)\n",
    "plt.ylabel(target)"
   ]
  },
  {
   "cell_type": "markdown",
   "metadata": {
    "colab_type": "text",
    "id": "0jGvNgduFyKS"
   },
   "source": [
    "## Data cleaning"
   ]
  },
  {
   "cell_type": "code",
   "execution_count": 7,
   "metadata": {
    "colab": {},
    "colab_type": "code",
    "id": "bGobImYeFyKT"
   },
   "outputs": [],
   "source": [
    "nu = 1.568e-5 \n",
    "X = Xorig.copy()\n",
    "X['Re'] = X['chord']*X['vinf']/nu\n",
    "X=X.drop(columns=['chord','vinf'])\n",
    "#X['aoa'] = np.abs(X['aoa'])\n",
    "features = X.keys()"
   ]
  },
  {
   "cell_type": "markdown",
   "metadata": {
    "colab_type": "text",
    "id": "ZXaK7UjxFyKY"
   },
   "source": [
    "## Fitting some models!"
   ]
  },
  {
   "cell_type": "code",
   "execution_count": 8,
   "metadata": {
    "colab": {},
    "colab_type": "code",
    "id": "JYcR1uBKFyKY"
   },
   "outputs": [],
   "source": [
    "global X_train, X_test, y_train, y_test\n",
    "X_train, X_test, y_train, y_test = train_test_split(X, y, train_size=0.8, random_state=42)"
   ]
  },
  {
   "cell_type": "code",
   "execution_count": 9,
   "metadata": {
    "colab": {},
    "colab_type": "code",
    "id": "NUR91TkQFyKe"
   },
   "outputs": [],
   "source": [
    "def test_model(model,name):\n",
    "    model.fit(X_train, y_train)\n",
    "\n",
    "    y_pred_train = model.predict(X_train)   \n",
    "    y_pred_test = model.predict(X_test)\n",
    "    print(y_train)\n",
    "    r2_train = r2_score(y_train,y_pred_train)\n",
    "    r2_test = r2_score(y_test,y_pred_test)\n",
    "\n",
    "    fig, ax = plt.subplots()\n",
    "    ax.set_title('$R^2$ train = %.3f, $R^2$ test = %.3f' %(r2_train,r2_test))\n",
    "    fig.suptitle(name)\n",
    "    ax.plot(y_train,y_pred_train,'C0o',ms=8,mec='k',label='Train')\n",
    "    ax.plot(y_test, y_pred_test ,'C3o',ms=8,mec='k',label='Test',alpha=0.5)\n",
    "    ax.plot([0,150],[0,150],'k--')\n",
    "    ax.set_xlabel('True SPL (dB)')\n",
    "    ax.set_ylabel('Predicted SPL (dB)')\n",
    "    ax.set_xlim([100,140])\n",
    "    ax.set_ylim([100,140])\n",
    "    ax.set_aspect(1)\n",
    "    ax.legend()\n",
    "    plt.show()"
   ]
  },
  {
   "cell_type": "markdown",
   "metadata": {
    "colab_type": "text",
    "id": "t4_J1ASEFyKi"
   },
   "source": [
    "### Linear regression"
   ]
  },
  {
   "cell_type": "code",
   "execution_count": 10,
   "metadata": {
    "colab": {},
    "colab_type": "code",
    "id": "xPInzrgKFyKj",
    "outputId": "e957ec57-cfb2-44c6-8e5e-06a00bf3cc97"
   },
   "outputs": [
    {
     "name": "stdout",
     "output_type": "stream",
     "text": [
      "232    129.465\n",
      "59     120.755\n",
      "6      125.201\n",
      "185    118.743\n",
      "173    107.405\n",
      "        ...   \n",
      "188    128.144\n",
      "71     124.512\n",
      "106    121.514\n",
      "270    118.712\n",
      "102    127.634\n",
      "Name: noise, Length: 240, dtype: float64\n",
      "(240,)\n"
     ]
    },
    {
     "ename": "IndexError",
     "evalue": "tuple index out of range",
     "output_type": "error",
     "traceback": [
      "\u001b[0;31m---------------------------------------------------------------------------\u001b[0m",
      "\u001b[0;31mIndexError\u001b[0m                                Traceback (most recent call last)",
      "\u001b[0;32m<ipython-input-10-0afd1a0681aa>\u001b[0m in \u001b[0;36m<module>\u001b[0;34m\u001b[0m\n\u001b[1;32m      1\u001b[0m \u001b[0;32mfrom\u001b[0m \u001b[0msklearn\u001b[0m\u001b[0;34m.\u001b[0m\u001b[0mlinear_model\u001b[0m \u001b[0;32mimport\u001b[0m \u001b[0mLinearRegression\u001b[0m\u001b[0;34m,\u001b[0m \u001b[0mRidge\u001b[0m\u001b[0;34m,\u001b[0m \u001b[0mElasticNet\u001b[0m\u001b[0;34m,\u001b[0m\u001b[0mLars\u001b[0m\u001b[0;34m,\u001b[0m \u001b[0mLasso\u001b[0m\u001b[0;34m,\u001b[0m\u001b[0mLassoLars\u001b[0m\u001b[0;34m\u001b[0m\u001b[0;34m\u001b[0m\u001b[0m\n\u001b[0;32m----> 2\u001b[0;31m \u001b[0mtest_model\u001b[0m\u001b[0;34m(\u001b[0m\u001b[0mLinearRegression\u001b[0m\u001b[0;34m(\u001b[0m\u001b[0;34m)\u001b[0m\u001b[0;34m,\u001b[0m\u001b[0;34m'Linear regression'\u001b[0m\u001b[0;34m)\u001b[0m\u001b[0;34m\u001b[0m\u001b[0;34m\u001b[0m\u001b[0m\n\u001b[0m\u001b[1;32m      3\u001b[0m \u001b[0mtest_model\u001b[0m\u001b[0;34m(\u001b[0m\u001b[0mRidge\u001b[0m\u001b[0;34m(\u001b[0m\u001b[0;34m)\u001b[0m\u001b[0;34m,\u001b[0m\u001b[0;34m'Ridge regression'\u001b[0m\u001b[0;34m)\u001b[0m\u001b[0;34m\u001b[0m\u001b[0;34m\u001b[0m\u001b[0m\n\u001b[1;32m      4\u001b[0m \u001b[0mtest_model\u001b[0m\u001b[0;34m(\u001b[0m\u001b[0mElasticNet\u001b[0m\u001b[0;34m(\u001b[0m\u001b[0;34m)\u001b[0m\u001b[0;34m,\u001b[0m\u001b[0;34m'Elastic net regression'\u001b[0m\u001b[0;34m)\u001b[0m\u001b[0;34m\u001b[0m\u001b[0;34m\u001b[0m\u001b[0m\n\u001b[1;32m      5\u001b[0m \u001b[0;31m#test_model(Lars(),'LARS regression')\u001b[0m\u001b[0;34m\u001b[0m\u001b[0;34m\u001b[0m\u001b[0;34m\u001b[0m\u001b[0m\n",
      "\u001b[0;32m<ipython-input-9-90f3e170be2c>\u001b[0m in \u001b[0;36mtest_model\u001b[0;34m(model, name)\u001b[0m\n\u001b[1;32m      5\u001b[0m     \u001b[0my_pred_test\u001b[0m \u001b[0;34m=\u001b[0m \u001b[0mmodel\u001b[0m\u001b[0;34m.\u001b[0m\u001b[0mpredict\u001b[0m\u001b[0;34m(\u001b[0m\u001b[0mX_test\u001b[0m\u001b[0;34m)\u001b[0m\u001b[0;34m\u001b[0m\u001b[0;34m\u001b[0m\u001b[0m\n\u001b[1;32m      6\u001b[0m     \u001b[0mprint\u001b[0m\u001b[0;34m(\u001b[0m\u001b[0my_train\u001b[0m\u001b[0;34m)\u001b[0m\u001b[0;34m\u001b[0m\u001b[0;34m\u001b[0m\u001b[0m\n\u001b[0;32m----> 7\u001b[0;31m     \u001b[0mr2_train\u001b[0m \u001b[0;34m=\u001b[0m \u001b[0mr2_score\u001b[0m\u001b[0;34m(\u001b[0m\u001b[0my_train\u001b[0m\u001b[0;34m,\u001b[0m\u001b[0my_pred_train\u001b[0m\u001b[0;34m)\u001b[0m\u001b[0;34m\u001b[0m\u001b[0;34m\u001b[0m\u001b[0m\n\u001b[0m\u001b[1;32m      8\u001b[0m     \u001b[0mr2_test\u001b[0m \u001b[0;34m=\u001b[0m \u001b[0mr2_score\u001b[0m\u001b[0;34m(\u001b[0m\u001b[0my_test\u001b[0m\u001b[0;34m,\u001b[0m\u001b[0my_pred_test\u001b[0m\u001b[0;34m)\u001b[0m\u001b[0;34m\u001b[0m\u001b[0;34m\u001b[0m\u001b[0m\n\u001b[1;32m      9\u001b[0m \u001b[0;34m\u001b[0m\u001b[0m\n",
      "\u001b[0;32m<ipython-input-5-1078b4dceba3>\u001b[0m in \u001b[0;36mr2_score\u001b[0;34m(y_true, y_pred)\u001b[0m\n\u001b[1;32m      4\u001b[0m     \u001b[0mr2\u001b[0m \u001b[0;34m=\u001b[0m \u001b[0mr2_score\u001b[0m\u001b[0;34m(\u001b[0m\u001b[0my_true\u001b[0m\u001b[0;34m,\u001b[0m \u001b[0my_pred\u001b[0m\u001b[0;34m)\u001b[0m\u001b[0;34m\u001b[0m\u001b[0;34m\u001b[0m\u001b[0m\n\u001b[1;32m      5\u001b[0m     adj_r2 = (1 - (1 - r2) * ((y_true.shape[0] - 1) / \n\u001b[0;32m----> 6\u001b[0;31m                               (y_true.shape[0] - y_true.shape[1] - 1)))\n\u001b[0m\u001b[1;32m      7\u001b[0m     \u001b[0;32mreturn\u001b[0m \u001b[0madj_r2\u001b[0m\u001b[0;34m\u001b[0m\u001b[0;34m\u001b[0m\u001b[0m\n",
      "\u001b[0;31mIndexError\u001b[0m: tuple index out of range"
     ]
    }
   ],
   "source": [
    "from sklearn.linear_model import LinearRegression, Ridge, ElasticNet,Lars, Lasso,LassoLars\n",
    "test_model(LinearRegression(),'Linear regression')\n",
    "test_model(Ridge(),'Ridge regression')\n",
    "test_model(ElasticNet(),'Elastic net regression')\n",
    "#test_model(Lars(),'LARS regression')\n",
    "test_model(Lasso(),'LASSO regression')\n",
    "#test_model(LassoLars(),'LASSO LARS regression')"
   ]
  },
  {
   "cell_type": "code",
   "execution_count": null,
   "metadata": {
    "colab": {},
    "colab_type": "code",
    "id": "l1OUSdWAFyKn",
    "outputId": "871c65b0-6e1a-45b9-c219-b8308f89f6c7"
   },
   "outputs": [],
   "source": [
    "from sklearn.preprocessing import PolynomialFeatures\n",
    "from sklearn.pipeline import make_pipeline\n",
    "pipe = lambda model, deg: make_pipeline(PolynomialFeatures(deg), model)\n",
    "\n",
    "deg = 6\n",
    "test_model(pipe(LinearRegression(),deg),'Linear regression, order %d' %deg)\n",
    "test_model(pipe(Ridge()           ,deg),'Ridge regression, order %d' %deg)\n",
    "test_model(pipe(ElasticNet()      ,deg),'Elastic net regression, order %d' %deg)\n",
    "#test_model(pipe(Lars()            ,deg),'LARS regression, order %d' %deg)\n",
    "test_model(pipe(Lasso()           ,deg),'LASSO regression, order %d' %deg)\n",
    "#test_model(pipe(LassoLars()       ,deg),'LASSO LARS regression, order %d' %deg)"
   ]
  },
  {
   "cell_type": "markdown",
   "metadata": {
    "colab_type": "text",
    "id": "j-5GQ64bFyKr"
   },
   "source": [
    "### Decision tree"
   ]
  },
  {
   "cell_type": "code",
   "execution_count": null,
   "metadata": {
    "colab": {},
    "colab_type": "code",
    "id": "yDtcCPnOFyKs",
    "outputId": "ee6bf709-c91e-4e4b-ac0b-0cdfee501979"
   },
   "outputs": [],
   "source": [
    "test_model(DecisionTreeRegressor(max_depth=None),'Decision tree regression')"
   ]
  },
  {
   "cell_type": "markdown",
   "metadata": {
    "colab_type": "text",
    "id": "JqnOuoPHFyKv"
   },
   "source": [
    "### Random forest"
   ]
  },
  {
   "cell_type": "code",
   "execution_count": null,
   "metadata": {
    "colab": {},
    "colab_type": "code",
    "id": "s7uWE-WYFyKw",
    "outputId": "869f5ad9-5743-4214-a588-c41de0f1b149"
   },
   "outputs": [],
   "source": [
    "test_model(RandomForestRegressor(max_depth=None,n_estimators=100),'Random forest regression')"
   ]
  },
  {
   "cell_type": "code",
   "execution_count": null,
   "metadata": {
    "colab": {},
    "colab_type": "code",
    "id": "o_f3FZcuFyK3",
    "outputId": "73860d34-ba06-4b01-ea9f-f0ae85e01e64"
   },
   "outputs": [],
   "source": [
    "from sklearn.ensemble import GradientBoostingRegressor\n",
    "test_model(GradientBoostingRegressor(),'GB regression')"
   ]
  },
  {
   "cell_type": "code",
   "execution_count": null,
   "metadata": {},
   "outputs": [],
   "source": [
    "import time\n",
    "start = time.time()\n",
    "from sklearn.preprocessing import StandardScaler,MinMaxScaler\n",
    "scaler = StandardScaler().fit(X_train)\n",
    "#scaler = MinMaxScaler((-1,1)).fit(X_train)\n",
    "X_train_temp = scaler.transform(X_train)\n",
    "X_test_temp  = scaler.transform(X_test)\n",
    "\n",
    "y_train = y_train.to_numpy().reshape((y_train.shape[0],1))\n",
    "y_test = y_test.to_numpy().reshape((y_test.shape[0],1))\n",
    "\n",
    "model = polytree.PolyTree(max_depth=3)\n",
    "model.fit(X_train_temp, y_train)\n",
    "\n",
    "y_pred_train = model.predict(X_train_temp)   \n",
    "y_pred_test = model.predict(X_test_temp)\n",
    "print(y_train)\n",
    "r2_train = r2_score(y_train,y_pred_train)\n",
    "r2_test = r2_score(y_test,y_pred_test)\n",
    "\n",
    "fig, ax = plt.subplots()\n",
    "ax.set_title('$R^2$ train = %.3f, $R^2$ test = %.3f' %(r2_train,r2_test))\n",
    "ax.plot(y_train,y_pred_train,'C0o',ms=8,mec='k',label='Train')\n",
    "ax.plot(y_test, y_pred_test ,'C3o',ms=8,mec='k',label='Test',alpha=0.5)\n",
    "ax.plot([0,150],[0,150],'k--')\n",
    "ax.set_xlabel('True SPL (dB)')\n",
    "ax.set_ylabel('Predicted SPL (dB)')\n",
    "ax.set_xlim([100,140])\n",
    "ax.set_ylim([100,140])\n",
    "ax.set_aspect(1)\n",
    "ax.legend()\n",
    "plt.show()\n",
    "print(time.time() - start)"
   ]
  },
  {
   "cell_type": "markdown",
   "metadata": {
    "colab_type": "text",
    "id": "mcqBmFfkFyK6"
   },
   "source": [
    "### Orthogonal polynomials"
   ]
  },
  {
   "cell_type": "code",
   "execution_count": null,
   "metadata": {
    "colab": {},
    "colab_type": "code",
    "id": "4DLvI3UrFyK7",
    "outputId": "d120c512-929b-47fe-bfea-3a9f89274742"
   },
   "outputs": [],
   "source": [
    "from sklearn.preprocessing import StandardScaler,MinMaxScaler\n",
    "scaler = StandardScaler().fit(X_train)\n",
    "#scaler = MinMaxScaler((-1,1)).fit(X_train)\n",
    "X_train_temp = scaler.transform(X_train)\n",
    "X_test_temp  = scaler.transform(X_test)\n",
    "\n",
    "myparameters = [Parameter(distribution='uniform', lower=np.min(X_train_temp[f]), upper=np.max(X_train_temp.max()), order=3) for f in range(len(features))]\n",
    "#myparameters = [Parameter(distribution='custom', data=X_train_temp[f], order=3) for f in range(len(features))]\n",
    "mybasis = Basis('total-order')\n",
    "#mybasis = Basis('tensor-grid')\n",
    "#mybasis = Basis('euclidean-degree')\n",
    "#mybasis = Basis('hyperbolic-basis',q=0.9)\n",
    "#mybasis = Basis('sparse-grid', growth_rule='linear', level=2)\n",
    "method = 'least-squares'\n",
    "mypoly = Poly(parameters=myparameters, basis=mybasis, method=method, \\\n",
    "              sampling_args= {'mesh': 'user-defined', 'sample-points': X_train_temp, 'sample-outputs': y_train.to_numpy()})\n",
    "mypoly.set_model()\n",
    "\n",
    "s = myparameters[0]\n",
    "s_values, pdf = s.get_pdf()\n",
    "s_samples = s.get_samples(6000)\n",
    "fig = plt.figure()\n",
    "ax = fig.add_subplot(1,1,1)\n",
    "ax.set_axisbelow(True)\n",
    "plt.plot(s_values, pdf, '-', c='crimson', lw=4)\n",
    "plt.xlabel('$s$')\n",
    "plt.ylabel('PDF')\n",
    "plt.fill_between(s_values,  pdf*0.0, pdf, color=\"crimson\" , interpolate=True, hatch=\"\\\\\\\\\\\\\\\\\", edgecolor=\"grey\",  linewidth=0.5,alpha=0.5)\n",
    "plt.grid()"
   ]
  },
  {
   "cell_type": "code",
   "execution_count": null,
   "metadata": {
    "colab": {},
    "colab_type": "code",
    "id": "QmEu8ycVFyK-",
    "outputId": "98b0b0a5-c6c3-4c23-fffd-13c2c26f4531"
   },
   "outputs": [],
   "source": [
    "y_pred_train = mypoly.get_polyfit(X_train_temp)\n",
    "y_pred_test  = mypoly.get_polyfit(X_test_temp)\n",
    "r2_train = r2_score(y_train,y_pred_train)\n",
    "r2_test = r2_score(y_test,y_pred_test)\n",
    "\n",
    "fig, ax = plt.subplots()\n",
    "ax.set_title('$R^2$ train = %.3f, $R^2$ test = %.3f' %(r2_train,r2_test))\n",
    "fig.suptitle('Orthogonal polynomial regression with EQ')\n",
    "ax.plot(y_train,y_pred_train,'C0o',ms=8,mec='k',label='Train')\n",
    "ax.plot(y_test, y_pred_test ,'C3o',ms=8,mec='k',label='Test',alpha=0.5)\n",
    "ax.plot([0,150],[0,150],'k--')\n",
    "ax.set_xlabel('True SPL (dB)')\n",
    "ax.set_ylabel('Predicted SPL (dB)')\n",
    "ax.set_xlim([100,140])\n",
    "ax.set_ylim([100,140])\n",
    "ax.set_aspect(1)\n",
    "ax.legend()\n",
    "plt.show()"
   ]
  },
  {
   "cell_type": "markdown",
   "metadata": {
    "colab_type": "text",
    "id": "Rj9Od_FYFyLC"
   },
   "source": [
    "## Interpreting the models"
   ]
  },
  {
   "cell_type": "code",
   "execution_count": null,
   "metadata": {
    "colab": {},
    "colab_type": "code",
    "id": "RDGW7Cq_FyLC"
   },
   "outputs": [],
   "source": []
  },
  {
   "cell_type": "markdown",
   "metadata": {
    "colab_type": "text",
    "id": "OyoCl0RsFyLJ"
   },
   "source": [
    "## Conclusions"
   ]
  },
  {
   "cell_type": "code",
   "execution_count": null,
   "metadata": {
    "colab": {},
    "colab_type": "code",
    "id": "qqQafuIAFyLJ"
   },
   "outputs": [],
   "source": []
  }
 ],
 "metadata": {
  "colab": {
   "name": "aerofoil_noise.ipynb",
   "provenance": []
  },
  "kernelspec": {
   "display_name": "Python 3",
   "language": "python",
   "name": "python3"
  },
  "language_info": {
   "codemirror_mode": {
    "name": "ipython",
    "version": 3
   },
   "file_extension": ".py",
   "mimetype": "text/x-python",
   "name": "python",
   "nbconvert_exporter": "python",
   "pygments_lexer": "ipython3",
   "version": "3.8.2"
  }
 },
 "nbformat": 4,
 "nbformat_minor": 1
}
