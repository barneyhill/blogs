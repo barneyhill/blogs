{
 "cells": [
  {
   "cell_type": "code",
   "execution_count": 11,
   "metadata": {},
   "outputs": [],
   "source": [
    "import numpy as np         \n",
    "import pandas as pd\n",
    "import matplotlib.pyplot as plt\n",
    "from equadratures import *\n",
    "from sklearn.model_selection import train_test_split\n",
    "from sklearn.tree import DecisionTreeRegressor\n",
    "from sklearn.ensemble import RandomForestRegressor\n",
    "import time"
   ]
  },
  {
   "cell_type": "markdown",
   "metadata": {},
   "source": [
    "# Clean data"
   ]
  },
  {
   "cell_type": "code",
   "execution_count": 2,
   "metadata": {
    "scrolled": true
   },
   "outputs": [
    {
     "name": "stdout",
     "output_type": "stream",
     "text": [
      "--2020-06-11 18:11:51--  https://archive.ics.uci.edu/ml/machine-learning-databases/00291/airfoil_self_noise.dat\n",
      "Resolving archive.ics.uci.edu (archive.ics.uci.edu)... 128.195.10.252\n",
      "Connecting to archive.ics.uci.edu (archive.ics.uci.edu)|128.195.10.252|:443... connected.\n",
      "HTTP request sent, awaiting response... 200 OK\n",
      "Length: 59984 (59K) [application/x-httpd-php]\n",
      "Saving to: ‘airfoil_self_noise.dat’\n",
      "\n",
      "airfoil_self_noise. 100%[===================>]  58.58K   140KB/s    in 0.4s    \n",
      "\n",
      "2020-06-11 18:11:52 (140 KB/s) - ‘airfoil_self_noise.dat’ saved [59984/59984]\n",
      "\n",
      "(1503, 6)\n"
     ]
    }
   ],
   "source": [
    "# Download and load the UCI aerofoil noise dataset (00291)\n",
    "!wget https://archive.ics.uci.edu/ml/machine-learning-databases/00291/airfoil_self_noise.dat -O airfoil_self_noise.dat\n",
    "data = pd.read_table('airfoil_self_noise.dat',names=[\"frequency\",\"aoa\",\"chord\",\"vinf\",\"delta\",\"noise\"])\n",
    "print(data.shape)\n",
    "\n",
    "data = data[0:300]\n",
    "\n",
    "features = ['frequency','aoa','chord','vinf','delta']\n",
    "target   = 'noise'\n",
    "Xorig = data[features]\n",
    "y = data[target]\n",
    "nu = 1.568e-5 \n",
    "X = Xorig.copy()\n",
    "X['Re'] = X['chord']*X['vinf']/nu\n",
    "X=X.drop(columns=['chord','vinf'])\n",
    "features = X.keys()\n",
    "\n",
    "X_train, X_test, y_train, y_test = train_test_split(X, y, train_size=0.8, random_state=42)"
   ]
  },
  {
   "cell_type": "code",
   "execution_count": 1,
   "metadata": {},
   "outputs": [
    {
     "ename": "NameError",
     "evalue": "name 'data' is not defined",
     "output_type": "error",
     "traceback": [
      "\u001b[0;31m---------------------------------------------------------------------------\u001b[0m",
      "\u001b[0;31mNameError\u001b[0m                                 Traceback (most recent call last)",
      "\u001b[0;32m<ipython-input-1-c5d84736ba45>\u001b[0m in \u001b[0;36m<module>\u001b[0;34m\u001b[0m\n\u001b[0;32m----> 1\u001b[0;31m \u001b[0mdata\u001b[0m\u001b[0;34m\u001b[0m\u001b[0;34m\u001b[0m\u001b[0m\n\u001b[0m",
      "\u001b[0;31mNameError\u001b[0m: name 'data' is not defined"
     ]
    }
   ],
   "source": [
    "data"
   ]
  },
  {
   "cell_type": "markdown",
   "metadata": {},
   "source": [
    "# Run poly on 240 examples"
   ]
  },
  {
   "cell_type": "code",
   "execution_count": 4,
   "metadata": {},
   "outputs": [
    {
     "name": "stdout",
     "output_type": "stream",
     "text": [
      "Took 0.019616127014160156 seconds\n"
     ]
    }
   ],
   "source": [
    "from sklearn.preprocessing import StandardScaler,MinMaxScaler\n",
    "scaler = StandardScaler().fit(X_train)\n",
    "X_train = scaler.transform(X_train)\n",
    "\n",
    "y_train = y_train.to_numpy().reshape((y_train.shape[0],1))\n",
    "myParameters = []\n",
    "d = 4\n",
    "order = 3\n",
    "\n",
    "start = time.time()\n",
    "for dimension in range(d):\n",
    "    values = X_train[:,dimension]\n",
    "    values_min = min(values)\n",
    "    values_max = max(values)\n",
    "    if values_min == values_max:\n",
    "        myParameters.append(Parameter(distribution='Uniform', lower=values_min-0.01, upper=values_max+0.01, order=order))\n",
    "    else:\n",
    "        myParameters.append(Parameter(distribution='Uniform', lower=values_min, upper=values_max, order=order))\n",
    "        \n",
    "mybasis = Basis('total-order')\n",
    "method = 'least-squares'\n",
    "mypoly = Poly(parameters=myParameters, basis=mybasis, method=method, \\\n",
    "              sampling_args= {'mesh': 'user-defined', 'sample-points': X_train, 'sample-outputs': y_train})\n",
    "mypoly.set_model()\n",
    "t1 = time.time() - start\n",
    "print('Took {} seconds'.format(t1))"
   ]
  },
  {
   "cell_type": "markdown",
   "metadata": {},
   "source": [
    "# Run Tree with depth 1."
   ]
  },
  {
   "cell_type": "code",
   "execution_count": 5,
   "metadata": {},
   "outputs": [],
   "source": [
    "def _fit_poly(X, y, order, basis):\n",
    "\n",
    "        N, d = X.shape\n",
    "        myParameters = []\n",
    "\n",
    "        for dimension in range(d):\n",
    "                values = [X[i,dimension] for i in range(N)]\n",
    "                values_min = min(values)\n",
    "\n",
    "                values_max = max(values)\n",
    "                if values_min == values_max:\n",
    "                        myParameters.append(Parameter(distribution='Uniform', lower=values_min-0.01, upper=values_max+0.01, order=order))\n",
    "                else:\n",
    "                        myParameters.append(Parameter(distribution='Uniform', lower=values_min, upper=values_max, order=order))\n",
    "        myBasis = Basis(basis)\n",
    "        poly = Poly(myParameters, myBasis, method='least-squares', sampling_args={'sample-points':X, 'sample-outputs':y})\n",
    "        poly.set_model()\n",
    "\n",
    "        mse = float(sum([(y[i]-poly.get_polyfit(X)[i]) ** 2 for i in range(N)])) / N\n",
    "        return mse, poly\n",
    "\n",
    "def _split_data(j_feature, threshold, X, y):\n",
    "        idx_left = np.where(X[:, j_feature] <= threshold)[0]\n",
    "        idx_right = np.delete(np.arange(0, len(X)), idx_left)\n",
    "        assert len(idx_left) + len(idx_right) == len(X)\n",
    "        return (X[idx_left], y[idx_left]), (X[idx_right], y[idx_right])\n"
   ]
  },
  {
   "cell_type": "code",
   "execution_count": 6,
   "metadata": {},
   "outputs": [
    {
     "name": "stdout",
     "output_type": "stream",
     "text": [
      "Took 189.77284407615662 seconds\n"
     ]
    }
   ],
   "source": [
    "losses = [[],[],[],[]]\n",
    "min_samples_leaf = 20\n",
    "basis = 'total-order'\n",
    "N = X_train.shape[0]\n",
    "start = time.time()\n",
    "for j_feature in range(d):\n",
    "\n",
    "    threshold_search = X_train[:, j_feature]\n",
    "\n",
    "    # Perform threshold split search on j_feature\n",
    "    for threshold in threshold_search:\n",
    "\n",
    "        # Split data based on threshold\n",
    "        (X_left, y_left), (X_right, y_right) = _split_data(j_feature, threshold, X_train, y_train)\n",
    "        N_left, N_right = len(X_left), len(X_right)\n",
    "\n",
    "        # Do not attempt to split if split conditions not satisfied\n",
    "        if not (N_left >= min_samples_leaf and N_right >= min_samples_leaf):\n",
    "                continue\n",
    "\n",
    "        # Compute weight loss function\n",
    "        loss_left, poly_left = _fit_poly(X_left, y_left, order, basis)\n",
    "        loss_right, poly_right = _fit_poly(X_right, y_right, order, basis)\n",
    "        loss_split = (N_left*loss_left + N_right*loss_right) / N\n",
    "        \n",
    "        losses[j_feature].append([threshold, loss_split])\n",
    "t2 = time.time() - start\n",
    "print('Took {} seconds'.format(t2))"
   ]
  },
  {
   "cell_type": "code",
   "execution_count": 15,
   "metadata": {},
   "outputs": [
    {
     "data": {
      "image/png": "[encoded data removed]",
      "text/plain": [
       "<Figure size 432x288 with 1 Axes>"
      ]
     },
     "metadata": {
      "needs_background": "light"
     },
     "output_type": "display_data"
    },
    {
     "data": {
      "image/png": "[encoded data removed]",
      "text/plain": [
       "<Figure size 432x288 with 1 Axes>"
      ]
     },
     "metadata": {
      "needs_background": "light"
     },
     "output_type": "display_data"
    },
    {
     "data": {
      "image/png": "[encoded data removed]",
      "text/plain": [
       "<Figure size 432x288 with 1 Axes>"
      ]
     },
     "metadata": {
      "needs_background": "light"
     },
     "output_type": "display_data"
    },
    {
     "data": {
      "image/png": "[encoded data removed]",
      "text/plain": [
       "<Figure size 432x288 with 1 Axes>"
      ]
     },
     "metadata": {
      "needs_background": "light"
     },
     "output_type": "display_data"
    }
   ],
   "source": [
    "names = ['frequency','aoa','chord', 're']\n",
    "x = 0\n",
    "for loss in losses:\n",
    "    fig = plt.figure()\n",
    "    ax = fig.add_subplot(1,1,1)\n",
    "    for i in range(0, len(loss)):\n",
    "        plt.scatter(loss[i][0], loss[i][1], marker='o', s=80, color='tomato')\n",
    "    plt.xlabel('$Scaled X value$', fontsize=13)\n",
    "    plt.ylabel('$loss$', fontsize=13)\n",
    "    plt.xticks(fontsize=13)\n",
    "    plt.yticks(fontsize=13)\n",
    "    plt.title(names[x])\n",
    "    plt.show()\n",
    "    x+=1"
   ]
  },
  {
   "cell_type": "code",
   "execution_count": 10,
   "metadata": {},
   "outputs": [
    {
     "name": "stdout",
     "output_type": "stream",
     "text": [
      "Took 11.558644533157349 seconds\n"
     ]
    }
   ],
   "source": [
    "losses = [[],[],[],[]]\n",
    "min_samples_leaf = 20\n",
    "basis = 'total-order'\n",
    "N = X_train.shape[0]\n",
    "start = time.time()\n",
    "for j_feature in range(d):\n",
    "\n",
    "    threshold_search = X_train[:, j_feature]\n",
    "    seen_splits = []\n",
    "\n",
    "    # Perform threshold split search on j_feature\n",
    "    for threshold in threshold_search:\n",
    "        if threshold in seen_splits:\n",
    "            continue\n",
    "        \n",
    "        seen_splits.append(threshold)\n",
    "        \n",
    "        # Split data based on threshold\n",
    "        (X_left, y_left), (X_right, y_right) = _split_data(j_feature, threshold, X_train, y_train)\n",
    "        N_left, N_right = len(X_left), len(X_right)\n",
    "\n",
    "        # Do not attempt to split if split conditions not satisfied\n",
    "        if not (N_left >= min_samples_leaf and N_right >= min_samples_leaf):\n",
    "                continue\n",
    "\n",
    "        # Compute weight loss function\n",
    "        loss_left, poly_left = _fit_poly(X_left, y_left, order, basis)\n",
    "        loss_right, poly_right = _fit_poly(X_right, y_right, order, basis)\n",
    "        loss_split = (N_left*loss_left + N_right*loss_right) / N\n",
    "        \n",
    "        losses[j_feature].append([threshold, loss_split])\n",
    "t3 = time.time() - start\n",
    "print('Took {} seconds'.format(t3))"
   ]
  },
  {
   "cell_type": "code",
   "execution_count": null,
   "metadata": {},
   "outputs": [],
   "source": []
  }
 ],
 "metadata": {
  "kernelspec": {
   "display_name": "Python 3",
   "language": "python",
   "name": "python3"
  },
  "language_info": {
   "codemirror_mode": {
    "name": "ipython",
    "version": 3
   },
   "file_extension": ".py",
   "mimetype": "text/x-python",
   "name": "python",
   "nbconvert_exporter": "python",
   "pygments_lexer": "ipython3",
   "version": "3.8.2"
  }
 },
 "nbformat": 4,
 "nbformat_minor": 4
}
