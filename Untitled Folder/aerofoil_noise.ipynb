{
 "cells": [
  {
   "cell_type": "code",
   "execution_count": 1,
   "metadata": {
    "colab": {},
    "colab_type": "code",
    "id": "96_u_kYBFyJ1"
   },
   "outputs": [],
   "source": [
    "import numpy as np         \n",
    "import pandas as pd\n",
    "import matplotlib.pyplot as plt\n",
    "from equadratures import *\n",
    "from sklearn.model_selection import train_test_split\n",
    "from sklearn.tree import DecisionTreeRegressor\n",
    "from sklearn.ensemble import RandomForestRegressor"
   ]
  },
  {
   "cell_type": "markdown",
   "metadata": {
    "colab_type": "text",
    "id": "MCXVuaMHFyJ7"
   },
   "source": [
    "## Load the data"
   ]
  },
  {
   "cell_type": "code",
   "execution_count": 2,
   "metadata": {
    "colab": {},
    "colab_type": "code",
    "id": "IDsaycaRFyJ7",
    "outputId": "01af0d57-3de8-4514-bc8f-89ce5cb7131a"
   },
   "outputs": [
    {
     "name": "stdout",
     "output_type": "stream",
     "text": [
      "--2020-06-11 12:09:03--  https://archive.ics.uci.edu/ml/machine-learning-databases/00291/airfoil_self_noise.dat\n",
      "Resolving archive.ics.uci.edu (archive.ics.uci.edu)... 128.195.10.252\n",
      "Connecting to archive.ics.uci.edu (archive.ics.uci.edu)|128.195.10.252|:443... connected.\n",
      "HTTP request sent, awaiting response... 200 OK\n",
      "Length: 59984 (59K) [application/x-httpd-php]\n",
      "Saving to: ‘airfoil_self_noise.dat’\n",
      "\n",
      "airfoil_self_noise. 100%[===================>]  58.58K   143KB/s    in 0.4s    \n",
      "\n",
      "2020-06-11 12:09:04 (143 KB/s) - ‘airfoil_self_noise.dat’ saved [59984/59984]\n",
      "\n"
     ]
    }
   ],
   "source": [
    "# Download and load the UCI aerofoil noise dataset (00291)\n",
    "!wget https://archive.ics.uci.edu/ml/machine-learning-databases/00291/airfoil_self_noise.dat -O airfoil_self_noise.dat\n",
    "data = pd.read_table('airfoil_self_noise.dat',names=[\"frequency\",\"aoa\",\"chord\",\"vinf\",\"delta\",\"noise\"])"
   ]
  },
  {
   "cell_type": "code",
   "execution_count": 3,
   "metadata": {},
   "outputs": [
    {
     "data": {
      "text/html": [
       "<div>\n",
       "<style scoped>\n",
       "    .dataframe tbody tr th:only-of-type {\n",
       "        vertical-align: middle;\n",
       "    }\n",
       "\n",
       "    .dataframe tbody tr th {\n",
       "        vertical-align: top;\n",
       "    }\n",
       "\n",
       "    .dataframe thead th {\n",
       "        text-align: right;\n",
       "    }\n",
       "</style>\n",
       "<table border=\"1\" class=\"dataframe\">\n",
       "  <thead>\n",
       "    <tr style=\"text-align: right;\">\n",
       "      <th></th>\n",
       "      <th>frequency</th>\n",
       "      <th>aoa</th>\n",
       "      <th>chord</th>\n",
       "      <th>vinf</th>\n",
       "      <th>delta</th>\n",
       "      <th>noise</th>\n",
       "    </tr>\n",
       "  </thead>\n",
       "  <tbody>\n",
       "    <tr>\n",
       "      <th>0</th>\n",
       "      <td>800</td>\n",
       "      <td>0.0</td>\n",
       "      <td>0.3048</td>\n",
       "      <td>71.3</td>\n",
       "      <td>0.002663</td>\n",
       "      <td>126.201</td>\n",
       "    </tr>\n",
       "    <tr>\n",
       "      <th>1</th>\n",
       "      <td>1000</td>\n",
       "      <td>0.0</td>\n",
       "      <td>0.3048</td>\n",
       "      <td>71.3</td>\n",
       "      <td>0.002663</td>\n",
       "      <td>125.201</td>\n",
       "    </tr>\n",
       "    <tr>\n",
       "      <th>2</th>\n",
       "      <td>1250</td>\n",
       "      <td>0.0</td>\n",
       "      <td>0.3048</td>\n",
       "      <td>71.3</td>\n",
       "      <td>0.002663</td>\n",
       "      <td>125.951</td>\n",
       "    </tr>\n",
       "    <tr>\n",
       "      <th>3</th>\n",
       "      <td>1600</td>\n",
       "      <td>0.0</td>\n",
       "      <td>0.3048</td>\n",
       "      <td>71.3</td>\n",
       "      <td>0.002663</td>\n",
       "      <td>127.591</td>\n",
       "    </tr>\n",
       "    <tr>\n",
       "      <th>4</th>\n",
       "      <td>2000</td>\n",
       "      <td>0.0</td>\n",
       "      <td>0.3048</td>\n",
       "      <td>71.3</td>\n",
       "      <td>0.002663</td>\n",
       "      <td>127.461</td>\n",
       "    </tr>\n",
       "    <tr>\n",
       "      <th>...</th>\n",
       "      <td>...</td>\n",
       "      <td>...</td>\n",
       "      <td>...</td>\n",
       "      <td>...</td>\n",
       "      <td>...</td>\n",
       "      <td>...</td>\n",
       "    </tr>\n",
       "    <tr>\n",
       "      <th>1498</th>\n",
       "      <td>2500</td>\n",
       "      <td>15.6</td>\n",
       "      <td>0.1016</td>\n",
       "      <td>39.6</td>\n",
       "      <td>0.052849</td>\n",
       "      <td>110.264</td>\n",
       "    </tr>\n",
       "    <tr>\n",
       "      <th>1499</th>\n",
       "      <td>3150</td>\n",
       "      <td>15.6</td>\n",
       "      <td>0.1016</td>\n",
       "      <td>39.6</td>\n",
       "      <td>0.052849</td>\n",
       "      <td>109.254</td>\n",
       "    </tr>\n",
       "    <tr>\n",
       "      <th>1500</th>\n",
       "      <td>4000</td>\n",
       "      <td>15.6</td>\n",
       "      <td>0.1016</td>\n",
       "      <td>39.6</td>\n",
       "      <td>0.052849</td>\n",
       "      <td>106.604</td>\n",
       "    </tr>\n",
       "    <tr>\n",
       "      <th>1501</th>\n",
       "      <td>5000</td>\n",
       "      <td>15.6</td>\n",
       "      <td>0.1016</td>\n",
       "      <td>39.6</td>\n",
       "      <td>0.052849</td>\n",
       "      <td>106.224</td>\n",
       "    </tr>\n",
       "    <tr>\n",
       "      <th>1502</th>\n",
       "      <td>6300</td>\n",
       "      <td>15.6</td>\n",
       "      <td>0.1016</td>\n",
       "      <td>39.6</td>\n",
       "      <td>0.052849</td>\n",
       "      <td>104.204</td>\n",
       "    </tr>\n",
       "  </tbody>\n",
       "</table>\n",
       "<p>1503 rows × 6 columns</p>\n",
       "</div>"
      ],
      "text/plain": [
       "      frequency   aoa   chord  vinf     delta    noise\n",
       "0           800   0.0  0.3048  71.3  0.002663  126.201\n",
       "1          1000   0.0  0.3048  71.3  0.002663  125.201\n",
       "2          1250   0.0  0.3048  71.3  0.002663  125.951\n",
       "3          1600   0.0  0.3048  71.3  0.002663  127.591\n",
       "4          2000   0.0  0.3048  71.3  0.002663  127.461\n",
       "...         ...   ...     ...   ...       ...      ...\n",
       "1498       2500  15.6  0.1016  39.6  0.052849  110.264\n",
       "1499       3150  15.6  0.1016  39.6  0.052849  109.254\n",
       "1500       4000  15.6  0.1016  39.6  0.052849  106.604\n",
       "1501       5000  15.6  0.1016  39.6  0.052849  106.224\n",
       "1502       6300  15.6  0.1016  39.6  0.052849  104.204\n",
       "\n",
       "[1503 rows x 6 columns]"
      ]
     },
     "execution_count": 3,
     "metadata": {},
     "output_type": "execute_result"
    }
   ],
   "source": [
    "data"
   ]
  },
  {
   "cell_type": "code",
   "execution_count": 4,
   "metadata": {
    "colab": {},
    "colab_type": "code",
    "id": "58MSjnrtFyKB",
    "outputId": "3ff09131-34e4-46e8-bde6-c2fc78ac3207"
   },
   "outputs": [],
   "source": [
    "data = data[0:300]"
   ]
  },
  {
   "cell_type": "code",
   "execution_count": 5,
   "metadata": {
    "colab": {},
    "colab_type": "code",
    "id": "tAWeDqbfFyKG"
   },
   "outputs": [],
   "source": [
    "features = ['frequency','aoa','chord','vinf','delta']\n",
    "target   = 'noise'\n",
    "Xorig = data[features]\n",
    "y = data[target]"
   ]
  },
  {
   "cell_type": "code",
   "execution_count": 6,
   "metadata": {},
   "outputs": [
    {
     "name": "stdout",
     "output_type": "stream",
     "text": [
      "(300, 5) (300,)\n"
     ]
    }
   ],
   "source": [
    "print(Xorig.shape, y.shape)"
   ]
  },
  {
   "cell_type": "code",
   "execution_count": 7,
   "metadata": {
    "colab": {},
    "colab_type": "code",
    "id": "h_W0hPXXFyKK"
   },
   "outputs": [],
   "source": [
    "def r2_score(y_true, y_pred):\n",
    "    print(y_true.shape)\n",
    "    from sklearn.metrics import r2_score\n",
    "    r2 = r2_score(y_true, y_pred)\n",
    "    adj_r2 = (1 - (1 - r2) * ((y_true.shape[0] - 1) / \n",
    "                              (y_true.shape[0] - y_true.shape[1] - 1)))\n",
    "    return adj_r2"
   ]
  },
  {
   "cell_type": "markdown",
   "metadata": {
    "colab_type": "text",
    "id": "qZ-r4ggKFyKO"
   },
   "source": [
    "## Exploring the data"
   ]
  },
  {
   "cell_type": "code",
   "execution_count": 8,
   "metadata": {
    "colab": {},
    "colab_type": "code",
    "id": "13UOHsI7FyKO",
    "outputId": "f3fd09f2-a651-47c2-e709-efdfcf012075"
   },
   "outputs": [
    {
     "data": {
      "text/plain": [
       "Text(0, 0.5, 'noise')"
      ]
     },
     "execution_count": 8,
     "metadata": {},
     "output_type": "execute_result"
    },
    {
     "data": {
      "image/png": "[encoded data removed]",
      "text/plain": [
       "<Figure size 432x288 with 1 Axes>"
      ]
     },
     "metadata": {
      "needs_background": "light"
     },
     "output_type": "display_data"
    }
   ],
   "source": [
    "feature = features[0]\n",
    "plt.plot(Xorig[feature],y,'o')\n",
    "plt.xlabel(feature)\n",
    "plt.ylabel(target)"
   ]
  },
  {
   "cell_type": "markdown",
   "metadata": {
    "colab_type": "text",
    "id": "0jGvNgduFyKS"
   },
   "source": [
    "## Data cleaning"
   ]
  },
  {
   "cell_type": "code",
   "execution_count": 9,
   "metadata": {
    "colab": {},
    "colab_type": "code",
    "id": "bGobImYeFyKT"
   },
   "outputs": [],
   "source": [
    "nu = 1.568e-5 \n",
    "X = Xorig.copy()\n",
    "X['Re'] = X['chord']*X['vinf']/nu\n",
    "X=X.drop(columns=['chord','vinf'])\n",
    "#X['aoa'] = np.abs(X['aoa'])\n",
    "features = X.keys()"
   ]
  },
  {
   "cell_type": "markdown",
   "metadata": {
    "colab_type": "text",
    "id": "ZXaK7UjxFyKY"
   },
   "source": [
    "## Fitting some models!"
   ]
  },
  {
   "cell_type": "code",
   "execution_count": 10,
   "metadata": {
    "colab": {},
    "colab_type": "code",
    "id": "JYcR1uBKFyKY"
   },
   "outputs": [],
   "source": [
    "global X_train, X_test, y_train, y_test\n",
    "X_train, X_test, y_train, y_test = train_test_split(X, y, train_size=0.8, random_state=42)"
   ]
  },
  {
   "cell_type": "code",
   "execution_count": 11,
   "metadata": {
    "colab": {},
    "colab_type": "code",
    "id": "NUR91TkQFyKe"
   },
   "outputs": [],
   "source": [
    "def test_model(model,name):\n",
    "    model.fit(X_train, y_train)\n",
    "\n",
    "    y_pred_train = model.predict(X_train)   \n",
    "    y_pred_test = model.predict(X_test)\n",
    "    print(y_train)\n",
    "    r2_train = r2_score(y_train,y_pred_train)\n",
    "    r2_test = r2_score(y_test,y_pred_test)\n",
    "\n",
    "    fig, ax = plt.subplots()\n",
    "    ax.set_title('$R^2$ train = %.3f, $R^2$ test = %.3f' %(r2_train,r2_test))\n",
    "    fig.suptitle(name)\n",
    "    ax.plot(y_train,y_pred_train,'C0o',ms=8,mec='k',label='Train')\n",
    "    ax.plot(y_test, y_pred_test ,'C3o',ms=8,mec='k',label='Test',alpha=0.5)\n",
    "    ax.plot([0,150],[0,150],'k--')\n",
    "    ax.set_xlabel('True SPL (dB)')\n",
    "    ax.set_ylabel('Predicted SPL (dB)')\n",
    "    ax.set_xlim([100,140])\n",
    "    ax.set_ylim([100,140])\n",
    "    ax.set_aspect(1)\n",
    "    ax.legend()\n",
    "    plt.show()"
   ]
  },
  {
   "cell_type": "markdown",
   "metadata": {
    "colab_type": "text",
    "id": "t4_J1ASEFyKi"
   },
   "source": [
    "### Linear regression"
   ]
  },
  {
   "cell_type": "code",
   "execution_count": 12,
   "metadata": {
    "colab": {},
    "colab_type": "code",
    "id": "xPInzrgKFyKj",
    "outputId": "e957ec57-cfb2-44c6-8e5e-06a00bf3cc97"
   },
   "outputs": [
    {
     "name": "stdout",
     "output_type": "stream",
     "text": [
      "232    129.465\n",
      "59     120.755\n",
      "6      125.201\n",
      "185    118.743\n",
      "173    107.405\n",
      "        ...   \n",
      "188    128.144\n",
      "71     124.512\n",
      "106    121.514\n",
      "270    118.712\n",
      "102    127.634\n",
      "Name: noise, Length: 240, dtype: float64\n",
      "(240,)\n"
     ]
    },
    {
     "ename": "IndexError",
     "evalue": "tuple index out of range",
     "output_type": "error",
     "traceback": [
      "\u001b[0;31m---------------------------------------------------------------------------\u001b[0m",
      "\u001b[0;31mIndexError\u001b[0m                                Traceback (most recent call last)",
      "\u001b[0;32m<ipython-input-12-0afd1a0681aa>\u001b[0m in \u001b[0;36m<module>\u001b[0;34m\u001b[0m\n\u001b[1;32m      1\u001b[0m \u001b[0;32mfrom\u001b[0m \u001b[0msklearn\u001b[0m\u001b[0;34m.\u001b[0m\u001b[0mlinear_model\u001b[0m \u001b[0;32mimport\u001b[0m \u001b[0mLinearRegression\u001b[0m\u001b[0;34m,\u001b[0m \u001b[0mRidge\u001b[0m\u001b[0;34m,\u001b[0m \u001b[0mElasticNet\u001b[0m\u001b[0;34m,\u001b[0m\u001b[0mLars\u001b[0m\u001b[0;34m,\u001b[0m \u001b[0mLasso\u001b[0m\u001b[0;34m,\u001b[0m\u001b[0mLassoLars\u001b[0m\u001b[0;34m\u001b[0m\u001b[0;34m\u001b[0m\u001b[0m\n\u001b[0;32m----> 2\u001b[0;31m \u001b[0mtest_model\u001b[0m\u001b[0;34m(\u001b[0m\u001b[0mLinearRegression\u001b[0m\u001b[0;34m(\u001b[0m\u001b[0;34m)\u001b[0m\u001b[0;34m,\u001b[0m\u001b[0;34m'Linear regression'\u001b[0m\u001b[0;34m)\u001b[0m\u001b[0;34m\u001b[0m\u001b[0;34m\u001b[0m\u001b[0m\n\u001b[0m\u001b[1;32m      3\u001b[0m \u001b[0mtest_model\u001b[0m\u001b[0;34m(\u001b[0m\u001b[0mRidge\u001b[0m\u001b[0;34m(\u001b[0m\u001b[0;34m)\u001b[0m\u001b[0;34m,\u001b[0m\u001b[0;34m'Ridge regression'\u001b[0m\u001b[0;34m)\u001b[0m\u001b[0;34m\u001b[0m\u001b[0;34m\u001b[0m\u001b[0m\n\u001b[1;32m      4\u001b[0m \u001b[0mtest_model\u001b[0m\u001b[0;34m(\u001b[0m\u001b[0mElasticNet\u001b[0m\u001b[0;34m(\u001b[0m\u001b[0;34m)\u001b[0m\u001b[0;34m,\u001b[0m\u001b[0;34m'Elastic net regression'\u001b[0m\u001b[0;34m)\u001b[0m\u001b[0;34m\u001b[0m\u001b[0;34m\u001b[0m\u001b[0m\n\u001b[1;32m      5\u001b[0m \u001b[0;31m#test_model(Lars(),'LARS regression')\u001b[0m\u001b[0;34m\u001b[0m\u001b[0;34m\u001b[0m\u001b[0;34m\u001b[0m\u001b[0m\n",
      "\u001b[0;32m<ipython-input-11-90f3e170be2c>\u001b[0m in \u001b[0;36mtest_model\u001b[0;34m(model, name)\u001b[0m\n\u001b[1;32m      5\u001b[0m     \u001b[0my_pred_test\u001b[0m \u001b[0;34m=\u001b[0m \u001b[0mmodel\u001b[0m\u001b[0;34m.\u001b[0m\u001b[0mpredict\u001b[0m\u001b[0;34m(\u001b[0m\u001b[0mX_test\u001b[0m\u001b[0;34m)\u001b[0m\u001b[0;34m\u001b[0m\u001b[0;34m\u001b[0m\u001b[0m\n\u001b[1;32m      6\u001b[0m     \u001b[0mprint\u001b[0m\u001b[0;34m(\u001b[0m\u001b[0my_train\u001b[0m\u001b[0;34m)\u001b[0m\u001b[0;34m\u001b[0m\u001b[0;34m\u001b[0m\u001b[0m\n\u001b[0;32m----> 7\u001b[0;31m     \u001b[0mr2_train\u001b[0m \u001b[0;34m=\u001b[0m \u001b[0mr2_score\u001b[0m\u001b[0;34m(\u001b[0m\u001b[0my_train\u001b[0m\u001b[0;34m,\u001b[0m\u001b[0my_pred_train\u001b[0m\u001b[0;34m)\u001b[0m\u001b[0;34m\u001b[0m\u001b[0;34m\u001b[0m\u001b[0m\n\u001b[0m\u001b[1;32m      8\u001b[0m     \u001b[0mr2_test\u001b[0m \u001b[0;34m=\u001b[0m \u001b[0mr2_score\u001b[0m\u001b[0;34m(\u001b[0m\u001b[0my_test\u001b[0m\u001b[0;34m,\u001b[0m\u001b[0my_pred_test\u001b[0m\u001b[0;34m)\u001b[0m\u001b[0;34m\u001b[0m\u001b[0;34m\u001b[0m\u001b[0m\n\u001b[1;32m      9\u001b[0m \u001b[0;34m\u001b[0m\u001b[0m\n",
      "\u001b[0;32m<ipython-input-7-1078b4dceba3>\u001b[0m in \u001b[0;36mr2_score\u001b[0;34m(y_true, y_pred)\u001b[0m\n\u001b[1;32m      4\u001b[0m     \u001b[0mr2\u001b[0m \u001b[0;34m=\u001b[0m \u001b[0mr2_score\u001b[0m\u001b[0;34m(\u001b[0m\u001b[0my_true\u001b[0m\u001b[0;34m,\u001b[0m \u001b[0my_pred\u001b[0m\u001b[0;34m)\u001b[0m\u001b[0;34m\u001b[0m\u001b[0;34m\u001b[0m\u001b[0m\n\u001b[1;32m      5\u001b[0m     adj_r2 = (1 - (1 - r2) * ((y_true.shape[0] - 1) / \n\u001b[0;32m----> 6\u001b[0;31m                               (y_true.shape[0] - y_true.shape[1] - 1)))\n\u001b[0m\u001b[1;32m      7\u001b[0m     \u001b[0;32mreturn\u001b[0m \u001b[0madj_r2\u001b[0m\u001b[0;34m\u001b[0m\u001b[0;34m\u001b[0m\u001b[0m\n",
      "\u001b[0;31mIndexError\u001b[0m: tuple index out of range"
     ]
    }
   ],
   "source": [
    "from sklearn.linear_model import LinearRegression, Ridge, ElasticNet,Lars, Lasso,LassoLars\n",
    "test_model(LinearRegression(),'Linear regression')\n",
    "test_model(Ridge(),'Ridge regression')\n",
    "test_model(ElasticNet(),'Elastic net regression')\n",
    "#test_model(Lars(),'LARS regression')\n",
    "test_model(Lasso(),'LASSO regression')\n",
    "#test_model(LassoLars(),'LASSO LARS regression')"
   ]
  },
  {
   "cell_type": "code",
   "execution_count": null,
   "metadata": {
    "colab": {},
    "colab_type": "code",
    "id": "l1OUSdWAFyKn",
    "outputId": "871c65b0-6e1a-45b9-c219-b8308f89f6c7"
   },
   "outputs": [],
   "source": [
    "from sklearn.preprocessing import PolynomialFeatures\n",
    "from sklearn.pipeline import make_pipeline\n",
    "pipe = lambda model, deg: make_pipeline(PolynomialFeatures(deg), model)\n",
    "\n",
    "deg = 6\n",
    "test_model(pipe(LinearRegression(),deg),'Linear regression, order %d' %deg)\n",
    "test_model(pipe(Ridge()           ,deg),'Ridge regression, order %d' %deg)\n",
    "test_model(pipe(ElasticNet()      ,deg),'Elastic net regression, order %d' %deg)\n",
    "#test_model(pipe(Lars()            ,deg),'LARS regression, order %d' %deg)\n",
    "test_model(pipe(Lasso()           ,deg),'LASSO regression, order %d' %deg)\n",
    "#test_model(pipe(LassoLars()       ,deg),'LASSO LARS regression, order %d' %deg)"
   ]
  },
  {
   "cell_type": "markdown",
   "metadata": {
    "colab_type": "text",
    "id": "j-5GQ64bFyKr"
   },
   "source": [
    "### Decision tree"
   ]
  },
  {
   "cell_type": "code",
   "execution_count": null,
   "metadata": {
    "colab": {},
    "colab_type": "code",
    "id": "yDtcCPnOFyKs",
    "outputId": "ee6bf709-c91e-4e4b-ac0b-0cdfee501979"
   },
   "outputs": [],
   "source": [
    "test_model(DecisionTreeRegressor(max_depth=None),'Decision tree regression')"
   ]
  },
  {
   "cell_type": "markdown",
   "metadata": {
    "colab_type": "text",
    "id": "JqnOuoPHFyKv"
   },
   "source": [
    "### Random forest"
   ]
  },
  {
   "cell_type": "code",
   "execution_count": null,
   "metadata": {
    "colab": {},
    "colab_type": "code",
    "id": "s7uWE-WYFyKw",
    "outputId": "869f5ad9-5743-4214-a588-c41de0f1b149"
   },
   "outputs": [],
   "source": [
    "test_model(RandomForestRegressor(max_depth=None,n_estimators=100),'Random forest regression')"
   ]
  },
  {
   "cell_type": "code",
   "execution_count": null,
   "metadata": {
    "colab": {},
    "colab_type": "code",
    "id": "o_f3FZcuFyK3",
    "outputId": "73860d34-ba06-4b01-ea9f-f0ae85e01e64"
   },
   "outputs": [],
   "source": [
    "from sklearn.ensemble import GradientBoostingRegressor\n",
    "test_model(GradientBoostingRegressor(),'GB regression')"
   ]
  },
  {
   "cell_type": "code",
   "execution_count": 13,
   "metadata": {},
   "outputs": [
    {
     "name": "stdout",
     "output_type": "stream",
     "text": [
      "220.00786471366882\n",
      "https://dreampuf.github.io/GraphvizOnline/#digraph%20g%20%7B%0A%09node%20%5Bheight%3D.1%20shape%3Drecord%5D%0A%09node%20%5Blabel%3D%22frequency%20%3C%3D%20-0.5%5Cn%20n_samples%20%3D%20240%5Cn%20loss%20%3D%204.669430%5Cn%20sobol%20indices%3A%20%5B%27frequency%20%3A%200.003963869275495622%5C%5Cn%27%2C%20%27aoa%20%3A%200.17291538221382485%5C%5Cn%27%2C%20%27chord%20%3A%200.41025280976419487%5C%5Cn%27%2C%20%27vinf%20%3A%200.06341559224384018%5C%5Cn%27%5D%22%20shape%3Drectangle%5D%0A%09node0%20%5Bcolor%3Dblack%20fillcolor%3Dwhite%20fontcolor%3Dblack%20style%3Dfilled%5D%0A%09node%20%5Blabel%3D%22frequency%20%3C%3D%20-0.7%5Cn%20n_samples%20%3D%20108%5Cn%20loss%20%3D%200.114364%5Cn%20sobol%20indices%3A%20%5B%27frequency%20%3A%200.0005050667935309318%5C%5Cn%27%2C%20%27aoa%20%3A%200.17132296730145744%5C%5Cn%27%2C%20%27chord%20%3A%200.42224385788734575%5C%5Cn%27%2C%20%27vinf%20%3A%200.06238225873539075%5C%5Cn%27%5D%22%20shape%3Drectangle%5D%0A%09node1%20%5Bcolor%3Dblack%20fillcolor%3Dwhite%20fontcolor%3Dblack%20style%3Dfilled%5D%0A%09node0%20-%3E%20node1%20%5Blabel%3D%22%22%5D%0A%09node%20%5Blabel%3D%22frequency%20%3C%3D%20-0.8%5Cn%20n_samples%20%3D%2074%5Cn%20loss%20%3D%200.060524%5Cn%20sobol%20indices%3A%20%5B%27frequency%20%3A%200.00029059304553965995%5C%5Cn%27%2C%20%27aoa%20%3A%200.21003503550323604%5C%5Cn%27%2C%20%27chord%20%3A%200.3773176481050009%5C%5Cn%27%2C%20%27vinf%20%3A%200.07936834983821744%5C%5Cn%27%5D%22%20shape%3Drectangle%5D%0A%09node3%20%5Bcolor%3Dblack%20fillcolor%3Dwhite%20fontcolor%3Dblack%20style%3Dfilled%5D%0A%09node1%20-%3E%20node3%20%5Blabel%3D%22%22%5D%0A%09node%20%5Blabel%3D%22%20n_samples%20%3D%2041%5Cn%20loss%20%3D%200.068892%5Cn%20sobol%20indices%3A%20%5B%27frequency%20%3A%200.00011215766262784783%5C%5Cn%27%2C%20%27aoa%20%3A%200.016693747131005778%5C%5Cn%27%2C%20%27chord%20%3A%200.22741334170670474%5C%5Cn%27%2C%20%27vinf%20%3A%200.035899799870767364%5C%5Cn%27%5D%22%20shape%3Drectangle%5D%0A%09node5%20%5Bcolor%3Dblack%20fillcolor%3Dwhite%20fontcolor%3Dblack%20style%3Dfilled%5D%0A%09node3%20-%3E%20node5%20%5Blabel%3D%22%22%5D%0A%09node%20%5Blabel%3D%22%20n_samples%20%3D%2033%5Cn%20loss%20%3D%200.001810%5Cn%20sobol%20indices%3A%20%5B%27frequency%20%3A%200.8627022331972641%5C%5Cn%27%2C%20%27aoa%20%3A%200.0014587635067897175%5C%5Cn%27%2C%20%27chord%20%3A%200.054537815916223205%5C%5Cn%27%2C%20%27vinf%20%3A%200.00017950473616232054%5C%5Cn%27%5D%22%20shape%3Drectangle%5D%0A%09node6%20%5Bcolor%3Dblack%20fillcolor%3Dwhite%20fontcolor%3Dblack%20style%3Dfilled%5D%0A%09node3%20-%3E%20node6%20%5Blabel%3D%22%22%5D%0A%09node%20%5Blabel%3D%22%20n_samples%20%3D%2034%5Cn%20loss%20%3D%200.000497%5Cn%20sobol%20indices%3A%20%5B%27frequency%20%3A%200.002895419636661765%5C%5Cn%27%2C%20%27aoa%20%3A%200.01743626285592511%5C%5Cn%27%2C%20%27chord%20%3A%200.20506122442066968%5C%5Cn%27%2C%20%27vinf%20%3A%200.005618530126943784%5C%5Cn%27%5D%22%20shape%3Drectangle%5D%0A%09node4%20%5Bcolor%3Dblack%20fillcolor%3Dwhite%20fontcolor%3Dblack%20style%3Dfilled%5D%0A%09node1%20-%3E%20node4%20%5Blabel%3D%22%22%5D%0A%09node%20%5Blabel%3D%22frequency%20%3C%3D%200.6%5Cn%20n_samples%20%3D%20132%5Cn%20loss%20%3D%200.446725%5Cn%20sobol%20indices%3A%20%5B%27frequency%20%3A%200.0020640191983084203%5C%5Cn%27%2C%20%27aoa%20%3A%200.18194804924060098%5C%5Cn%27%2C%20%27chord%20%3A%200.4235915216527089%5C%5Cn%27%2C%20%27vinf%20%3A%200.07119622848919843%5C%5Cn%27%5D%22%20shape%3Drectangle%5D%0A%09node2%20%5Bcolor%3Dblack%20fillcolor%3Dwhite%20fontcolor%3Dblack%20style%3Dfilled%5D%0A%09node0%20-%3E%20node2%20%5Blabel%3D%22%22%5D%0A%09node%20%5Blabel%3D%22frequency%20%3C%3D%20-0.3%5Cn%20n_samples%20%3D%2092%5Cn%20loss%20%3D%200.201265%5Cn%20sobol%20indices%3A%20%5B%27frequency%20%3A%204.1624421606212425e-05%5C%5Cn%27%2C%20%27aoa%20%3A%200.17461172136244088%5C%5Cn%27%2C%20%27chord%20%3A%200.42922132951579145%5C%5Cn%27%2C%20%27vinf%20%3A%200.07819624418712114%5C%5Cn%27%5D%22%20shape%3Drectangle%5D%0A%09node7%20%5Bcolor%3Dblack%20fillcolor%3Dwhite%20fontcolor%3Dblack%20style%3Dfilled%5D%0A%09node2%20-%3E%20node7%20%5Blabel%3D%22%22%5D%0A%09node%20%5Blabel%3D%22%20n_samples%20%3D%2030%5Cn%20loss%20%3D%200.011159%5Cn%20sobol%20indices%3A%20%5B%27frequency%20%3A%200.6401966782319632%5C%5Cn%27%2C%20%27aoa%20%3A%200.012134215796676565%5C%5Cn%27%2C%20%27chord%20%3A%200.038346188546317654%5C%5Cn%27%2C%20%27vinf%20%3A%200.002878131856346268%5C%5Cn%27%5D%22%20shape%3Drectangle%5D%0A%09node9%20%5Bcolor%3Dblack%20fillcolor%3Dwhite%20fontcolor%3Dblack%20style%3Dfilled%5D%0A%09node7%20-%3E%20node9%20%5Blabel%3D%22%22%5D%0A%09node%20%5Blabel%3D%22%20n_samples%20%3D%2062%5Cn%20loss%20%3D%200.057629%5Cn%20sobol%20indices%3A%20%5B%27frequency%20%3A%205.825226613518867e-05%5C%5Cn%27%2C%20%27aoa%20%3A%200.1731267699162724%5C%5Cn%27%2C%20%27chord%20%3A%200.4275387855321112%5C%5Cn%27%2C%20%27vinf%20%3A%200.07973012478021875%5C%5Cn%27%5D%22%20shape%3Drectangle%5D%0A%09node10%20%5Bcolor%3Dblack%20fillcolor%3Dwhite%20fontcolor%3Dblack%20style%3Dfilled%5D%0A%09node7%20-%3E%20node10%20%5Blabel%3D%22%22%5D%0A%09node%20%5Blabel%3D%22%20n_samples%20%3D%2040%5Cn%20loss%20%3D%200.078196%5Cn%20sobol%20indices%3A%20%5B%27frequency%20%3A%200.012482339990510549%5C%5Cn%27%2C%20%27aoa%20%3A%200.22226937542961978%5C%5Cn%27%2C%20%27chord%20%3A%200.326765742454948%5C%5Cn%27%2C%20%27vinf%20%3A%200.05819505395531463%5C%5Cn%27%5D%22%20shape%3Drectangle%5D%0A%09node8%20%5Bcolor%3Dblack%20fillcolor%3Dwhite%20fontcolor%3Dblack%20style%3Dfilled%5D%0A%09node2%20-%3E%20node8%20%5Blabel%3D%22%22%5D%0A%7D\n",
      "[[129.465]\n",
      " [120.755]\n",
      " [125.201]\n",
      " [118.743]\n",
      " [107.405]\n",
      " [119.319]\n",
      " [123.236]\n",
      " [115.996]\n",
      " [124.355]\n",
      " [115.863]\n",
      " [118.134]\n",
      " [112.169]\n",
      " [123.635]\n",
      " [125.824]\n",
      " [127.632]\n",
      " [120.227]\n",
      " [126.661]\n",
      " [128.831]\n",
      " [127.122]\n",
      " [129.057]\n",
      " [129.395]\n",
      " [113.858]\n",
      " [126.986]\n",
      " [115.679]\n",
      " [106.582]\n",
      " [129.569]\n",
      " [124.439]\n",
      " [123.392]\n",
      " [127.696]\n",
      " [117.151]\n",
      " [124.304]\n",
      " [129.004]\n",
      " [125.872]\n",
      " [125.025]\n",
      " [125.499]\n",
      " [128.086]\n",
      " [130.723]\n",
      " [126.838]\n",
      " [127.417]\n",
      " [125.992]\n",
      " [117.465]\n",
      " [126.632]\n",
      " [122.779]\n",
      " [120.963]\n",
      " [124.612]\n",
      " [124.625]\n",
      " [114.042]\n",
      " [126.086]\n",
      " [126.343]\n",
      " [106.111]\n",
      " [128.312]\n",
      " [129.002]\n",
      " [125.211]\n",
      " [128.816]\n",
      " [127.356]\n",
      " [129.329]\n",
      " [128.708]\n",
      " [125.797]\n",
      " [118.134]\n",
      " [128.29 ]\n",
      " [127.365]\n",
      " [110.905]\n",
      " [120.233]\n",
      " [121.775]\n",
      " [115.792]\n",
      " [124.086]\n",
      " [124.049]\n",
      " [113.799]\n",
      " [122.044]\n",
      " [118.827]\n",
      " [118.922]\n",
      " [126.159]\n",
      " [119.535]\n",
      " [127.329]\n",
      " [128.257]\n",
      " [120.137]\n",
      " [109.718]\n",
      " [128.633]\n",
      " [131.073]\n",
      " [125.951]\n",
      " [129.949]\n",
      " [125.398]\n",
      " [130.173]\n",
      " [122.439]\n",
      " [126.54 ]\n",
      " [126.842]\n",
      " [123.312]\n",
      " [119.632]\n",
      " [118.129]\n",
      " [128.311]\n",
      " [120.472]\n",
      " [120.264]\n",
      " [125.305]\n",
      " [129.575]\n",
      " [121.397]\n",
      " [128.216]\n",
      " [127.095]\n",
      " [108.265]\n",
      " [117.624]\n",
      " [127.581]\n",
      " [122.41 ]\n",
      " [130.715]\n",
      " [112.241]\n",
      " [129.099]\n",
      " [111.076]\n",
      " [123.118]\n",
      " [116.417]\n",
      " [122.816]\n",
      " [116.165]\n",
      " [125.045]\n",
      " [108.991]\n",
      " [126.79 ]\n",
      " [128.956]\n",
      " [120.319]\n",
      " [120.981]\n",
      " [126.486]\n",
      " [120.162]\n",
      " [116.476]\n",
      " [123.037]\n",
      " [110.652]\n",
      " [114.474]\n",
      " [126.201]\n",
      " [122.232]\n",
      " [122.147]\n",
      " [129.494]\n",
      " [124.692]\n",
      " [120.786]\n",
      " [113.665]\n",
      " [128.454]\n",
      " [127.899]\n",
      " [118.145]\n",
      " [120.088]\n",
      " [125.625]\n",
      " [121.66 ]\n",
      " [116.815]\n",
      " [115.391]\n",
      " [120.527]\n",
      " [123.742]\n",
      " [113.076]\n",
      " [130.205]\n",
      " [127.461]\n",
      " [118.689]\n",
      " [124.809]\n",
      " [126.16 ]\n",
      " [131.015]\n",
      " [126.54 ]\n",
      " [120.147]\n",
      " [116.792]\n",
      " [115.645]\n",
      " [120.532]\n",
      " [125.472]\n",
      " [130.307]\n",
      " [121.301]\n",
      " [126.642]\n",
      " [126.752]\n",
      " [110.515]\n",
      " [116.229]\n",
      " [122.797]\n",
      " [126.395]\n",
      " [121.399]\n",
      " [117.309]\n",
      " [129.037]\n",
      " [123.565]\n",
      " [115.608]\n",
      " [121.106]\n",
      " [128.492]\n",
      " [114.634]\n",
      " [124.001]\n",
      " [127.91 ]\n",
      " [123.41 ]\n",
      " [123.689]\n",
      " [122.035]\n",
      " [128.677]\n",
      " [122.292]\n",
      " [114.984]\n",
      " [126.416]\n",
      " [109.619]\n",
      " [112.251]\n",
      " [128.762]\n",
      " [122.175]\n",
      " [125.157]\n",
      " [119.54 ]\n",
      " [131.755]\n",
      " [117.789]\n",
      " [126.195]\n",
      " [128.698]\n",
      " [128.244]\n",
      " [130.435]\n",
      " [127.006]\n",
      " [127.591]\n",
      " [124.024]\n",
      " [129.095]\n",
      " [125.802]\n",
      " [125.201]\n",
      " [129.552]\n",
      " [126.514]\n",
      " [118.595]\n",
      " [121.851]\n",
      " [127.53 ]\n",
      " [128.629]\n",
      " [117.741]\n",
      " [127.315]\n",
      " [120.505]\n",
      " [108.721]\n",
      " [122.101]\n",
      " [123.775]\n",
      " [121.407]\n",
      " [122.782]\n",
      " [126.677]\n",
      " [125.116]\n",
      " [129.235]\n",
      " [122.765]\n",
      " [123.543]\n",
      " [129.134]\n",
      " [115.137]\n",
      " [113.733]\n",
      " [117.785]\n",
      " [122.375]\n",
      " [117.195]\n",
      " [128.805]\n",
      " [126.116]\n",
      " [124.106]\n",
      " [131.615]\n",
      " [129.147]\n",
      " [128.354]\n",
      " [113.086]\n",
      " [122.088]\n",
      " [129.292]\n",
      " [119.598]\n",
      " [129.354]\n",
      " [122.211]\n",
      " [118.41 ]\n",
      " [120.189]\n",
      " [126.758]\n",
      " [126.616]\n",
      " [128.144]\n",
      " [124.512]\n",
      " [121.514]\n",
      " [118.712]\n",
      " [127.634]]\n",
      "(240, 1)\n",
      "(60, 1)\n",
      "35\n",
      "35\n",
      "35\n",
      "35\n",
      "35\n",
      "35\n"
     ]
    }
   ],
   "source": [
    "import time\n",
    "start = time.time()\n",
    "from sklearn.preprocessing import StandardScaler,MinMaxScaler\n",
    "scaler = StandardScaler().fit(X_train)\n",
    "#scaler = MinMaxScaler((-1,1)).fit(X_train)\n",
    "X_train_temp = scaler.transform(X_train)\n",
    "X_test_temp  = scaler.transform(X_test)\n",
    "\n",
    "y_train = y_train.to_numpy().reshape((y_train.shape[0],1))\n",
    "y_test = y_test.to_numpy().reshape((y_test.shape[0],1))\n",
    "\n",
    "model = polytree.PolyTree(max_depth=3,min_samples_leaf=30,basis='total-order')\n",
    "model.fit(X_train_temp, y_train)\n",
    "print(time.time()-start)\n",
    "model.get_graphviz(feature_names=['frequency','aoa','chord','vinf'])\n",
    "\n",
    "y_pred_train = model.predict(X_train_temp)   \n",
    "y_pred_test = model.predict(X_test_temp)\n",
    "print(y_train)\n",
    "r2_train = r2_score(y_train,y_pred_train)\n",
    "r2_test = r2_score(y_test,y_pred_test)\n",
    "\n",
    "for poly in model.get_polys():\n",
    "    print(poly.basis.cardinality)"
   ]
  },
  {
   "cell_type": "code",
   "execution_count": 23,
   "metadata": {},
   "outputs": [
    {
     "name": "stdout",
     "output_type": "stream",
     "text": [
      "5219.836858987808\n",
      "https://dreampuf.github.io/GraphvizOnline/#digraph%20g%20%7B%0A%09node%20%5Bheight%3D.1%20shape%3Drecord%5D%0A%09node%20%5Blabel%3D%22frequency%20%3C%3D%20-0.7%5Cn%20n_samples%20%3D%20240%5Cn%20loss%20%3D%205.989063%5Cn%20sobol%20indices%3A%20%5B%27frequency%20%3A%200.7058895812391578%5C%5Cn%27%2C%20%27aoa%20%3A%200.0033130575247431048%5C%5Cn%27%2C%20%27chord%20%3A%200.14427499132546182%5C%5Cn%27%2C%20%27vinf%20%3A%200.019240617244782116%5C%5Cn%27%5D%22%20shape%3Drectangle%5D%0A%09node0%20%5Bcolor%3Dblack%20fillcolor%3Dwhite%20fontcolor%3Dblack%20style%3Dfilled%5D%0A%09node%20%5Blabel%3D%22frequency%20%3C%3D%20-0.8%5Cn%20n_samples%20%3D%2074%5Cn%20loss%20%3D%201.651935%5Cn%20sobol%20indices%3A%20%5B%27frequency%20%3A%200.5407611279858416%5C%5Cn%27%2C%20%27aoa%20%3A%200.007733593200658885%5C%5Cn%27%2C%20%27chord%20%3A%200.06291397773613863%5C%5Cn%27%2C%20%27vinf%20%3A%200.003847337138537693%5C%5Cn%27%5D%22%20shape%3Drectangle%5D%0A%09node1%20%5Bcolor%3Dblack%20fillcolor%3Dwhite%20fontcolor%3Dblack%20style%3Dfilled%5D%0A%09node0%20-%3E%20node1%20%5Blabel%3D%22%22%5D%0A%09node%20%5Blabel%3D%22vinf%20%3C%3D%20-0.4%5Cn%20n_samples%20%3D%2041%5Cn%20loss%20%3D%200.441443%5Cn%20sobol%20indices%3A%20%5B%27frequency%20%3A%200.22540449034610702%5C%5Cn%27%2C%20%27aoa%20%3A%200.03289629368386551%5C%5Cn%27%2C%20%27chord%20%3A%200.05542083342961481%5C%5Cn%27%2C%20%27vinf%20%3A%200.10874854679885902%5C%5Cn%27%5D%22%20shape%3Drectangle%5D%0A%09node3%20%5Bcolor%3Dblack%20fillcolor%3Dwhite%20fontcolor%3Dblack%20style%3Dfilled%5D%0A%09node1%20-%3E%20node3%20%5Blabel%3D%22%22%5D%0A%09node%20%5Blabel%3D%22frequency%20%3C%3D%20-0.8%5Cn%20n_samples%20%3D%2028%5Cn%20loss%20%3D%200.191601%5Cn%20sobol%20indices%3A%20%5B%27frequency%20%3A%200.4876885514249672%5C%5Cn%27%2C%20%27aoa%20%3A%200.08174142590137316%5C%5Cn%27%2C%20%27chord%20%3A%200.25854288609848647%5C%5Cn%27%2C%20%27vinf%20%3A%200.005486006801038802%5C%5Cn%27%5D%22%20shape%3Drectangle%5D%0A%09node5%20%5Bcolor%3Dblack%20fillcolor%3Dwhite%20fontcolor%3Dblack%20style%3Dfilled%5D%0A%09node3%20-%3E%20node5%20%5Blabel%3D%22%22%5D%0A%09node%20%5Blabel%3D%22%20n_samples%20%3D%2012%5Cn%20loss%20%3D%200.140438%5Cn%20sobol%20indices%3A%20%5B%27frequency%20%3A%200.5576070436355197%5C%5Cn%27%2C%20%27aoa%20%3A%200.010320441722213115%5C%5Cn%27%2C%20%27chord%20%3A%200.032441013764481615%5C%5Cn%27%2C%20%27vinf%20%3A%200.0073289283769519134%5C%5Cn%27%5D%22%20shape%3Drectangle%5D%0A%09node7%20%5Bcolor%3Dblack%20fillcolor%3Dwhite%20fontcolor%3Dblack%20style%3Dfilled%5D%0A%09node5%20-%3E%20node7%20%5Blabel%3D%22%22%5D%0A%09node%20%5Blabel%3D%22%20n_samples%20%3D%2016%5Cn%20loss%20%3D%200.002837%5Cn%20sobol%20indices%3A%20%5B%27frequency%20%3A%200.035177239824667875%5C%5Cn%27%2C%20%27aoa%20%3A%200.09442279208784782%5C%5Cn%27%2C%20%27chord%20%3A%200.06327110855101924%5C%5Cn%27%2C%20%27vinf%20%3A%200.029244811169819012%5C%5Cn%27%5D%22%20shape%3Drectangle%5D%0A%09node8%20%5Bcolor%3Dblack%20fillcolor%3Dwhite%20fontcolor%3Dblack%20style%3Dfilled%5D%0A%09node5%20-%3E%20node8%20%5Blabel%3D%22%22%5D%0A%09node%20%5Blabel%3D%22%20n_samples%20%3D%2013%5Cn%20loss%20%3D%200.024867%5Cn%20sobol%20indices%3A%20%5B%27frequency%20%3A%200.046853997328171665%5C%5Cn%27%2C%20%27aoa%20%3A%200.29702014583463365%5C%5Cn%27%2C%20%27chord%20%3A%200.18737465178476062%5C%5Cn%27%2C%20%27vinf%20%3A%200.0044963141687220055%5C%5Cn%27%5D%22%20shape%3Drectangle%5D%0A%09node6%20%5Bcolor%3Dblack%20fillcolor%3Dwhite%20fontcolor%3Dblack%20style%3Dfilled%5D%0A%09node3%20-%3E%20node6%20%5Blabel%3D%22%22%5D%0A%09node%20%5Blabel%3D%22vinf%20%3C%3D%20-0.4%5Cn%20n_samples%20%3D%2033%5Cn%20loss%20%3D%200.268506%5Cn%20sobol%20indices%3A%20%5B%27frequency%20%3A%200.02010049560917194%5C%5Cn%27%2C%20%27aoa%20%3A%200.022267112278650313%5C%5Cn%27%2C%20%27chord%20%3A%200.4866549999664273%5C%5Cn%27%2C%20%27vinf%20%3A%200.029017895159027814%5C%5Cn%27%5D%22%20shape%3Drectangle%5D%0A%09node4%20%5Bcolor%3Dblack%20fillcolor%3Dwhite%20fontcolor%3Dblack%20style%3Dfilled%5D%0A%09node1%20-%3E%20node4%20%5Blabel%3D%22%22%5D%0A%09node%20%5Blabel%3D%22%20n_samples%20%3D%2017%5Cn%20loss%20%3D%200.000629%5Cn%20sobol%20indices%3A%20%5B%27frequency%20%3A%200.0023942815918739867%5C%5Cn%27%2C%20%27aoa%20%3A%200.09657554481746874%5C%5Cn%27%2C%20%27chord%20%3A%200.1011250893569325%5C%5Cn%27%2C%20%27vinf%20%3A%200.00030745075725808704%5C%5Cn%27%5D%22%20shape%3Drectangle%5D%0A%09node9%20%5Bcolor%3Dblack%20fillcolor%3Dwhite%20fontcolor%3Dblack%20style%3Dfilled%5D%0A%09node4%20-%3E%20node9%20%5Blabel%3D%22%22%5D%0A%09node%20%5Blabel%3D%22%20n_samples%20%3D%2016%5Cn%20loss%20%3D%200.002212%5Cn%20sobol%20indices%3A%20%5B%27frequency%20%3A%200.01580075516546135%5C%5Cn%27%2C%20%27aoa%20%3A%200.03413227693406161%5C%5Cn%27%2C%20%27chord%20%3A%200.01485950327743278%5C%5Cn%27%2C%20%27vinf%20%3A%200.05167226158839175%5C%5Cn%27%5D%22%20shape%3Drectangle%5D%0A%09node10%20%5Bcolor%3Dblack%20fillcolor%3Dwhite%20fontcolor%3Dblack%20style%3Dfilled%5D%0A%09node4%20-%3E%20node10%20%5Blabel%3D%22%22%5D%0A%09node%20%5Blabel%3D%22frequency%20%3C%3D%200.0%5Cn%20n_samples%20%3D%20166%5Cn%20loss%20%3D%203.149637%5Cn%20sobol%20indices%3A%20%5B%27frequency%20%3A%200.8121415808881016%5C%5Cn%27%2C%20%27aoa%20%3A%200.0006911355286720678%5C%5Cn%27%2C%20%27chord%20%3A%200.09588170912226146%5C%5Cn%27%2C%20%27vinf%20%3A%200.02820206336034445%5C%5Cn%27%5D%22%20shape%3Drectangle%5D%0A%09node2%20%5Bcolor%3Dblack%20fillcolor%3Dwhite%20fontcolor%3Dblack%20style%3Dfilled%5D%0A%09node0%20-%3E%20node2%20%5Blabel%3D%22%22%5D%0A%09node%20%5Blabel%3D%22frequency%20%3C%3D%20-0.4%5Cn%20n_samples%20%3D%2093%5Cn%20loss%20%3D%201.003341%5Cn%20sobol%20indices%3A%20%5B%27frequency%20%3A%200.1692491386486246%5C%5Cn%27%2C%20%27aoa%20%3A%200.16948142254358578%5C%5Cn%27%2C%20%27chord%20%3A%200.5227192242439488%5C%5Cn%27%2C%20%27vinf%20%3A%200.006195099429753846%5C%5Cn%27%5D%22%20shape%3Drectangle%5D%0A%09node11%20%5Bcolor%3Dblack%20fillcolor%3Dwhite%20fontcolor%3Dblack%20style%3Dfilled%5D%0A%09node2%20-%3E%20node11%20%5Blabel%3D%22%22%5D%0A%09node%20%5Blabel%3D%22vinf%20%3C%3D%20-0.4%5Cn%20n_samples%20%3D%2049%5Cn%20loss%20%3D%200.406616%5Cn%20sobol%20indices%3A%20%5B%27frequency%20%3A%200.06566552436634769%5C%5Cn%27%2C%20%27aoa%20%3A%200.34480509865875886%5C%5Cn%27%2C%20%27chord%20%3A%200.5015444349487581%5C%5Cn%27%2C%20%27vinf%20%3A%200.004680220819465522%5C%5Cn%27%5D%22%20shape%3Drectangle%5D%0A%09node13%20%5Bcolor%3Dblack%20fillcolor%3Dwhite%20fontcolor%3Dblack%20style%3Dfilled%5D%0A%09node11%20-%3E%20node13%20%5Blabel%3D%22%22%5D%0A%09node%20%5Blabel%3D%22aoa%20%3C%3D%20-0.1%5Cn%20n_samples%20%3D%2023%5Cn%20loss%20%3D%200.063305%5Cn%20sobol%20indices%3A%20%5B%27frequency%20%3A%200.04757748101172064%5C%5Cn%27%2C%20%27aoa%20%3A%200.27241091403158696%5C%5Cn%27%2C%20%27chord%20%3A%200.3038674596373%5C%5Cn%27%2C%20%27vinf%20%3A%203.320303471524902e-05%5C%5Cn%27%5D%22%20shape%3Drectangle%5D%0A%09node15%20%5Bcolor%3Dblack%20fillcolor%3Dwhite%20fontcolor%3Dblack%20style%3Dfilled%5D%0A%09node13%20-%3E%20node15%20%5Blabel%3D%22%22%5D%0A%09node%20%5Blabel%3D%22%20n_samples%20%3D%2012%5Cn%20loss%20%3D%200.051727%5Cn%20sobol%20indices%3A%20%5B%27frequency%20%3A%209.811055304491322e-05%5C%5Cn%27%2C%20%27aoa%20%3A%200.7875521662024552%5C%5Cn%27%2C%20%27chord%20%3A%200.028201544594730017%5C%5Cn%27%2C%20%27vinf%20%3A%200.0326939458741229%5C%5Cn%27%5D%22%20shape%3Drectangle%5D%0A%09node17%20%5Bcolor%3Dblack%20fillcolor%3Dwhite%20fontcolor%3Dblack%20style%3Dfilled%5D%0A%09node15%20-%3E%20node17%20%5Blabel%3D%22%22%5D%0A%09node%20%5Blabel%3D%22%20n_samples%20%3D%2011%5Cn%20loss%20%3D%200.009055%5Cn%20sobol%20indices%3A%20%5B%27frequency%20%3A%200.0005581897937917182%5C%5Cn%27%2C%20%27aoa%20%3A%200.12990102267266002%5C%5Cn%27%2C%20%27chord%20%3A%200.5475088431423786%5C%5Cn%27%2C%20%27vinf%20%3A%200.04470594124504378%5C%5Cn%27%5D%22%20shape%3Drectangle%5D%0A%09node18%20%5Bcolor%3Dblack%20fillcolor%3Dwhite%20fontcolor%3Dblack%20style%3Dfilled%5D%0A%09node15%20-%3E%20node18%20%5Blabel%3D%22%22%5D%0A%09node%20%5Blabel%3D%22aoa%20%3C%3D%20-1.1%5Cn%20n_samples%20%3D%2026%5Cn%20loss%20%3D%200.064918%5Cn%20sobol%20indices%3A%20%5B%27frequency%20%3A%200.008171996315695517%5C%5Cn%27%2C%20%27aoa%20%3A%200.39090543799308825%5C%5Cn%27%2C%20%27chord%20%3A%200.41766582974037997%5C%5Cn%27%2C%20%27vinf%20%3A%200.009502212770521124%5C%5Cn%27%5D%22%20shape%3Drectangle%5D%0A%09node16%20%5Bcolor%3Dblack%20fillcolor%3Dwhite%20fontcolor%3Dblack%20style%3Dfilled%5D%0A%09node13%20-%3E%20node16%20%5Blabel%3D%22%22%5D%0A%09node%20%5Blabel%3D%22%20n_samples%20%3D%2010%5Cn%20loss%20%3D%200.011487%5Cn%20sobol%20indices%3A%20%5B%27frequency%20%3A%200.350250495025452%5C%5Cn%27%2C%20%27aoa%20%3A%207.422011752978372e-28%5C%5Cn%27%2C%20%27chord%20%3A%200.3757842551540621%5C%5Cn%27%2C%20%27vinf%20%3A%200.006696971413248435%5C%5Cn%27%5D%22%20shape%3Drectangle%5D%0A%09node19%20%5Bcolor%3Dblack%20fillcolor%3Dwhite%20fontcolor%3Dblack%20style%3Dfilled%5D%0A%09node16%20-%3E%20node19%20%5Blabel%3D%22%22%5D%0A%09node%20%5Blabel%3D%22%20n_samples%20%3D%2016%5Cn%20loss%20%3D%200.044581%5Cn%20sobol%20indices%3A%20%5B%27frequency%20%3A%200.00014854133884190446%5C%5Cn%27%2C%20%27aoa%20%3A%200.0013914669072937343%5C%5Cn%27%2C%20%27chord%20%3A%200.18667739461260807%5C%5Cn%27%2C%20%27vinf%20%3A%200.10021658993985648%5C%5Cn%27%5D%22%20shape%3Drectangle%5D%0A%09node20%20%5Bcolor%3Dblack%20fillcolor%3Dwhite%20fontcolor%3Dblack%20style%3Dfilled%5D%0A%09node16%20-%3E%20node20%20%5Blabel%3D%22%22%5D%0A%09node%20%5Blabel%3D%22chord%20%3C%3D%20-0.2%5Cn%20n_samples%20%3D%2044%5Cn%20loss%20%3D%200.296362%5Cn%20sobol%20indices%3A%20%5B%27frequency%20%3A%200.02331190480986552%5C%5Cn%27%2C%20%27aoa%20%3A%200.18429763930060464%5C%5Cn%27%2C%20%27chord%20%3A%200.6419376666321264%5C%5Cn%27%2C%20%27vinf%20%3A%200.006333510631795175%5C%5Cn%27%5D%22%20shape%3Drectangle%5D%0A%09node14%20%5Bcolor%3Dblack%20fillcolor%3Dwhite%20fontcolor%3Dblack%20style%3Dfilled%5D%0A%09node11%20-%3E%20node14%20%5Blabel%3D%22%22%5D%0A%09node%20%5Blabel%3D%22frequency%20%3C%3D%20-0.3%5Cn%20n_samples%20%3D%2026%5Cn%20loss%20%3D%200.117187%5Cn%20sobol%20indices%3A%20%5B%27frequency%20%3A%200.028132427619424576%5C%5Cn%27%2C%20%27aoa%20%3A%200.09575112098376672%5C%5Cn%27%2C%20%27chord%20%3A%200.6679606156837139%5C%5Cn%27%2C%20%27vinf%20%3A%200.14212601356175922%5C%5Cn%27%5D%22%20shape%3Drectangle%5D%0A%09node21%20%5Bcolor%3Dblack%20fillcolor%3Dwhite%20fontcolor%3Dblack%20style%3Dfilled%5D%0A%09node14%20-%3E%20node21%20%5Blabel%3D%22%22%5D%0A%09node%20%5Blabel%3D%22%20n_samples%20%3D%2010%5Cn%20loss%20%3D%200.072950%5Cn%20sobol%20indices%3A%20%5B%27frequency%20%3A%200.0%5C%5Cn%27%2C%20%27aoa%20%3A%200.09658037607731149%5C%5Cn%27%2C%20%27chord%20%3A%200.13994183182307937%5C%5Cn%27%2C%20%27vinf%20%3A%200.3614828573152852%5C%5Cn%27%5D%22%20shape%3Drectangle%5D%0A%09node23%20%5Bcolor%3Dblack%20fillcolor%3Dwhite%20fontcolor%3Dblack%20style%3Dfilled%5D%0A%09node21%20-%3E%20node23%20%5Blabel%3D%22%22%5D%0A%09node%20%5Blabel%3D%22%20n_samples%20%3D%2016%5Cn%20loss%20%3D%200.032594%5Cn%20sobol%20indices%3A%20%5B%27frequency%20%3A%200.006769251228968715%5C%5Cn%27%2C%20%27aoa%20%3A%200.0053771427313573355%5C%5Cn%27%2C%20%27chord%20%3A%200.02820340446089924%5C%5Cn%27%2C%20%27vinf%20%3A%200.3987010875779652%5C%5Cn%27%5D%22%20shape%3Drectangle%5D%0A%09node24%20%5Bcolor%3Dblack%20fillcolor%3Dwhite%20fontcolor%3Dblack%20style%3Dfilled%5D%0A%09node21%20-%3E%20node24%20%5Blabel%3D%22%22%5D%0A%09node%20%5Blabel%3D%22%20n_samples%20%3D%2018%5Cn%20loss%20%3D%200.008858%5Cn%20sobol%20indices%3A%20%5B%27frequency%20%3A%200.009509787564919046%5C%5Cn%27%2C%20%27aoa%20%3A%200.19674466807356006%5C%5Cn%27%2C%20%27chord%20%3A%200.3638090652411619%5C%5Cn%27%2C%20%27vinf%20%3A%200.12974205596253163%5C%5Cn%27%5D%22%20shape%3Drectangle%5D%0A%09node22%20%5Bcolor%3Dblack%20fillcolor%3Dwhite%20fontcolor%3Dblack%20style%3Dfilled%5D%0A%09node14%20-%3E%20node22%20%5Blabel%3D%22%22%5D%0A%09node%20%5Blabel%3D%22frequency%20%3C%3D%200.9%5Cn%20n_samples%20%3D%2073%5Cn%20loss%20%3D%201.466287%5Cn%20sobol%20indices%3A%20%5B%27frequency%20%3A%200.503052720888025%5C%5Cn%27%2C%20%27aoa%20%3A%200.026899479794913687%5C%5Cn%27%2C%20%27chord%20%3A%200.09445186464444812%5C%5Cn%27%2C%20%27vinf%20%3A%200.02873917321229096%5C%5Cn%27%5D%22%20shape%3Drectangle%5D%0A%09node12%20%5Bcolor%3Dblack%20fillcolor%3Dwhite%20fontcolor%3Dblack%20style%3Dfilled%5D%0A%09node2%20-%3E%20node12%20%5Blabel%3D%22%22%5D%0A%09node%20%5Blabel%3D%22vinf%20%3C%3D%20-0.9%5Cn%20n_samples%20%3D%2046%5Cn%20loss%20%3D%200.410801%5Cn%20sobol%20indices%3A%20%5B%27frequency%20%3A%200.019065992731893668%5C%5Cn%27%2C%20%27aoa%20%3A%200.1858006614615662%5C%5Cn%27%2C%20%27chord%20%3A%200.7538948883863767%5C%5Cn%27%2C%20%27vinf%20%3A%200.0030620808120152584%5C%5Cn%27%5D%22%20shape%3Drectangle%5D%0A%09node25%20%5Bcolor%3Dblack%20fillcolor%3Dwhite%20fontcolor%3Dblack%20style%3Dfilled%5D%0A%09node12%20-%3E%20node25%20%5Blabel%3D%22%22%5D%0A%09node%20%5Blabel%3D%22%20n_samples%20%3D%2015%5Cn%20loss%20%3D%200.082221%5Cn%20sobol%20indices%3A%20%5B%27frequency%20%3A%200.0005316981358609222%5C%5Cn%27%2C%20%27aoa%20%3A%200.24026980612937357%5C%5Cn%27%2C%20%27chord%20%3A%200.45281389194060456%5C%5Cn%27%2C%20%27vinf%20%3A%200.048982598438379876%5C%5Cn%27%5D%22%20shape%3Drectangle%5D%0A%09node27%20%5Bcolor%3Dblack%20fillcolor%3Dwhite%20fontcolor%3Dblack%20style%3Dfilled%5D%0A%09node25%20-%3E%20node27%20%5Blabel%3D%22%22%5D%0A%09node%20%5Blabel%3D%22vinf%20%3C%3D%200.5%5Cn%20n_samples%20%3D%2031%5Cn%20loss%20%3D%200.165079%5Cn%20sobol%20indices%3A%20%5B%27frequency%20%3A%200.015895399807169128%5C%5Cn%27%2C%20%27aoa%20%3A%200.19069481235719216%5C%5Cn%27%2C%20%27chord%20%3A%200.7494472957124297%5C%5Cn%27%2C%20%27vinf%20%3A%200.000597127378863015%5C%5Cn%27%5D%22%20shape%3Drectangle%5D%0A%09node28%20%5Bcolor%3Dblack%20fillcolor%3Dwhite%20fontcolor%3Dblack%20style%3Dfilled%5D%0A%09node25%20-%3E%20node28%20%5Blabel%3D%22%22%5D%0A%09node%20%5Blabel%3D%22%20n_samples%20%3D%2020%5Cn%20loss%20%3D%200.073374%5Cn%20sobol%20indices%3A%20%5B%27frequency%20%3A%200.2591408409587126%5C%5Cn%27%2C%20%27aoa%20%3A%200.03645882465256668%5C%5Cn%27%2C%20%27chord%20%3A%200.0627575028529376%5C%5Cn%27%2C%20%27vinf%20%3A%200.020164335704023033%5C%5Cn%27%5D%22%20shape%3Drectangle%5D%0A%09node29%20%5Bcolor%3Dblack%20fillcolor%3Dwhite%20fontcolor%3Dblack%20style%3Dfilled%5D%0A%09node28%20-%3E%20node29%20%5Blabel%3D%22%22%5D%0A%09node%20%5Blabel%3D%22%20n_samples%20%3D%2011%5Cn%20loss%20%3D%200.007607%5Cn%20sobol%20indices%3A%20%5B%27frequency%20%3A%200.0030391032910358803%5C%5Cn%27%2C%20%27aoa%20%3A%200.16486693911861952%5C%5Cn%27%2C%20%27chord%20%3A%200.057675824865540015%5C%5Cn%27%2C%20%27vinf%20%3A%200.31614811257693765%5C%5Cn%27%5D%22%20shape%3Drectangle%5D%0A%09node30%20%5Bcolor%3Dblack%20fillcolor%3Dwhite%20fontcolor%3Dblack%20style%3Dfilled%5D%0A%09node28%20-%3E%20node30%20%5Blabel%3D%22%22%5D%0A%09node%20%5Blabel%3D%22frequency%20%3C%3D%202.0%5Cn%20n_samples%20%3D%2027%5Cn%20loss%20%3D%200.210280%5Cn%20sobol%20indices%3A%20%5B%27frequency%20%3A%200.2608612585905261%5C%5Cn%27%2C%20%27aoa%20%3A%200.025472306910906316%5C%5Cn%27%2C%20%27chord%20%3A%200.006667683735811238%5C%5Cn%27%2C%20%27vinf%20%3A%200.03365262999334635%5C%5Cn%27%5D%22%20shape%3Drectangle%5D%0A%09node26%20%5Bcolor%3Dblack%20fillcolor%3Dwhite%20fontcolor%3Dblack%20style%3Dfilled%5D%0A%09node12%20-%3E%20node26%20%5Blabel%3D%22%22%5D%0A%09node%20%5Blabel%3D%22%20n_samples%20%3D%2017%5Cn%20loss%20%3D%200.005745%5Cn%20sobol%20indices%3A%20%5B%27frequency%20%3A%200.11352549600711435%5C%5Cn%27%2C%20%27aoa%20%3A%200.1413435394075924%5C%5Cn%27%2C%20%27chord%20%3A%200.3124722491316213%5C%5Cn%27%2C%20%27vinf%20%3A%200.004257466396407944%5C%5Cn%27%5D%22%20shape%3Drectangle%5D%0A%09node31%20%5Bcolor%3Dblack%20fillcolor%3Dwhite%20fontcolor%3Dblack%20style%3Dfilled%5D%0A%09node26%20-%3E%20node31%20%5Blabel%3D%22%22%5D%0A%09node%20%5Blabel%3D%22%20n_samples%20%3D%2010%5Cn%20loss%20%3D%200.135820%5Cn%20sobol%20indices%3A%20%5B%27frequency%20%3A%200.2166079341070105%5C%5Cn%27%2C%20%27aoa%20%3A%200.06066654448853854%5C%5Cn%27%2C%20%27chord%20%3A%200.005013312073606631%5C%5Cn%27%2C%20%27vinf%20%3A%200.35080391777168507%5C%5Cn%27%5D%22%20shape%3Drectangle%5D%0A%09node32%20%5Bcolor%3Dblack%20fillcolor%3Dwhite%20fontcolor%3Dblack%20style%3Dfilled%5D%0A%09node26%20-%3E%20node32%20%5Blabel%3D%22%22%5D%0A%7D\n",
      "[[129.465]\n",
      " [120.755]\n",
      " [125.201]\n",
      " [118.743]\n",
      " [107.405]\n",
      " [119.319]\n",
      " [123.236]\n",
      " [115.996]\n",
      " [124.355]\n",
      " [115.863]\n",
      " [118.134]\n",
      " [112.169]\n",
      " [123.635]\n",
      " [125.824]\n",
      " [127.632]\n",
      " [120.227]\n",
      " [126.661]\n",
      " [128.831]\n",
      " [127.122]\n",
      " [129.057]\n",
      " [129.395]\n",
      " [113.858]\n",
      " [126.986]\n",
      " [115.679]\n",
      " [106.582]\n",
      " [129.569]\n",
      " [124.439]\n",
      " [123.392]\n",
      " [127.696]\n",
      " [117.151]\n",
      " [124.304]\n",
      " [129.004]\n",
      " [125.872]\n",
      " [125.025]\n",
      " [125.499]\n",
      " [128.086]\n",
      " [130.723]\n",
      " [126.838]\n",
      " [127.417]\n",
      " [125.992]\n",
      " [117.465]\n",
      " [126.632]\n",
      " [122.779]\n",
      " [120.963]\n",
      " [124.612]\n",
      " [124.625]\n",
      " [114.042]\n",
      " [126.086]\n",
      " [126.343]\n",
      " [106.111]\n",
      " [128.312]\n",
      " [129.002]\n",
      " [125.211]\n",
      " [128.816]\n",
      " [127.356]\n",
      " [129.329]\n",
      " [128.708]\n",
      " [125.797]\n",
      " [118.134]\n",
      " [128.29 ]\n",
      " [127.365]\n",
      " [110.905]\n",
      " [120.233]\n",
      " [121.775]\n",
      " [115.792]\n",
      " [124.086]\n",
      " [124.049]\n",
      " [113.799]\n",
      " [122.044]\n",
      " [118.827]\n",
      " [118.922]\n",
      " [126.159]\n",
      " [119.535]\n",
      " [127.329]\n",
      " [128.257]\n",
      " [120.137]\n",
      " [109.718]\n",
      " [128.633]\n",
      " [131.073]\n",
      " [125.951]\n",
      " [129.949]\n",
      " [125.398]\n",
      " [130.173]\n",
      " [122.439]\n",
      " [126.54 ]\n",
      " [126.842]\n",
      " [123.312]\n",
      " [119.632]\n",
      " [118.129]\n",
      " [128.311]\n",
      " [120.472]\n",
      " [120.264]\n",
      " [125.305]\n",
      " [129.575]\n",
      " [121.397]\n",
      " [128.216]\n",
      " [127.095]\n",
      " [108.265]\n",
      " [117.624]\n",
      " [127.581]\n",
      " [122.41 ]\n",
      " [130.715]\n",
      " [112.241]\n",
      " [129.099]\n",
      " [111.076]\n",
      " [123.118]\n",
      " [116.417]\n",
      " [122.816]\n",
      " [116.165]\n",
      " [125.045]\n",
      " [108.991]\n",
      " [126.79 ]\n",
      " [128.956]\n",
      " [120.319]\n",
      " [120.981]\n",
      " [126.486]\n",
      " [120.162]\n",
      " [116.476]\n",
      " [123.037]\n",
      " [110.652]\n",
      " [114.474]\n",
      " [126.201]\n",
      " [122.232]\n",
      " [122.147]\n",
      " [129.494]\n",
      " [124.692]\n",
      " [120.786]\n",
      " [113.665]\n",
      " [128.454]\n",
      " [127.899]\n",
      " [118.145]\n",
      " [120.088]\n",
      " [125.625]\n",
      " [121.66 ]\n",
      " [116.815]\n",
      " [115.391]\n",
      " [120.527]\n",
      " [123.742]\n",
      " [113.076]\n",
      " [130.205]\n",
      " [127.461]\n",
      " [118.689]\n",
      " [124.809]\n",
      " [126.16 ]\n",
      " [131.015]\n",
      " [126.54 ]\n",
      " [120.147]\n",
      " [116.792]\n",
      " [115.645]\n",
      " [120.532]\n",
      " [125.472]\n",
      " [130.307]\n",
      " [121.301]\n",
      " [126.642]\n",
      " [126.752]\n",
      " [110.515]\n",
      " [116.229]\n",
      " [122.797]\n",
      " [126.395]\n",
      " [121.399]\n",
      " [117.309]\n",
      " [129.037]\n",
      " [123.565]\n",
      " [115.608]\n",
      " [121.106]\n",
      " [128.492]\n",
      " [114.634]\n",
      " [124.001]\n",
      " [127.91 ]\n",
      " [123.41 ]\n",
      " [123.689]\n",
      " [122.035]\n",
      " [128.677]\n",
      " [122.292]\n",
      " [114.984]\n",
      " [126.416]\n",
      " [109.619]\n",
      " [112.251]\n",
      " [128.762]\n",
      " [122.175]\n",
      " [125.157]\n",
      " [119.54 ]\n",
      " [131.755]\n",
      " [117.789]\n",
      " [126.195]\n",
      " [128.698]\n",
      " [128.244]\n",
      " [130.435]\n",
      " [127.006]\n",
      " [127.591]\n",
      " [124.024]\n",
      " [129.095]\n",
      " [125.802]\n",
      " [125.201]\n",
      " [129.552]\n",
      " [126.514]\n",
      " [118.595]\n",
      " [121.851]\n",
      " [127.53 ]\n",
      " [128.629]\n",
      " [117.741]\n",
      " [127.315]\n",
      " [120.505]\n",
      " [108.721]\n",
      " [122.101]\n",
      " [123.775]\n",
      " [121.407]\n",
      " [122.782]\n",
      " [126.677]\n",
      " [125.116]\n",
      " [129.235]\n",
      " [122.765]\n",
      " [123.543]\n",
      " [129.134]\n",
      " [115.137]\n",
      " [113.733]\n",
      " [117.785]\n",
      " [122.375]\n",
      " [117.195]\n",
      " [128.805]\n",
      " [126.116]\n",
      " [124.106]\n",
      " [131.615]\n",
      " [129.147]\n",
      " [128.354]\n",
      " [113.086]\n",
      " [122.088]\n",
      " [129.292]\n",
      " [119.598]\n",
      " [129.354]\n",
      " [122.211]\n",
      " [118.41 ]\n",
      " [120.189]\n",
      " [126.758]\n",
      " [126.616]\n",
      " [128.144]\n",
      " [124.512]\n",
      " [121.514]\n",
      " [118.712]\n",
      " [127.634]]\n",
      "(240, 1)\n",
      "(60, 1)\n",
      "16\n",
      "16\n",
      "16\n",
      "16\n",
      "16\n",
      "16\n",
      "16\n",
      "16\n",
      "16\n",
      "16\n",
      "16\n",
      "16\n",
      "16\n",
      "16\n",
      "16\n",
      "16\n",
      "16\n"
     ]
    }
   ],
   "source": [
    "model = polytree.PolyTree(order=1)\n",
    "model.fit(X_train_temp, y_train)\n",
    "print(time.time()-start)\n",
    "model.get_graphviz(feature_names=['frequency','aoa','chord','vinf'])\n",
    "\n",
    "y_pred_train = model.predict(X_train_temp)   \n",
    "y_pred_test = model.predict(X_test_temp)\n",
    "print(y_train)\n",
    "r2_train = r2_score(y_train,y_pred_train)\n",
    "r2_test = r2_score(y_test,y_pred_test)\n",
    "\n",
    "for poly in model.get_polys():\n",
    "    print(poly.basis.cardinality)"
   ]
  },
  {
   "cell_type": "code",
   "execution_count": 24,
   "metadata": {},
   "outputs": [
    {
     "data": {
      "image/png": "[encoded data removed]",
      "text/plain": [
       "<Figure size 432x288 with 1 Axes>"
      ]
     },
     "metadata": {
      "needs_background": "light"
     },
     "output_type": "display_data"
    },
    {
     "name": "stdout",
     "output_type": "stream",
     "text": [
      "5220.040776729584\n"
     ]
    }
   ],
   "source": [
    "fig, ax = plt.subplots()\n",
    "ax.set_title('$R^2$ train = %.3f, $R^2$ test = %.3f' %(r2_train,r2_test))\n",
    "#total-orderax.plot(y_train,y_pred_train,'C0o',ms=8,mec='k',label='Train')\n",
    "ax.plot(y_test, y_pred_test ,'C3o',ms=8,mec='k',label='Test',alpha=0.5)\n",
    "ax.plot([0,150],[0,150],'k--')\n",
    "ax.set_xlabel('True SPL (dB)')\n",
    "ax.set_ylabel('Predicted SPL (dB)')\n",
    "ax.set_xlim([100,140])\n",
    "ax.set_ylim([100,140])\n",
    "ax.set_aspect(1)\n",
    "ax.legend()\n",
    "plt.show()\n",
    "print(time.time() - start)"
   ]
  },
  {
   "cell_type": "code",
   "execution_count": null,
   "metadata": {},
   "outputs": [],
   "source": [
    "model.tree"
   ]
  },
  {
   "cell_type": "markdown",
   "metadata": {
    "colab_type": "text",
    "id": "mcqBmFfkFyK6"
   },
   "source": [
    "### Orthogonal polynomials"
   ]
  },
  {
   "cell_type": "code",
   "execution_count": 19,
   "metadata": {
    "colab": {},
    "colab_type": "code",
    "id": "4DLvI3UrFyK7",
    "outputId": "d120c512-929b-47fe-bfea-3a9f89274742"
   },
   "outputs": [
    {
     "data": {
      "image/png": "[encoded data removed]",
      "text/plain": [
       "<Figure size 432x288 with 1 Axes>"
      ]
     },
     "metadata": {
      "needs_background": "light"
     },
     "output_type": "display_data"
    }
   ],
   "source": [
    "from sklearn.preprocessing import StandardScaler,MinMaxScaler\n",
    "scaler = StandardScaler().fit(X_train)\n",
    "#scaler = MinMaxScaler((-1,1)).fit(X_train)\n",
    "X_train_temp = scaler.transform(X_train)\n",
    "X_test_temp  = scaler.transform(X_test)\n",
    "\n",
    "myparameters = [Parameter(distribution='uniform', lower=np.min(X_train_temp[f]), upper=np.max(X_train_temp.max()), order=3) for f in range(len(features))]\n",
    "#myparameters = [Parameter(distribution='custom', data=X_train_temp[f], order=3) for f in range(len(features))]\n",
    "mybasis = Basis('total-order')\n",
    "#mybasis = Basis('tensor-grid')\n",
    "#mybasis = Basis('euclidean-degree')\n",
    "#mybasis = Basis('hyperbolic-basis',q=0.9)\n",
    "#mybasis = Basis('sparse-grid', growth_rule='linear', level=2)\n",
    "method = 'least-squares'\n",
    "mypoly = Poly(parameters=myparameters, basis=mybasis, method=method, \\\n",
    "              sampling_args= {'mesh': 'user-defined', 'sample-points': X_train_temp, 'sample-outputs': y_train})\n",
    "mypoly.set_model()\n",
    "\n",
    "s = myparameters[0]\n",
    "s_values, pdf = s.get_pdf()\n",
    "s_samples = s.get_samples(6000)\n",
    "fig = plt.figure()\n",
    "ax = fig.add_subplot(1,1,1)\n",
    "ax.set_axisbelow(True)\n",
    "plt.plot(s_values, pdf, '-', c='crimson', lw=4)\n",
    "plt.xlabel('$s$')\n",
    "plt.ylabel('PDF')\n",
    "plt.fill_between(s_values,  pdf*0.0, pdf, color=\"crimson\" , interpolate=True, hatch=\"\\\\\\\\\\\\\\\\\", edgecolor=\"grey\",  linewidth=0.5,alpha=0.5)\n",
    "plt.grid()"
   ]
  },
  {
   "cell_type": "code",
   "execution_count": 20,
   "metadata": {
    "colab": {},
    "colab_type": "code",
    "id": "QmEu8ycVFyK-",
    "outputId": "98b0b0a5-c6c3-4c23-fffd-13c2c26f4531"
   },
   "outputs": [
    {
     "name": "stdout",
     "output_type": "stream",
     "text": [
      "(240, 1)\n",
      "(60, 1)\n"
     ]
    },
    {
     "data": {
      "image/png": "[encoded data removed]",
      "text/plain": [
       "<Figure size 432x288 with 1 Axes>"
      ]
     },
     "metadata": {
      "needs_background": "light"
     },
     "output_type": "display_data"
    }
   ],
   "source": [
    "y_pred_train = mypoly.get_polyfit(X_train_temp)\n",
    "y_pred_test  = mypoly.get_polyfit(X_test_temp)\n",
    "r2_train = r2_score(y_train,y_pred_train)\n",
    "r2_test = r2_score(y_test,y_pred_test)\n",
    "\n",
    "fig, ax = plt.subplots()\n",
    "ax.set_title('$R^2$ train = %.3f, $R^2$ test = %.3f' %(r2_train,r2_test))\n",
    "fig.suptitle('Orthogonal polynomial regression with EQ')\n",
    "ax.plot(y_train,y_pred_train,'C0o',ms=8,mec='k',label='Train')\n",
    "ax.plot(y_test, y_pred_test ,'C3o',ms=8,mec='k',label='Test',alpha=0.5)\n",
    "ax.plot([0,150],[0,150],'k--')\n",
    "ax.set_xlabel('True SPL (dB)')\n",
    "ax.set_ylabel('Predicted SPL (dB)')\n",
    "ax.set_xlim([100,140])\n",
    "ax.set_ylim([100,140])\n",
    "ax.set_aspect(1)\n",
    "ax.legend()\n",
    "plt.show()"
   ]
  },
  {
   "cell_type": "markdown",
   "metadata": {
    "colab_type": "text",
    "id": "Rj9Od_FYFyLC"
   },
   "source": [
    "## Interpreting the models"
   ]
  },
  {
   "cell_type": "code",
   "execution_count": null,
   "metadata": {
    "colab": {},
    "colab_type": "code",
    "id": "RDGW7Cq_FyLC"
   },
   "outputs": [],
   "source": []
  },
  {
   "cell_type": "markdown",
   "metadata": {
    "colab_type": "text",
    "id": "OyoCl0RsFyLJ"
   },
   "source": [
    "## Conclusions"
   ]
  },
  {
   "cell_type": "code",
   "execution_count": null,
   "metadata": {
    "colab": {},
    "colab_type": "code",
    "id": "qqQafuIAFyLJ"
   },
   "outputs": [],
   "source": []
  }
 ],
 "metadata": {
  "colab": {
   "name": "aerofoil_noise.ipynb",
   "provenance": []
  },
  "kernelspec": {
   "display_name": "Python 3",
   "language": "python",
   "name": "python3"
  },
  "language_info": {
   "codemirror_mode": {
    "name": "ipython",
    "version": 3
   },
   "file_extension": ".py",
   "mimetype": "text/x-python",
   "name": "python",
   "nbconvert_exporter": "python",
   "pygments_lexer": "ipython3",
   "version": "3.8.2"
  }
 },
 "nbformat": 4,
 "nbformat_minor": 1
}
