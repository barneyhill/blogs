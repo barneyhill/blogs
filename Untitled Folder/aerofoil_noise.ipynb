{
 "cells": [
  {
   "cell_type": "code",
   "execution_count": 1,
   "metadata": {
    "colab": {},
    "colab_type": "code",
    "id": "96_u_kYBFyJ1"
   },
   "outputs": [],
   "source": [
    "import numpy as np         \n",
    "import pandas as pd\n",
    "import matplotlib.pyplot as plt\n",
    "from equadratures import *\n",
    "from sklearn.model_selection import train_test_split\n",
    "from sklearn.tree import DecisionTreeRegressor\n",
    "from sklearn.ensemble import RandomForestRegressor\n",
    "from sklearn.metrics import mean_absolute_error"
   ]
  },
  {
   "cell_type": "markdown",
   "metadata": {
    "colab_type": "text",
    "id": "MCXVuaMHFyJ7"
   },
   "source": [
    "## Load the data"
   ]
  },
  {
   "cell_type": "code",
   "execution_count": 2,
   "metadata": {
    "colab": {},
    "colab_type": "code",
    "id": "IDsaycaRFyJ7",
    "outputId": "01af0d57-3de8-4514-bc8f-89ce5cb7131a"
   },
   "outputs": [
    {
     "name": "stdout",
     "output_type": "stream",
     "text": [
      "--2020-07-14 14:54:04--  https://archive.ics.uci.edu/ml/machine-learning-databases/00291/airfoil_self_noise.dat\n",
      "Resolving archive.ics.uci.edu (archive.ics.uci.edu)... 128.195.10.252\n",
      "Connecting to archive.ics.uci.edu (archive.ics.uci.edu)|128.195.10.252|:443... connected.\n",
      "HTTP request sent, awaiting response... 200 OK\n",
      "Length: 59984 (59K) [application/x-httpd-php]\n",
      "Saving to: ‘airfoil_self_noise.dat’\n",
      "\n",
      "airfoil_self_noise. 100%[===================>]  58.58K   140KB/s    in 0.4s    \n",
      "\n",
      "2020-07-14 14:54:06 (140 KB/s) - ‘airfoil_self_noise.dat’ saved [59984/59984]\n",
      "\n"
     ]
    }
   ],
   "source": [
    "# Download and load the UCI aerofoil noise dataset (00291)\n",
    "!wget https://archive.ics.uci.edu/ml/machine-learning-databases/00291/airfoil_self_noise.dat -O airfoil_self_noise.dat\n",
    "data = pd.read_table('airfoil_self_noise.dat',names=[\"frequency\",\"aoa\",\"chord\",\"vinf\",\"delta\",\"noise\"])"
   ]
  },
  {
   "cell_type": "code",
   "execution_count": 3,
   "metadata": {},
   "outputs": [
    {
     "data": {
      "text/html": [
       "<div>\n",
       "<style scoped>\n",
       "    .dataframe tbody tr th:only-of-type {\n",
       "        vertical-align: middle;\n",
       "    }\n",
       "\n",
       "    .dataframe tbody tr th {\n",
       "        vertical-align: top;\n",
       "    }\n",
       "\n",
       "    .dataframe thead th {\n",
       "        text-align: right;\n",
       "    }\n",
       "</style>\n",
       "<table border=\"1\" class=\"dataframe\">\n",
       "  <thead>\n",
       "    <tr style=\"text-align: right;\">\n",
       "      <th></th>\n",
       "      <th>frequency</th>\n",
       "      <th>aoa</th>\n",
       "      <th>chord</th>\n",
       "      <th>vinf</th>\n",
       "      <th>delta</th>\n",
       "      <th>noise</th>\n",
       "    </tr>\n",
       "  </thead>\n",
       "  <tbody>\n",
       "    <tr>\n",
       "      <th>0</th>\n",
       "      <td>800</td>\n",
       "      <td>0.0</td>\n",
       "      <td>0.3048</td>\n",
       "      <td>71.3</td>\n",
       "      <td>0.002663</td>\n",
       "      <td>126.201</td>\n",
       "    </tr>\n",
       "    <tr>\n",
       "      <th>1</th>\n",
       "      <td>1000</td>\n",
       "      <td>0.0</td>\n",
       "      <td>0.3048</td>\n",
       "      <td>71.3</td>\n",
       "      <td>0.002663</td>\n",
       "      <td>125.201</td>\n",
       "    </tr>\n",
       "    <tr>\n",
       "      <th>2</th>\n",
       "      <td>1250</td>\n",
       "      <td>0.0</td>\n",
       "      <td>0.3048</td>\n",
       "      <td>71.3</td>\n",
       "      <td>0.002663</td>\n",
       "      <td>125.951</td>\n",
       "    </tr>\n",
       "    <tr>\n",
       "      <th>3</th>\n",
       "      <td>1600</td>\n",
       "      <td>0.0</td>\n",
       "      <td>0.3048</td>\n",
       "      <td>71.3</td>\n",
       "      <td>0.002663</td>\n",
       "      <td>127.591</td>\n",
       "    </tr>\n",
       "    <tr>\n",
       "      <th>4</th>\n",
       "      <td>2000</td>\n",
       "      <td>0.0</td>\n",
       "      <td>0.3048</td>\n",
       "      <td>71.3</td>\n",
       "      <td>0.002663</td>\n",
       "      <td>127.461</td>\n",
       "    </tr>\n",
       "    <tr>\n",
       "      <th>...</th>\n",
       "      <td>...</td>\n",
       "      <td>...</td>\n",
       "      <td>...</td>\n",
       "      <td>...</td>\n",
       "      <td>...</td>\n",
       "      <td>...</td>\n",
       "    </tr>\n",
       "    <tr>\n",
       "      <th>1498</th>\n",
       "      <td>2500</td>\n",
       "      <td>15.6</td>\n",
       "      <td>0.1016</td>\n",
       "      <td>39.6</td>\n",
       "      <td>0.052849</td>\n",
       "      <td>110.264</td>\n",
       "    </tr>\n",
       "    <tr>\n",
       "      <th>1499</th>\n",
       "      <td>3150</td>\n",
       "      <td>15.6</td>\n",
       "      <td>0.1016</td>\n",
       "      <td>39.6</td>\n",
       "      <td>0.052849</td>\n",
       "      <td>109.254</td>\n",
       "    </tr>\n",
       "    <tr>\n",
       "      <th>1500</th>\n",
       "      <td>4000</td>\n",
       "      <td>15.6</td>\n",
       "      <td>0.1016</td>\n",
       "      <td>39.6</td>\n",
       "      <td>0.052849</td>\n",
       "      <td>106.604</td>\n",
       "    </tr>\n",
       "    <tr>\n",
       "      <th>1501</th>\n",
       "      <td>5000</td>\n",
       "      <td>15.6</td>\n",
       "      <td>0.1016</td>\n",
       "      <td>39.6</td>\n",
       "      <td>0.052849</td>\n",
       "      <td>106.224</td>\n",
       "    </tr>\n",
       "    <tr>\n",
       "      <th>1502</th>\n",
       "      <td>6300</td>\n",
       "      <td>15.6</td>\n",
       "      <td>0.1016</td>\n",
       "      <td>39.6</td>\n",
       "      <td>0.052849</td>\n",
       "      <td>104.204</td>\n",
       "    </tr>\n",
       "  </tbody>\n",
       "</table>\n",
       "<p>1503 rows × 6 columns</p>\n",
       "</div>"
      ],
      "text/plain": [
       "      frequency   aoa   chord  vinf     delta    noise\n",
       "0           800   0.0  0.3048  71.3  0.002663  126.201\n",
       "1          1000   0.0  0.3048  71.3  0.002663  125.201\n",
       "2          1250   0.0  0.3048  71.3  0.002663  125.951\n",
       "3          1600   0.0  0.3048  71.3  0.002663  127.591\n",
       "4          2000   0.0  0.3048  71.3  0.002663  127.461\n",
       "...         ...   ...     ...   ...       ...      ...\n",
       "1498       2500  15.6  0.1016  39.6  0.052849  110.264\n",
       "1499       3150  15.6  0.1016  39.6  0.052849  109.254\n",
       "1500       4000  15.6  0.1016  39.6  0.052849  106.604\n",
       "1501       5000  15.6  0.1016  39.6  0.052849  106.224\n",
       "1502       6300  15.6  0.1016  39.6  0.052849  104.204\n",
       "\n",
       "[1503 rows x 6 columns]"
      ]
     },
     "execution_count": 3,
     "metadata": {},
     "output_type": "execute_result"
    }
   ],
   "source": [
    "data"
   ]
  },
  {
   "cell_type": "code",
   "execution_count": 4,
   "metadata": {
    "colab": {},
    "colab_type": "code",
    "id": "tAWeDqbfFyKG"
   },
   "outputs": [],
   "source": [
    "features = ['frequency','aoa','chord','vinf','delta']\n",
    "target   = 'noise'\n",
    "Xorig = data[features]\n",
    "y = data[target]"
   ]
  },
  {
   "cell_type": "code",
   "execution_count": 5,
   "metadata": {},
   "outputs": [
    {
     "name": "stdout",
     "output_type": "stream",
     "text": [
      "(1503, 5) (1503,)\n"
     ]
    }
   ],
   "source": [
    "print(Xorig.shape, y.shape)"
   ]
  },
  {
   "cell_type": "markdown",
   "metadata": {
    "colab_type": "text",
    "id": "qZ-r4ggKFyKO"
   },
   "source": [
    "## Exploring the data"
   ]
  },
  {
   "cell_type": "markdown",
   "metadata": {
    "colab_type": "text",
    "id": "0jGvNgduFyKS"
   },
   "source": [
    "## Data cleaning"
   ]
  },
  {
   "cell_type": "code",
   "execution_count": 6,
   "metadata": {
    "colab": {},
    "colab_type": "code",
    "id": "bGobImYeFyKT"
   },
   "outputs": [],
   "source": [
    "nu = 1.568e-5 \n",
    "X = Xorig.copy()\n",
    "X['Re'] = X['chord']*X['vinf']/nu\n",
    "X=X.drop(columns=['chord','vinf'])\n",
    "#X['aoa'] = np.abs(X['aoa'])\n",
    "features = X.keys()"
   ]
  },
  {
   "cell_type": "code",
   "execution_count": 7,
   "metadata": {},
   "outputs": [
    {
     "data": {
      "image/png": "[encoded data removed]",
      "text/plain": [
       "<Figure size 432x288 with 1 Axes>"
      ]
     },
     "metadata": {
      "needs_background": "light"
     },
     "output_type": "display_data"
    },
    {
     "data": {
      "image/png": "[encoded data removed]",
      "text/plain": [
       "<Figure size 432x288 with 1 Axes>"
      ]
     },
     "metadata": {
      "needs_background": "light"
     },
     "output_type": "display_data"
    },
    {
     "data": {
      "image/png": "[encoded data removed]",
      "text/plain": [
       "<Figure size 432x288 with 1 Axes>"
      ]
     },
     "metadata": {
      "needs_background": "light"
     },
     "output_type": "display_data"
    },
    {
     "data": {
      "image/png": "[encoded data removed]",
      "text/plain": [
       "<Figure size 432x288 with 1 Axes>"
      ]
     },
     "metadata": {
      "needs_background": "light"
     },
     "output_type": "display_data"
    }
   ],
   "source": [
    "for i in range(4):\n",
    "    feature = features[i]\n",
    "    plt.plot(X[feature],y,'o')\n",
    "    plt.xlabel(feature)\n",
    "    plt.ylabel(target)\n",
    "    plt.show()"
   ]
  },
  {
   "cell_type": "markdown",
   "metadata": {
    "colab_type": "text",
    "id": "ZXaK7UjxFyKY"
   },
   "source": [
    "## Fitting some models!"
   ]
  },
  {
   "cell_type": "code",
   "execution_count": 20,
   "metadata": {
    "colab": {},
    "colab_type": "code",
    "id": "JYcR1uBKFyKY"
   },
   "outputs": [],
   "source": [
    "global X_train, X_test, y_train, y_test\n",
    "X_train, X_test, y_train, y_test = train_test_split(X, y, train_size=0.9,random_state=42)"
   ]
  },
  {
   "cell_type": "code",
   "execution_count": 21,
   "metadata": {
    "scrolled": true
   },
   "outputs": [
    {
     "name": "stdout",
     "output_type": "stream",
     "text": [
      "max_depth:0, min_samples_leaf:10, order:2, MAE:3.002848211588921\n",
      "max_depth:0, min_samples_leaf:10, order:3, MAE:2.4358071071547176\n",
      "max_depth:0, min_samples_leaf:10, order:4, MAE:1.832217313098462\n",
      "max_depth:0, min_samples_leaf:20, order:2, MAE:3.002848211588921\n",
      "max_depth:0, min_samples_leaf:20, order:3, MAE:2.4358071071547176\n",
      "max_depth:0, min_samples_leaf:20, order:4, MAE:1.832217313098462\n",
      "max_depth:0, min_samples_leaf:30, order:2, MAE:3.002848211588921\n",
      "max_depth:0, min_samples_leaf:30, order:3, MAE:2.4358071071547176\n",
      "max_depth:0, min_samples_leaf:30, order:4, MAE:1.832217313098462\n",
      "max_depth:0, min_samples_leaf:40, order:2, MAE:3.002848211588921\n",
      "max_depth:0, min_samples_leaf:40, order:3, MAE:2.4358071071547176\n",
      "max_depth:0, min_samples_leaf:40, order:4, MAE:1.832217313098462\n",
      "max_depth:0, min_samples_leaf:50, order:2, MAE:3.002848211588921\n",
      "max_depth:0, min_samples_leaf:50, order:3, MAE:2.4358071071547176\n",
      "max_depth:0, min_samples_leaf:50, order:4, MAE:1.832217313098462\n",
      "max_depth:1, min_samples_leaf:10, order:2, MAE:2.4679124736635742\n",
      "max_depth:1, min_samples_leaf:10, order:3, MAE:1.8118276845967487\n",
      "max_depth:1, min_samples_leaf:10, order:4, MAE:1.3311182853701897\n",
      "max_depth:1, min_samples_leaf:20, order:2, MAE:2.4679124736635742\n",
      "max_depth:1, min_samples_leaf:20, order:3, MAE:1.8118276845967487\n",
      "max_depth:1, min_samples_leaf:20, order:4, MAE:1.3311182853701897\n",
      "max_depth:1, min_samples_leaf:30, order:2, MAE:2.4679124736635742\n",
      "max_depth:1, min_samples_leaf:30, order:3, MAE:1.8118276845967487\n",
      "max_depth:1, min_samples_leaf:30, order:4, MAE:1.3311182853701897\n",
      "max_depth:1, min_samples_leaf:40, order:2, MAE:2.4679124736635742\n",
      "max_depth:1, min_samples_leaf:40, order:3, MAE:1.8118276845967487\n",
      "max_depth:1, min_samples_leaf:40, order:4, MAE:1.3311182853701897\n",
      "max_depth:1, min_samples_leaf:50, order:2, MAE:2.4679124736635742\n",
      "max_depth:1, min_samples_leaf:50, order:3, MAE:1.8118276845967487\n",
      "max_depth:1, min_samples_leaf:50, order:4, MAE:1.3311182853701897\n",
      "max_depth:2, min_samples_leaf:10, order:2, MAE:2.0530605995688522\n",
      "max_depth:2, min_samples_leaf:10, order:3, MAE:3.369069462671181\n",
      "max_depth:2, min_samples_leaf:10, order:4, MAE:1.955386506920716\n",
      "max_depth:2, min_samples_leaf:20, order:2, MAE:2.0530605995688522\n",
      "max_depth:2, min_samples_leaf:20, order:3, MAE:3.369069462671181\n",
      "max_depth:2, min_samples_leaf:20, order:4, MAE:1.955386506920716\n",
      "max_depth:2, min_samples_leaf:30, order:2, MAE:2.0360799094383504\n",
      "max_depth:2, min_samples_leaf:30, order:3, MAE:3.369069462671181\n",
      "max_depth:2, min_samples_leaf:30, order:4, MAE:1.955386506920716\n",
      "max_depth:2, min_samples_leaf:40, order:2, MAE:2.004167685635766\n",
      "max_depth:2, min_samples_leaf:40, order:3, MAE:3.369069462671181\n",
      "max_depth:2, min_samples_leaf:40, order:4, MAE:1.955386506920716\n",
      "max_depth:2, min_samples_leaf:50, order:2, MAE:1.9879561700555128\n",
      "max_depth:2, min_samples_leaf:50, order:3, MAE:3.122661881373642\n",
      "max_depth:2, min_samples_leaf:50, order:4, MAE:1.6348263417207072\n",
      "max_depth:3, min_samples_leaf:10, order:2, MAE:14.384058701929314\n",
      "max_depth:3, min_samples_leaf:10, order:3, MAE:16.185555234975922\n",
      "max_depth:3, min_samples_leaf:10, order:4, MAE:43.307190679012606\n",
      "max_depth:3, min_samples_leaf:20, order:2, MAE:1.3049345922370246\n",
      "max_depth:3, min_samples_leaf:20, order:3, MAE:4.08194622829608\n",
      "max_depth:3, min_samples_leaf:20, order:4, MAE:16.942494546606554\n",
      "max_depth:3, min_samples_leaf:30, order:2, MAE:1.6381286100720651\n",
      "max_depth:3, min_samples_leaf:30, order:3, MAE:9.21558300076566\n",
      "max_depth:3, min_samples_leaf:30, order:4, MAE:11.853692375564384\n",
      "max_depth:3, min_samples_leaf:40, order:2, MAE:1.7873607517966277\n",
      "max_depth:3, min_samples_leaf:40, order:3, MAE:5.9146642055774485\n",
      "max_depth:3, min_samples_leaf:40, order:4, MAE:30.02357234653255\n",
      "max_depth:3, min_samples_leaf:50, order:2, MAE:1.9380533335974768\n",
      "max_depth:3, min_samples_leaf:50, order:3, MAE:1.8197950617437972\n",
      "max_depth:3, min_samples_leaf:50, order:4, MAE:25.521776709222994\n",
      "max_depth:4, min_samples_leaf:10, order:2, MAE:14.443279529294475\n",
      "max_depth:4, min_samples_leaf:10, order:3, MAE:16.20610838425436\n",
      "max_depth:4, min_samples_leaf:10, order:4, MAE:44.90409800079578\n",
      "max_depth:4, min_samples_leaf:20, order:2, MAE:1.3049345922370246\n",
      "max_depth:4, min_samples_leaf:20, order:3, MAE:4.08194622829608\n",
      "max_depth:4, min_samples_leaf:20, order:4, MAE:16.942494546606554\n",
      "max_depth:4, min_samples_leaf:30, order:2, MAE:1.6381286100720651\n",
      "max_depth:4, min_samples_leaf:30, order:3, MAE:9.21558300076566\n",
      "max_depth:4, min_samples_leaf:30, order:4, MAE:11.853692375564384\n",
      "max_depth:4, min_samples_leaf:40, order:2, MAE:1.7873607517966277\n",
      "max_depth:4, min_samples_leaf:40, order:3, MAE:5.9146642055774485\n",
      "max_depth:4, min_samples_leaf:40, order:4, MAE:30.02357234653255\n",
      "max_depth:4, min_samples_leaf:50, order:2, MAE:1.9380533335974768\n",
      "max_depth:4, min_samples_leaf:50, order:3, MAE:1.8197950617437972\n",
      "max_depth:4, min_samples_leaf:50, order:4, MAE:25.521776709222994\n"
     ]
    }
   ],
   "source": [
    "from sklearn.preprocessing import StandardScaler,MinMaxScaler\n",
    "scaler = MinMaxScaler().fit(X_train)\n",
    "\n",
    "X_train_temp = scaler.transform(X_train)\n",
    "X_test_temp  = scaler.transform(X_test)\n",
    "\n",
    "y_train = y_train.to_numpy().reshape((y_train.shape[0],1))\n",
    "y_test = y_test.to_numpy().reshape((y_test.shape[0],1))\n",
    "\n",
    "for max_depth in range(0,5):\n",
    "    for min_samples_leaf in range(10, 60, 10):\n",
    "        for order in range(2, 5):\n",
    "            tree = polytree.PolyTree(max_depth=2**max_depth,min_samples_leaf=min_samples_leaf, order=order, basis='total-order')\n",
    "            tree.fit(X_train_temp, y_train)\n",
    "            print(\"max_depth:{}, min_samples_leaf:{}, order:{}, MAE:{}\".format(max_depth, min_samples_leaf, order, mean_absolute_error(y_test, tree.predict(X_test_temp))))"
   ]
  },
  {
   "cell_type": "markdown",
   "metadata": {
    "colab_type": "text",
    "id": "mcqBmFfkFyK6"
   },
   "source": [
    "### Orthogonal polynomials"
   ]
  },
  {
   "cell_type": "code",
   "execution_count": 16,
   "metadata": {},
   "outputs": [
    {
     "name": "stdout",
     "output_type": "stream",
     "text": [
      "Warning fitting of Poly failed: SVD did not converge in Linear Least Squares\n",
      "4 0.0 0.9999999999999999\n",
      "256\n",
      "256\n",
      "256\n",
      "256\n",
      "256\n",
      "256\n",
      "256\n",
      "256\n",
      "256\n",
      "256\n",
      "256\n",
      "256\n",
      "256\n",
      "256\n",
      "256\n",
      "256\n",
      "256\n",
      "256\n",
      "256\n",
      "256\n",
      "256\n",
      "256\n",
      "256\n",
      "256\n",
      "256\n",
      "256\n",
      "256\n",
      "256\n",
      "256\n",
      "256\n",
      "256\n",
      "256\n",
      "75.71141839027405\n",
      "35\n",
      "35\n",
      "35\n",
      "35\n",
      "35\n",
      "35\n",
      "35\n",
      "35\n",
      "35\n",
      "35\n",
      "35\n",
      "35\n",
      "35\n",
      "35\n",
      "35\n",
      "35\n",
      "35\n",
      "35\n",
      "35\n",
      "35\n",
      "35\n",
      "35\n",
      "35\n",
      "35\n",
      "35\n",
      "35\n",
      "35\n",
      "35\n",
      "35\n",
      "35\n",
      "35\n",
      "35\n",
      "32.86847496032715\n"
     ]
    }
   ],
   "source": [
    "import time\n",
    "start = time.time()\n",
    "tree = polytree.PolyTree()\n",
    "tree.fit(X_train_temp, y_train)\n",
    "for poly in tree.get_polys():\n",
    "    print(poly.basis.cardinality)\n",
    "print(time.time()-start)\n",
    "start = time.time()\n",
    "tree = polytree.PolyTree(basis='total-order')\n",
    "tree.fit(X_train_temp, y_train)\n",
    "for poly in tree.get_polys():\n",
    "    print(poly.basis.cardinality)\n",
    "print(time.time()-start)"
   ]
  },
  {
   "cell_type": "code",
   "execution_count": 10,
   "metadata": {
    "colab": {},
    "colab_type": "code",
    "id": "4DLvI3UrFyK7",
    "outputId": "d120c512-929b-47fe-bfea-3a9f89274742"
   },
   "outputs": [
    {
     "name": "stdout",
     "output_type": "stream",
     "text": [
      "3.0597625560176582\n"
     ]
    }
   ],
   "source": [
    "myparameters = [Parameter(distribution='uniform', lower=np.min(X_train_temp[f]), upper=np.max(X_train_temp.max()), order=3) for f in range(len(features))]\n",
    "#myparameters = [Parameter(distribution='custom', data=X_train_temp[f], order=3) for f in range(len(features))]\n",
    "mybasis = Basis('total-order')\n",
    "#mybasis = Basis('tensor-grid')\n",
    "#mybasis = Basis('euclidean-degree')\n",
    "#mybasis = Basis('hyperbolic-basis',q=0.9)\n",
    "#mybasis = Basis('sparse-grid', growth_rule='linear', level=2)\n",
    "method = 'least-squares'\n",
    "mypoly = Poly(parameters=myparameters, basis=mybasis, method=method, \\\n",
    "              sampling_args= {'mesh': 'user-defined', 'sample-points': X_train_temp, 'sample-outputs': y_train})\n",
    "mypoly.set_model()\n",
    "\n",
    "print(mean_absolute_error(y_test, mypoly.get_polyfit(X_test_temp)))"
   ]
  },
  {
   "cell_type": "code",
   "execution_count": 11,
   "metadata": {
    "colab": {},
    "colab_type": "code",
    "id": "QmEu8ycVFyK-",
    "outputId": "98b0b0a5-c6c3-4c23-fffd-13c2c26f4531"
   },
   "outputs": [
    {
     "data": {
      "image/png": "[encoded data removed]",
      "text/plain": [
       "<Figure size 432x288 with 1 Axes>"
      ]
     },
     "metadata": {
      "needs_background": "light"
     },
     "output_type": "display_data"
    }
   ],
   "source": [
    "y_pred_train = tree.predict(X_train_temp)\n",
    "y_pred_test  = tree.predict(X_test_temp)\n",
    "\n",
    "fig, ax = plt.subplots()\n",
    "fig.suptitle('Orthogonal polynomial regression with EQ')\n",
    "ax.plot(y_train,y_pred_train,'C0o',ms=8,mec='k',label='Train')\n",
    "ax.plot(y_test, y_pred_test ,'C3o',ms=8,mec='k',label='Test',alpha=0.5)\n",
    "ax.plot([0,150],[0,150],'k--')\n",
    "ax.set_xlabel('True SPL (dB)')\n",
    "ax.set_ylabel('Predicted SPL (dB)')\n",
    "ax.set_xlim([100,140])\n",
    "ax.set_ylim([100,140])\n",
    "ax.set_aspect(1)\n",
    "ax.legend()\n",
    "plt.show()"
   ]
  },
  {
   "cell_type": "markdown",
   "metadata": {
    "colab_type": "text",
    "id": "Rj9Od_FYFyLC"
   },
   "source": [
    "## Interpreting the models"
   ]
  },
  {
   "cell_type": "code",
   "execution_count": 12,
   "metadata": {
    "colab": {},
    "colab_type": "code",
    "id": "RDGW7Cq_FyLC"
   },
   "outputs": [
    {
     "data": {
      "text/plain": [
       "1382     630\n",
       "885     8000\n",
       "1024    6300\n",
       "240     4000\n",
       "513     1000\n",
       "        ... \n",
       "1130     250\n",
       "1294     800\n",
       "860      630\n",
       "1459     315\n",
       "1126    5000\n",
       "Name: frequency, Length: 1352, dtype: int64"
      ]
     },
     "execution_count": 12,
     "metadata": {},
     "output_type": "execute_result"
    }
   ],
   "source": [
    "X_train[\"frequency\"]"
   ]
  },
  {
   "cell_type": "markdown",
   "metadata": {
    "colab_type": "text",
    "id": "OyoCl0RsFyLJ"
   },
   "source": [
    "## Conclusions"
   ]
  },
  {
   "cell_type": "code",
   "execution_count": 13,
   "metadata": {
    "colab": {},
    "colab_type": "code",
    "id": "qqQafuIAFyLJ"
   },
   "outputs": [
    {
     "ename": "AttributeError",
     "evalue": "'DataFrame' object has no attribute 'isfinite'",
     "output_type": "error",
     "traceback": [
      "\u001b[0;31m---------------------------------------------------------------------------\u001b[0m",
      "\u001b[0;31mAttributeError\u001b[0m                            Traceback (most recent call last)",
      "\u001b[0;32m<ipython-input-13-0401b0e9a66e>\u001b[0m in \u001b[0;36m<module>\u001b[0;34m\u001b[0m\n\u001b[0;32m----> 1\u001b[0;31m \u001b[0mX\u001b[0m\u001b[0;34m.\u001b[0m\u001b[0misfinite\u001b[0m\u001b[0;34m(\u001b[0m\u001b[0;34m)\u001b[0m\u001b[0;34m.\u001b[0m\u001b[0mall\u001b[0m\u001b[0;34m(\u001b[0m\u001b[0;34m)\u001b[0m\u001b[0;34m\u001b[0m\u001b[0;34m\u001b[0m\u001b[0m\n\u001b[0m",
      "\u001b[0;32m/usr/local/lib/python3.8/dist-packages/pandas/core/generic.py\u001b[0m in \u001b[0;36m__getattr__\u001b[0;34m(self, name)\u001b[0m\n\u001b[1;32m   5272\u001b[0m             \u001b[0;32mif\u001b[0m \u001b[0mself\u001b[0m\u001b[0;34m.\u001b[0m\u001b[0m_info_axis\u001b[0m\u001b[0;34m.\u001b[0m\u001b[0m_can_hold_identifiers_and_holds_name\u001b[0m\u001b[0;34m(\u001b[0m\u001b[0mname\u001b[0m\u001b[0;34m)\u001b[0m\u001b[0;34m:\u001b[0m\u001b[0;34m\u001b[0m\u001b[0;34m\u001b[0m\u001b[0m\n\u001b[1;32m   5273\u001b[0m                 \u001b[0;32mreturn\u001b[0m \u001b[0mself\u001b[0m\u001b[0;34m[\u001b[0m\u001b[0mname\u001b[0m\u001b[0;34m]\u001b[0m\u001b[0;34m\u001b[0m\u001b[0;34m\u001b[0m\u001b[0m\n\u001b[0;32m-> 5274\u001b[0;31m             \u001b[0;32mreturn\u001b[0m \u001b[0mobject\u001b[0m\u001b[0;34m.\u001b[0m\u001b[0m__getattribute__\u001b[0m\u001b[0;34m(\u001b[0m\u001b[0mself\u001b[0m\u001b[0;34m,\u001b[0m \u001b[0mname\u001b[0m\u001b[0;34m)\u001b[0m\u001b[0;34m\u001b[0m\u001b[0;34m\u001b[0m\u001b[0m\n\u001b[0m\u001b[1;32m   5275\u001b[0m \u001b[0;34m\u001b[0m\u001b[0m\n\u001b[1;32m   5276\u001b[0m     \u001b[0;32mdef\u001b[0m \u001b[0m__setattr__\u001b[0m\u001b[0;34m(\u001b[0m\u001b[0mself\u001b[0m\u001b[0;34m,\u001b[0m \u001b[0mname\u001b[0m\u001b[0;34m:\u001b[0m \u001b[0mstr\u001b[0m\u001b[0;34m,\u001b[0m \u001b[0mvalue\u001b[0m\u001b[0;34m)\u001b[0m \u001b[0;34m->\u001b[0m \u001b[0;32mNone\u001b[0m\u001b[0;34m:\u001b[0m\u001b[0;34m\u001b[0m\u001b[0;34m\u001b[0m\u001b[0m\n",
      "\u001b[0;31mAttributeError\u001b[0m: 'DataFrame' object has no attribute 'isfinite'"
     ]
    }
   ],
   "source": [
    "X.isfinite().all()"
   ]
  },
  {
   "cell_type": "code",
   "execution_count": null,
   "metadata": {},
   "outputs": [],
   "source": [
    "y_train"
   ]
  },
  {
   "cell_type": "code",
   "execution_count": null,
   "metadata": {},
   "outputs": [],
   "source": []
  }
 ],
 "metadata": {
  "colab": {
   "name": "aerofoil_noise.ipynb",
   "provenance": []
  },
  "kernelspec": {
   "display_name": "Python 3",
   "language": "python",
   "name": "python3"
  },
  "language_info": {
   "codemirror_mode": {
    "name": "ipython",
    "version": 3
   },
   "file_extension": ".py",
   "mimetype": "text/x-python",
   "name": "python",
   "nbconvert_exporter": "python",
   "pygments_lexer": "ipython3",
   "version": "3.8.2"
  }
 },
 "nbformat": 4,
 "nbformat_minor": 1
}
